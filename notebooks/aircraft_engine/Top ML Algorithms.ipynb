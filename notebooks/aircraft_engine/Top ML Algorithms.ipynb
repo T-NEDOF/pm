{
 "cells": [
  {
   "cell_type": "markdown",
   "metadata": {},
   "source": [
    "# Essentials of Machine Learning Algorithms\n",
    "\n",
    "This notebook is used to showed basic machine learning algorithms.\n",
    "<br>Summary over each algorithm get from [here](https://www.analyticsvidhya.com/blog/2017/09/common-machine-learning-algorithms/)\n"
   ]
  },
  {
   "cell_type": "code",
   "execution_count": null,
   "metadata": {},
   "outputs": [],
   "source": [
    "# Auto-generated table of content\n",
    "from jyquickhelper import add_notebook_menu\n",
    "add_notebook_menu(last_level=3)"
   ]
  },
  {
   "cell_type": "markdown",
   "metadata": {},
   "source": [
    "## Machine Learning Algorithm Types\n",
    "### 1. Supervised Learning\n",
    "\n",
    "This algorithm consist of a **target/outcome** variable (or dependent variable) which is to be predicted from a given set of predictors (independent variables). Using these set of variables, **we generate a function that map inputs to desired outputs**. The training process continues until the model achieves a desired level of accuracy on the training data. Examples of Supervised Learning: Regression, Decision Tree, Random Forest, KNN, Logistic Regression etc.\n",
    "\n",
    "### 2. Unsupervised Learning\n",
    "In this algorithm, we **do not have any target/outcome** variable to predict/estimate.  It is used for clustering population in different groups, which is widely used for segmenting customers in different groups for specific intervention. Examples of Unsupervised Learning: Apriori algorithm, K-means.\n",
    "\n",
    "### 3. Reinforcement Learning\n",
    "Using this algorithm, the machine is trained to make specific decisions. It works this way: the **machine is exposed to an environment where it trains itself continually using trial and error**. This machine learns from past experience and tries to capture the best possible knowledge to make accurate business decisions. Example of Reinforcement Learning: Markov Decision Process"
   ]
  },
  {
   "cell_type": "markdown",
   "metadata": {},
   "source": [
    "## Common Machine Learning Algorithms\n",
    "Here is the list of commonly used machine learning algorithms. These algorithms can be applied to almost any data problem:\n",
    "\n",
    "1. Linear Regression\n",
    "2. Logistic Regression\n",
    "3. Decision Tree\n",
    "4. SVM\n",
    "5. Naive Bayes\n",
    "6. kNN\n",
    "7. K-Means\n",
    "8. Random Forest\n",
    "9. Dimensionality Reduction Algorithms\n",
    "10. Gradient Boosting algorithms<br>\n",
    "    a. GBM<br>\n",
    "    b. XGBoost<br>\n",
    "    c. LightGBM<br>\n",
    "    d. CatBoost<br>\n",
    "\n",
    "Below are algorithm descriptions with code\n"
   ]
  },
  {
   "cell_type": "code",
   "execution_count": 4,
   "metadata": {},
   "outputs": [],
   "source": [
    "import numpy as np   # math library\n",
    "import pandas as pd  # dataframe library "
   ]
  },
  {
   "cell_type": "code",
   "execution_count": 5,
   "metadata": {},
   "outputs": [],
   "source": [
    "# libraries for visualization\n",
    "import matplotlib.pyplot as plt\n",
    "import seaborn as sns \n",
    "\n",
    "%matplotlib inline"
   ]
  },
  {
   "cell_type": "markdown",
   "metadata": {},
   "source": [
    "## 1. Linear Regression\n",
    "It is used to estimate real values (cost of houses, number of calls, total sales etc.) based on continuous variable(s). Here, we **establish relationship** between **independent** and **dependent variables** by **fitting a best line**. This best fit line is known as regression line and represented by a linear equation\n",
    "\n",
    "$$Y= a\\cdot X + b\\tag{1.1}$$\n",
    "\n",
    "*The best way to understand linear regression is to relive this experience of childhood. Let us say, you ask a child in fifth grade to arrange people in his class by increasing order of weight, without asking them their weights! What do you think the child will do? He/she would likely look (visually analyze) at the height and build of people and arrange them using a combination of these visible parameters. This is linear regression in real life! The child has actually figured out that height and build would be correlated to the weight by a relationship, which looks like the equation above.*\n",
    "\n",
    "In equation (1.1):\n",
    "\n",
    "- $Y$ – Dependent Variable\n",
    "- $a$ – Slope/Coefficient\n",
    "- $X$ – Independent variable\n",
    "- $b$ – Intercept/Bias\n",
    "\n",
    "These coefficients $a$ and $b$ are derived based on **minimizing the sum of squared difference of distance** between data points $Y$ and regression line $\\hat{Y}$:\n",
    "\n",
    "$$\\sum(\\hat{Y}-Y)^2\\tag{1.2}$$\n",
    "\n",
    "Look at the below example. Here we have identified the best fit line having linear equation $y=0.2811x+13.9$. Now using this equation, we can find the weight, knowing the height of a person.\n",
    "![](https://www.analyticsvidhya.com/wp-content/uploads/2015/08/Linear_Regression.png)\n",
    "\n",
    "Linear Regression is of mainly two types: **Simple** Linear Regression and **Multiple** Linear Regression. Simple Linear Regression is characterized by **one independent** variable. And, Multiple Linear Regression(as the name suggests) is characterized by **multiple** (more than 1) **independent** variables. While finding best fit line, you can fit a polynomial or curvilinear regression. And these are known as polynomial or curvilinear regression."
   ]
  },
  {
   "cell_type": "markdown",
   "metadata": {},
   "source": [
    "### 1.1 Simple Linear Regression"
   ]
  },
  {
   "cell_type": "code",
   "execution_count": 6,
   "metadata": {},
   "outputs": [],
   "source": [
    "# Import Library\n",
    "# Import other necessary libraries like pandas, numpy...\n",
    "from sklearn import linear_model\n",
    "from sklearn.metrics import mean_squared_error\n",
    "from sklearn.model_selection import train_test_split"
   ]
  },
  {
   "cell_type": "code",
   "execution_count": 7,
   "metadata": {},
   "outputs": [
    {
     "data": {
      "text/plain": [
       "array([[ 3.00000000e-01],\n",
       "       [ 1.70000000e+00],\n",
       "       [-2.65000000e+00],\n",
       "       [ 7.50000000e-01],\n",
       "       [ 8.00000000e+00],\n",
       "       [ 4.35000000e+00],\n",
       "       [ 7.10000000e+00],\n",
       "       [-1.10000000e+00],\n",
       "       [ 2.65000000e+00],\n",
       "       [-2.55000000e+00],\n",
       "       [-2.00000000e-01],\n",
       "       [ 2.85000000e+00],\n",
       "       [ 6.50000000e+00],\n",
       "       [ 4.75000000e+00],\n",
       "       [ 5.00000000e+00],\n",
       "       [-1.45000000e+00],\n",
       "       [-3.35000000e+00],\n",
       "       [-3.45000000e+00],\n",
       "       [ 1.20000000e+00],\n",
       "       [ 9.00000000e+00],\n",
       "       [-4.85000000e+00],\n",
       "       [ 9.80000000e+00],\n",
       "       [ 9.95000000e+00],\n",
       "       [-2.50000000e+00],\n",
       "       [ 2.50000000e-01],\n",
       "       [-1.40000000e+00],\n",
       "       [-1.15000000e+00],\n",
       "       [ 1.40000000e+00],\n",
       "       [-4.20000000e+00],\n",
       "       [ 6.05000000e+00],\n",
       "       [ 8.10000000e+00],\n",
       "       [ 4.20000000e+00],\n",
       "       [ 9.35000000e+00],\n",
       "       [ 1.10000000e+00],\n",
       "       [-3.90000000e+00],\n",
       "       [ 8.15000000e+00],\n",
       "       [ 2.75000000e+00],\n",
       "       [ 1.45000000e+00],\n",
       "       [-3.00000000e-01],\n",
       "       [ 8.30000000e+00],\n",
       "       [-1.00000000e+00],\n",
       "       [ 8.65000000e+00],\n",
       "       [-4.75000000e+00],\n",
       "       [-2.30000000e+00],\n",
       "       [-4.00000000e+00],\n",
       "       [ 3.75000000e+00],\n",
       "       [ 8.25000000e+00],\n",
       "       [ 4.50000000e+00],\n",
       "       [-1.50000000e-01],\n",
       "       [ 9.85000000e+00],\n",
       "       [-1.20000000e+00],\n",
       "       [ 1.00000000e+00],\n",
       "       [ 6.40000000e+00],\n",
       "       [-2.10000000e+00],\n",
       "       [ 5.85000000e+00],\n",
       "       [-6.00000000e-01],\n",
       "       [-1.90000000e+00],\n",
       "       [-3.75000000e+00],\n",
       "       [-8.00000000e-01],\n",
       "       [-4.50000000e+00],\n",
       "       [ 3.40000000e+00],\n",
       "       [ 5.00000000e-01],\n",
       "       [ 9.60000000e+00],\n",
       "       [-4.15000000e+00],\n",
       "       [ 5.90000000e+00],\n",
       "       [ 2.80000000e+00],\n",
       "       [-3.40000000e+00],\n",
       "       [ 9.50000000e-01],\n",
       "       [ 9.00000000e-01],\n",
       "       [ 6.25000000e+00],\n",
       "       [ 5.95000000e+00],\n",
       "       [-3.55000000e+00],\n",
       "       [ 4.15000000e+00],\n",
       "       [-4.55000000e+00],\n",
       "       [ 9.40000000e+00],\n",
       "       [ 7.00000000e-01],\n",
       "       [-9.50000000e-01],\n",
       "       [ 3.95000000e+00],\n",
       "       [-3.30000000e+00],\n",
       "       [-2.75000000e+00],\n",
       "       [-3.00000000e+00],\n",
       "       [-1.77635684e-14],\n",
       "       [-3.65000000e+00],\n",
       "       [-2.05000000e+00],\n",
       "       [ 7.35000000e+00],\n",
       "       [ 5.10000000e+00],\n",
       "       [ 8.85000000e+00],\n",
       "       [ 6.35000000e+00],\n",
       "       [-4.65000000e+00],\n",
       "       [ 9.25000000e+00],\n",
       "       [ 5.00000000e-02],\n",
       "       [-4.25000000e+00],\n",
       "       [ 7.00000000e+00],\n",
       "       [-4.45000000e+00],\n",
       "       [ 8.05000000e+00],\n",
       "       [-4.90000000e+00],\n",
       "       [ 6.55000000e+00],\n",
       "       [-2.35000000e+00],\n",
       "       [ 7.85000000e+00],\n",
       "       [ 5.40000000e+00],\n",
       "       [ 5.50000000e+00],\n",
       "       [ 2.10000000e+00],\n",
       "       [-4.35000000e+00],\n",
       "       [-2.60000000e+00],\n",
       "       [ 3.70000000e+00],\n",
       "       [ 7.20000000e+00],\n",
       "       [-4.05000000e+00],\n",
       "       [ 2.30000000e+00],\n",
       "       [ 9.90000000e+00],\n",
       "       [ 8.50000000e-01],\n",
       "       [-1.05000000e+00],\n",
       "       [ 2.40000000e+00],\n",
       "       [-2.70000000e+00],\n",
       "       [ 4.60000000e+00],\n",
       "       [ 8.75000000e+00],\n",
       "       [ 2.95000000e+00],\n",
       "       [ 4.85000000e+00],\n",
       "       [-2.85000000e+00],\n",
       "       [ 4.90000000e+00],\n",
       "       [ 1.65000000e+00],\n",
       "       [ 8.00000000e-01],\n",
       "       [ 7.60000000e+00],\n",
       "       [ 3.00000000e+00],\n",
       "       [-2.25000000e+00],\n",
       "       [ 2.60000000e+00],\n",
       "       [ 6.00000000e-01],\n",
       "       [-4.50000000e-01],\n",
       "       [ 1.50000000e+00],\n",
       "       [-5.00000000e+00],\n",
       "       [ 8.50000000e+00],\n",
       "       [ 2.00000000e-01],\n",
       "       [ 1.30000000e+00],\n",
       "       [-2.00000000e+00],\n",
       "       [ 2.35000000e+00],\n",
       "       [-2.15000000e+00],\n",
       "       [ 4.95000000e+00],\n",
       "       [ 6.65000000e+00],\n",
       "       [ 3.60000000e+00],\n",
       "       [ 4.70000000e+00],\n",
       "       [ 1.25000000e+00],\n",
       "       [ 7.95000000e+00],\n",
       "       [ 5.45000000e+00],\n",
       "       [-5.50000000e-01],\n",
       "       [ 5.05000000e+00],\n",
       "       [-5.00000000e-01],\n",
       "       [ 7.70000000e+00],\n",
       "       [ 4.05000000e+00],\n",
       "       [ 3.50000000e-01],\n",
       "       [ 4.40000000e+00],\n",
       "       [ 8.80000000e+00],\n",
       "       [ 2.90000000e+00],\n",
       "       [-1.55000000e+00],\n",
       "       [ 9.65000000e+00],\n",
       "       [ 1.55000000e+00],\n",
       "       [-2.80000000e+00],\n",
       "       [-1.50000000e+00],\n",
       "       [ 6.85000000e+00],\n",
       "       [-7.50000000e-01],\n",
       "       [-1.80000000e+00],\n",
       "       [ 7.90000000e+00],\n",
       "       [ 1.75000000e+00],\n",
       "       [-9.00000000e-01],\n",
       "       [ 3.25000000e+00],\n",
       "       [ 3.20000000e+00],\n",
       "       [-3.60000000e+00],\n",
       "       [-4.80000000e+00],\n",
       "       [ 4.65000000e+00],\n",
       "       [ 7.55000000e+00],\n",
       "       [-3.70000000e+00],\n",
       "       [ 3.85000000e+00],\n",
       "       [ 1.80000000e+00],\n",
       "       [ 3.45000000e+00],\n",
       "       [ 3.35000000e+00],\n",
       "       [ 2.00000000e+00],\n",
       "       [ 3.65000000e+00],\n",
       "       [-4.70000000e+00],\n",
       "       [ 6.45000000e+00],\n",
       "       [ 2.20000000e+00],\n",
       "       [ 6.75000000e+00],\n",
       "       [ 7.75000000e+00],\n",
       "       [-1.35000000e+00],\n",
       "       [-4.60000000e+00],\n",
       "       [ 9.05000000e+00],\n",
       "       [ 6.90000000e+00],\n",
       "       [ 2.25000000e+00],\n",
       "       [-1.30000000e+00],\n",
       "       [ 6.70000000e+00],\n",
       "       [ 6.00000000e+00],\n",
       "       [ 5.70000000e+00],\n",
       "       [ 3.10000000e+00],\n",
       "       [ 1.60000000e+00],\n",
       "       [ 1.05000000e+00],\n",
       "       [ 8.45000000e+00],\n",
       "       [ 2.05000000e+00],\n",
       "       [ 3.30000000e+00],\n",
       "       [ 4.25000000e+00],\n",
       "       [-2.95000000e+00],\n",
       "       [ 4.00000000e+00],\n",
       "       [ 4.00000000e-01],\n",
       "       [-3.10000000e+00],\n",
       "       [-2.20000000e+00],\n",
       "       [ 9.30000000e+00],\n",
       "       [ 9.50000000e+00],\n",
       "       [-2.40000000e+00],\n",
       "       [-3.80000000e+00],\n",
       "       [ 9.70000000e+00],\n",
       "       [-1.60000000e+00],\n",
       "       [ 2.15000000e+00],\n",
       "       [-2.45000000e+00],\n",
       "       [ 6.10000000e+00],\n",
       "       [ 5.25000000e+00],\n",
       "       [ 8.20000000e+00],\n",
       "       [-1.25000000e+00],\n",
       "       [ 6.60000000e+00],\n",
       "       [-5.00000000e-02],\n",
       "       [ 9.75000000e+00],\n",
       "       [-4.10000000e+00],\n",
       "       [ 4.30000000e+00],\n",
       "       [ 9.10000000e+00],\n",
       "       [-8.50000000e-01],\n",
       "       [-1.95000000e+00],\n",
       "       [ 8.60000000e+00],\n",
       "       [ 5.80000000e+00],\n",
       "       [ 8.90000000e+00],\n",
       "       [-4.40000000e+00],\n",
       "       [ 4.10000000e+00],\n",
       "       [ 8.35000000e+00],\n",
       "       [-3.20000000e+00],\n",
       "       [ 6.15000000e+00],\n",
       "       [ 4.45000000e+00],\n",
       "       [ 2.50000000e+00],\n",
       "       [ 2.55000000e+00],\n",
       "       [-2.50000000e-01],\n",
       "       [-3.25000000e+00],\n",
       "       [-1.00000000e-01],\n",
       "       [ 3.80000000e+00],\n",
       "       [ 6.30000000e+00],\n",
       "       [ 4.55000000e+00],\n",
       "       [ 3.15000000e+00],\n",
       "       [ 7.40000000e+00]])"
      ]
     },
     "execution_count": 7,
     "metadata": {},
     "output_type": "execute_result"
    }
   ],
   "source": [
    "# Load Train and Test datasets\n",
    "# We do it by generation\n",
    "\n",
    "# independent variable\n",
    "X = np.arange(-5, 10, 0.05)\n",
    "\n",
    "# true value\n",
    "Y = 2*X + 3\n",
    "\n",
    "# noise\n",
    "np.random.seed(42)\n",
    "Z = np.random.normal(size=len(X))\n",
    "\n",
    "# add noise to true value\n",
    "Y_true = Y + Z\n",
    "\n",
    "# reshape for model\n",
    "X = X.reshape(-1, 1)\n",
    "Y_true = Y_true.reshape(-1, 1)\n",
    "\n",
    "# split to train/test dataset\n",
    "X_train, X_test, Y_train, Y_test = train_test_split(X, Y_true,test_size=0.2)\n",
    "X_train"
   ]
  },
  {
   "cell_type": "code",
   "execution_count": 8,
   "metadata": {},
   "outputs": [
    {
     "data": {
      "text/plain": [
       "0.9874635382351062"
      ]
     },
     "execution_count": 8,
     "metadata": {},
     "output_type": "execute_result"
    }
   ],
   "source": [
    "# Create linear regression object\n",
    "linear = linear_model.LinearRegression()\n",
    "\n",
    "# Train the model using the training sets and check R^2 score\n",
    "linear.fit(X_train, Y_train)\n",
    "linear.score(X_train, Y_train) # 0.9874635382351064"
   ]
  },
  {
   "cell_type": "code",
   "execution_count": 9,
   "metadata": {},
   "outputs": [
    {
     "name": "stdout",
     "output_type": "stream",
     "text": [
      "Coefficient: [[2.01253793]] ~2\n",
      "Intercept/Bias: [2.99408485] ~3\n",
      "Linear model: Y = 2.01253793091767X + 2.9940848471693444\n"
     ]
    }
   ],
   "source": [
    "# Equation coefficient and Intercept\n",
    "print('Coefficient:', linear.coef_, '~2')\n",
    "print('Intercept/Bias:', linear.intercept_, '~3')\n",
    "print('Linear model:', 'Y = '+str(linear.coef_[0][0])+'X + '+str(linear.intercept_[0]))"
   ]
  },
  {
   "cell_type": "code",
   "execution_count": 10,
   "metadata": {},
   "outputs": [
    {
     "name": "stdout",
     "output_type": "stream",
     "text": [
      "Mean squared error on train set: 0.9655915183765666\n",
      "Mean squared error on test set: 0.9518984871189602\n"
     ]
    }
   ],
   "source": [
    "# calculate mean squared error on train/test dataset\n",
    "# train set\n",
    "Y_train_hat = linear.predict(X_train)\n",
    "mse_train = mean_squared_error(y_true=Y_train, y_pred=Y_train_hat)\n",
    "print('Mean squared error on train set:', mse_train)  # 0.9655915183765666\n",
    "\n",
    "Y_test_hat = linear.predict(X_test)\n",
    "mse_test = mean_squared_error(y_true=Y_test, y_pred=Y_test_hat)\n",
    "print('Mean squared error on test set:', mse_test)  # 0.9518984871189602"
   ]
  },
  {
   "cell_type": "code",
   "execution_count": 11,
   "metadata": {},
   "outputs": [
    {
     "data": {
      "image/png": "[encoded data removed]",
      "text/plain": [
       "<Figure size 504x360 with 1 Axes>"
      ]
     },
     "metadata": {
      "needs_background": "light"
     },
     "output_type": "display_data"
    }
   ],
   "source": [
    "# visualization results\n",
    "plt.figure(figsize=(7,5))\n",
    "plt.scatter(x=X_train, y=Y_train, s=2, c='darkblue',label='True label')\n",
    "plt.plot(X_train, Y_train_hat, c='darkred', linewidth=2, label='Regression model')\n",
    "plt.legend()\n",
    "plt.grid(True)"
   ]
  },
  {
   "cell_type": "markdown",
   "metadata": {},
   "source": [
    "### 1.2 Multiple Linear Regression\n",
    "with Boston Housing Dataset"
   ]
  },
  {
   "cell_type": "code",
   "execution_count": 12,
   "metadata": {},
   "outputs": [],
   "source": [
    "# load the data\n",
    "from sklearn.datasets import load_boston\n",
    "boston_dataset = load_boston()"
   ]
  },
  {
   "cell_type": "code",
   "execution_count": 13,
   "metadata": {},
   "outputs": [
    {
     "data": {
      "text/plain": [
       "sklearn.utils.Bunch"
      ]
     },
     "execution_count": 13,
     "metadata": {},
     "output_type": "execute_result"
    }
   ],
   "source": [
    "# see type of dataset\n",
    "type(boston_dataset)"
   ]
  },
  {
   "cell_type": "code",
   "execution_count": 14,
   "metadata": {},
   "outputs": [
    {
     "data": {
      "text/plain": [
       "dict_keys(['data', 'target', 'feature_names', 'DESCR', 'filename'])"
      ]
     },
     "execution_count": 14,
     "metadata": {},
     "output_type": "execute_result"
    }
   ],
   "source": [
    "# print the keys\n",
    "boston_dataset.keys()"
   ]
  },
  {
   "cell_type": "code",
   "execution_count": 15,
   "metadata": {
    "scrolled": true
   },
   "outputs": [
    {
     "name": "stdout",
     "output_type": "stream",
     "text": [
      ".. _boston_dataset:\n",
      "\n",
      "Boston house prices dataset\n",
      "---------------------------\n",
      "\n",
      "**Data Set Characteristics:**  \n",
      "\n",
      "    :Number of Instances: 506 \n",
      "\n",
      "    :Number of Attributes: 13 numeric/categorical predictive. Median Value (attribute 14) is usually the target.\n",
      "\n",
      "    :Attribute Information (in order):\n",
      "        - CRIM     per capita crime rate by town\n",
      "        - ZN       proportion of residential land zoned for lots over 25,000 sq.ft.\n",
      "        - INDUS    proportion of non-retail business acres per town\n",
      "        - CHAS     Charles River dummy variable (= 1 if tract bounds river; 0 otherwise)\n",
      "        - NOX      nitric oxides concentration (parts per 10 million)\n",
      "        - RM       average number of rooms per dwelling\n",
      "        - AGE      proportion of owner-occupied units built prior to 1940\n",
      "        - DIS      weighted distances to five Boston employment centres\n",
      "        - RAD      index of accessibility to radial highways\n",
      "        - TAX      full-value property-tax rate per $10,000\n",
      "        - PTRATIO  pupil-teacher ratio by town\n",
      "        - B        1000(Bk - 0.63)^2 where Bk is the proportion of blacks by town\n",
      "        - LSTAT    % lower status of the population\n",
      "        - MEDV     Median value of owner-occupied homes in $1000's\n",
      "\n",
      "    :Missing Attribute Values: None\n",
      "\n",
      "    :Creator: Harrison, D. and Rubinfeld, D.L.\n",
      "\n",
      "This is a copy of UCI ML housing dataset.\n",
      "https://archive.ics.uci.edu/ml/machine-learning-databases/housing/\n",
      "\n",
      "\n",
      "This dataset was taken from the StatLib library which is maintained at Carnegie Mellon University.\n",
      "\n",
      "The Boston house-price data of Harrison, D. and Rubinfeld, D.L. 'Hedonic\n",
      "prices and the demand for clean air', J. Environ. Economics & Management,\n",
      "vol.5, 81-102, 1978.   Used in Belsley, Kuh & Welsch, 'Regression diagnostics\n",
      "...', Wiley, 1980.   N.B. Various transformations are used in the table on\n",
      "pages 244-261 of the latter.\n",
      "\n",
      "The Boston house-price data has been used in many machine learning papers that address regression\n",
      "problems.   \n",
      "     \n",
      ".. topic:: References\n",
      "\n",
      "   - Belsley, Kuh & Welsch, 'Regression diagnostics: Identifying Influential Data and Sources of Collinearity', Wiley, 1980. 244-261.\n",
      "   - Quinlan,R. (1993). Combining Instance-Based and Model-Based Learning. In Proceedings on the Tenth International Conference of Machine Learning, 236-243, University of Massachusetts, Amherst. Morgan Kaufmann.\n",
      "\n"
     ]
    }
   ],
   "source": [
    "# see each part\n",
    "# Description\n",
    "print(boston_dataset['DESCR'])"
   ]
  },
  {
   "cell_type": "code",
   "execution_count": 16,
   "metadata": {},
   "outputs": [
    {
     "name": "stdout",
     "output_type": "stream",
     "text": [
      "['CRIM' 'ZN' 'INDUS' 'CHAS' 'NOX' 'RM' 'AGE' 'DIS' 'RAD' 'TAX' 'PTRATIO'\n",
      " 'B' 'LSTAT']\n"
     ]
    }
   ],
   "source": [
    "# feature names\n",
    "print(boston_dataset.feature_names)  # see the description for more information"
   ]
  },
  {
   "cell_type": "code",
   "execution_count": 17,
   "metadata": {},
   "outputs": [
    {
     "data": {
      "text/plain": [
       "numpy.ndarray"
      ]
     },
     "execution_count": 17,
     "metadata": {},
     "output_type": "execute_result"
    }
   ],
   "source": [
    "# data and target\n",
    "type(boston_dataset.data)"
   ]
  },
  {
   "cell_type": "code",
   "execution_count": 18,
   "metadata": {},
   "outputs": [
    {
     "data": {
      "text/plain": [
       "(506, 13)"
      ]
     },
     "execution_count": 18,
     "metadata": {},
     "output_type": "execute_result"
    }
   ],
   "source": [
    "boston_dataset.data.shape\n",
    "# 506 rows and 13 columns"
   ]
  },
  {
   "cell_type": "code",
   "execution_count": 19,
   "metadata": {},
   "outputs": [
    {
     "data": {
      "text/plain": [
       "(506,)"
      ]
     },
     "execution_count": 19,
     "metadata": {},
     "output_type": "execute_result"
    }
   ],
   "source": [
    "boston_dataset.target.shape\n",
    "# 506 items"
   ]
  },
  {
   "cell_type": "code",
   "execution_count": 20,
   "metadata": {},
   "outputs": [
    {
     "data": {
      "text/html": [
       "<div>\n",
       "<style scoped>\n",
       "    .dataframe tbody tr th:only-of-type {\n",
       "        vertical-align: middle;\n",
       "    }\n",
       "\n",
       "    .dataframe tbody tr th {\n",
       "        vertical-align: top;\n",
       "    }\n",
       "\n",
       "    .dataframe thead th {\n",
       "        text-align: right;\n",
       "    }\n",
       "</style>\n",
       "<table border=\"1\" class=\"dataframe\">\n",
       "  <thead>\n",
       "    <tr style=\"text-align: right;\">\n",
       "      <th></th>\n",
       "      <th>CRIM</th>\n",
       "      <th>ZN</th>\n",
       "      <th>INDUS</th>\n",
       "      <th>CHAS</th>\n",
       "      <th>NOX</th>\n",
       "      <th>RM</th>\n",
       "      <th>AGE</th>\n",
       "      <th>DIS</th>\n",
       "      <th>RAD</th>\n",
       "      <th>TAX</th>\n",
       "      <th>PTRATIO</th>\n",
       "      <th>B</th>\n",
       "      <th>LSTAT</th>\n",
       "      <th>PRICE</th>\n",
       "    </tr>\n",
       "  </thead>\n",
       "  <tbody>\n",
       "    <tr>\n",
       "      <th>0</th>\n",
       "      <td>0.00632</td>\n",
       "      <td>18.0</td>\n",
       "      <td>2.31</td>\n",
       "      <td>0.0</td>\n",
       "      <td>0.538</td>\n",
       "      <td>6.575</td>\n",
       "      <td>65.2</td>\n",
       "      <td>4.0900</td>\n",
       "      <td>1.0</td>\n",
       "      <td>296.0</td>\n",
       "      <td>15.3</td>\n",
       "      <td>396.90</td>\n",
       "      <td>4.98</td>\n",
       "      <td>24.0</td>\n",
       "    </tr>\n",
       "    <tr>\n",
       "      <th>1</th>\n",
       "      <td>0.02731</td>\n",
       "      <td>0.0</td>\n",
       "      <td>7.07</td>\n",
       "      <td>0.0</td>\n",
       "      <td>0.469</td>\n",
       "      <td>6.421</td>\n",
       "      <td>78.9</td>\n",
       "      <td>4.9671</td>\n",
       "      <td>2.0</td>\n",
       "      <td>242.0</td>\n",
       "      <td>17.8</td>\n",
       "      <td>396.90</td>\n",
       "      <td>9.14</td>\n",
       "      <td>21.6</td>\n",
       "    </tr>\n",
       "    <tr>\n",
       "      <th>2</th>\n",
       "      <td>0.02729</td>\n",
       "      <td>0.0</td>\n",
       "      <td>7.07</td>\n",
       "      <td>0.0</td>\n",
       "      <td>0.469</td>\n",
       "      <td>7.185</td>\n",
       "      <td>61.1</td>\n",
       "      <td>4.9671</td>\n",
       "      <td>2.0</td>\n",
       "      <td>242.0</td>\n",
       "      <td>17.8</td>\n",
       "      <td>392.83</td>\n",
       "      <td>4.03</td>\n",
       "      <td>34.7</td>\n",
       "    </tr>\n",
       "    <tr>\n",
       "      <th>3</th>\n",
       "      <td>0.03237</td>\n",
       "      <td>0.0</td>\n",
       "      <td>2.18</td>\n",
       "      <td>0.0</td>\n",
       "      <td>0.458</td>\n",
       "      <td>6.998</td>\n",
       "      <td>45.8</td>\n",
       "      <td>6.0622</td>\n",
       "      <td>3.0</td>\n",
       "      <td>222.0</td>\n",
       "      <td>18.7</td>\n",
       "      <td>394.63</td>\n",
       "      <td>2.94</td>\n",
       "      <td>33.4</td>\n",
       "    </tr>\n",
       "    <tr>\n",
       "      <th>4</th>\n",
       "      <td>0.06905</td>\n",
       "      <td>0.0</td>\n",
       "      <td>2.18</td>\n",
       "      <td>0.0</td>\n",
       "      <td>0.458</td>\n",
       "      <td>7.147</td>\n",
       "      <td>54.2</td>\n",
       "      <td>6.0622</td>\n",
       "      <td>3.0</td>\n",
       "      <td>222.0</td>\n",
       "      <td>18.7</td>\n",
       "      <td>396.90</td>\n",
       "      <td>5.33</td>\n",
       "      <td>36.2</td>\n",
       "    </tr>\n",
       "    <tr>\n",
       "      <th>...</th>\n",
       "      <td>...</td>\n",
       "      <td>...</td>\n",
       "      <td>...</td>\n",
       "      <td>...</td>\n",
       "      <td>...</td>\n",
       "      <td>...</td>\n",
       "      <td>...</td>\n",
       "      <td>...</td>\n",
       "      <td>...</td>\n",
       "      <td>...</td>\n",
       "      <td>...</td>\n",
       "      <td>...</td>\n",
       "      <td>...</td>\n",
       "      <td>...</td>\n",
       "    </tr>\n",
       "    <tr>\n",
       "      <th>501</th>\n",
       "      <td>0.06263</td>\n",
       "      <td>0.0</td>\n",
       "      <td>11.93</td>\n",
       "      <td>0.0</td>\n",
       "      <td>0.573</td>\n",
       "      <td>6.593</td>\n",
       "      <td>69.1</td>\n",
       "      <td>2.4786</td>\n",
       "      <td>1.0</td>\n",
       "      <td>273.0</td>\n",
       "      <td>21.0</td>\n",
       "      <td>391.99</td>\n",
       "      <td>9.67</td>\n",
       "      <td>22.4</td>\n",
       "    </tr>\n",
       "    <tr>\n",
       "      <th>502</th>\n",
       "      <td>0.04527</td>\n",
       "      <td>0.0</td>\n",
       "      <td>11.93</td>\n",
       "      <td>0.0</td>\n",
       "      <td>0.573</td>\n",
       "      <td>6.120</td>\n",
       "      <td>76.7</td>\n",
       "      <td>2.2875</td>\n",
       "      <td>1.0</td>\n",
       "      <td>273.0</td>\n",
       "      <td>21.0</td>\n",
       "      <td>396.90</td>\n",
       "      <td>9.08</td>\n",
       "      <td>20.6</td>\n",
       "    </tr>\n",
       "    <tr>\n",
       "      <th>503</th>\n",
       "      <td>0.06076</td>\n",
       "      <td>0.0</td>\n",
       "      <td>11.93</td>\n",
       "      <td>0.0</td>\n",
       "      <td>0.573</td>\n",
       "      <td>6.976</td>\n",
       "      <td>91.0</td>\n",
       "      <td>2.1675</td>\n",
       "      <td>1.0</td>\n",
       "      <td>273.0</td>\n",
       "      <td>21.0</td>\n",
       "      <td>396.90</td>\n",
       "      <td>5.64</td>\n",
       "      <td>23.9</td>\n",
       "    </tr>\n",
       "    <tr>\n",
       "      <th>504</th>\n",
       "      <td>0.10959</td>\n",
       "      <td>0.0</td>\n",
       "      <td>11.93</td>\n",
       "      <td>0.0</td>\n",
       "      <td>0.573</td>\n",
       "      <td>6.794</td>\n",
       "      <td>89.3</td>\n",
       "      <td>2.3889</td>\n",
       "      <td>1.0</td>\n",
       "      <td>273.0</td>\n",
       "      <td>21.0</td>\n",
       "      <td>393.45</td>\n",
       "      <td>6.48</td>\n",
       "      <td>22.0</td>\n",
       "    </tr>\n",
       "    <tr>\n",
       "      <th>505</th>\n",
       "      <td>0.04741</td>\n",
       "      <td>0.0</td>\n",
       "      <td>11.93</td>\n",
       "      <td>0.0</td>\n",
       "      <td>0.573</td>\n",
       "      <td>6.030</td>\n",
       "      <td>80.8</td>\n",
       "      <td>2.5050</td>\n",
       "      <td>1.0</td>\n",
       "      <td>273.0</td>\n",
       "      <td>21.0</td>\n",
       "      <td>396.90</td>\n",
       "      <td>7.88</td>\n",
       "      <td>11.9</td>\n",
       "    </tr>\n",
       "  </tbody>\n",
       "</table>\n",
       "<p>506 rows × 14 columns</p>\n",
       "</div>"
      ],
      "text/plain": [
       "        CRIM    ZN  INDUS  CHAS    NOX     RM   AGE     DIS  RAD    TAX  \\\n",
       "0    0.00632  18.0   2.31   0.0  0.538  6.575  65.2  4.0900  1.0  296.0   \n",
       "1    0.02731   0.0   7.07   0.0  0.469  6.421  78.9  4.9671  2.0  242.0   \n",
       "2    0.02729   0.0   7.07   0.0  0.469  7.185  61.1  4.9671  2.0  242.0   \n",
       "3    0.03237   0.0   2.18   0.0  0.458  6.998  45.8  6.0622  3.0  222.0   \n",
       "4    0.06905   0.0   2.18   0.0  0.458  7.147  54.2  6.0622  3.0  222.0   \n",
       "..       ...   ...    ...   ...    ...    ...   ...     ...  ...    ...   \n",
       "501  0.06263   0.0  11.93   0.0  0.573  6.593  69.1  2.4786  1.0  273.0   \n",
       "502  0.04527   0.0  11.93   0.0  0.573  6.120  76.7  2.2875  1.0  273.0   \n",
       "503  0.06076   0.0  11.93   0.0  0.573  6.976  91.0  2.1675  1.0  273.0   \n",
       "504  0.10959   0.0  11.93   0.0  0.573  6.794  89.3  2.3889  1.0  273.0   \n",
       "505  0.04741   0.0  11.93   0.0  0.573  6.030  80.8  2.5050  1.0  273.0   \n",
       "\n",
       "     PTRATIO       B  LSTAT  PRICE  \n",
       "0       15.3  396.90   4.98   24.0  \n",
       "1       17.8  396.90   9.14   21.6  \n",
       "2       17.8  392.83   4.03   34.7  \n",
       "3       18.7  394.63   2.94   33.4  \n",
       "4       18.7  396.90   5.33   36.2  \n",
       "..       ...     ...    ...    ...  \n",
       "501     21.0  391.99   9.67   22.4  \n",
       "502     21.0  396.90   9.08   20.6  \n",
       "503     21.0  396.90   5.64   23.9  \n",
       "504     21.0  393.45   6.48   22.0  \n",
       "505     21.0  396.90   7.88   11.9  \n",
       "\n",
       "[506 rows x 14 columns]"
      ]
     },
     "execution_count": 20,
     "metadata": {},
     "output_type": "execute_result"
    }
   ],
   "source": [
    "# view as dataframe\n",
    "boston_df=pd.DataFrame(\n",
    "    data=np.append(boston_dataset.data, boston_dataset.target.reshape(-1, 1), axis=1), \n",
    "    columns=np.append(boston_dataset.feature_names, ['PRICE'])\n",
    ")\n",
    "boston_df"
   ]
  },
  {
   "cell_type": "code",
   "execution_count": 21,
   "metadata": {},
   "outputs": [
    {
     "data": {
      "text/plain": [
       "<matplotlib.axes._subplots.AxesSubplot at 0x2304f497e50>"
      ]
     },
     "execution_count": 21,
     "metadata": {},
     "output_type": "execute_result"
    },
    {
     "data": {
      "image/png": "[encoded data removed]",
      "text/plain": [
       "<Figure size 504x432 with 2 Axes>"
      ]
     },
     "metadata": {
      "needs_background": "light"
     },
     "output_type": "display_data"
    }
   ],
   "source": [
    "# we create a correlation matrix that measures the linear relationships between the variables.\n",
    "correlation_matrix = boston_df.corr().round(2)\n",
    "# annot = True to print the values inside the square\n",
    "plt.figure(figsize=(7,6))\n",
    "sns.heatmap(data=correlation_matrix, annot=True, )"
   ]
  },
  {
   "cell_type": "code",
   "execution_count": 22,
   "metadata": {},
   "outputs": [
    {
     "data": {
      "text/plain": [
       "Text(0, 0.5, 'PRICE')"
      ]
     },
     "execution_count": 22,
     "metadata": {},
     "output_type": "execute_result"
    },
    {
     "data": {
      "image/png": "[encoded data removed]",
      "text/plain": [
       "<Figure size 1080x360 with 2 Axes>"
      ]
     },
     "metadata": {
      "needs_background": "light"
     },
     "output_type": "display_data"
    }
   ],
   "source": [
    "# sample plot data\n",
    "plt.figure(figsize=(15,5))\n",
    "\n",
    "plt.subplot(1,2,1)\n",
    "plt.scatter(boston_df.RM, boston_df.PRICE, c='orange')\n",
    "plt.title('PRICE vs RM')\n",
    "plt.xlabel('RM')\n",
    "plt.ylabel('PRICE')\n",
    "\n",
    "plt.subplot(1,2,2)\n",
    "plt.scatter(boston_df.LSTAT, boston_df.PRICE, c='darkblue')\n",
    "plt.title('PRICE vs LSTAT')\n",
    "plt.xlabel('LSTAT')\n",
    "plt.ylabel('PRICE')"
   ]
  },
  {
   "cell_type": "code",
   "execution_count": 23,
   "metadata": {},
   "outputs": [],
   "source": [
    "# create train/test datasets\n",
    "Xtrain, Xtest, Ytrain, Ytest = \\\n",
    "train_test_split(\n",
    "    boston_dataset.data, boston_dataset.target.reshape(-1,1),\n",
    "    test_size=0.2,\n",
    "    random_state=5\n",
    ")"
   ]
  },
  {
   "cell_type": "code",
   "execution_count": 24,
   "metadata": {},
   "outputs": [],
   "source": [
    "# model object\n",
    "lrModel = linear_model.LinearRegression()"
   ]
  },
  {
   "cell_type": "code",
   "execution_count": 25,
   "metadata": {},
   "outputs": [
    {
     "data": {
      "text/plain": [
       "LinearRegression()"
      ]
     },
     "execution_count": 25,
     "metadata": {},
     "output_type": "execute_result"
    }
   ],
   "source": [
    "# train model\n",
    "lrModel.fit(X=Xtrain, y=Ytrain)"
   ]
  },
  {
   "cell_type": "code",
   "execution_count": 26,
   "metadata": {},
   "outputs": [
    {
     "name": "stdout",
     "output_type": "stream",
     "text": [
      "Model coefficients: [-1.30799852e-01  4.94030235e-02  1.09535045e-03  2.70536624e+00\n",
      " -1.59570504e+01  3.41397332e+00  1.11887670e-03 -1.49308124e+00\n",
      "  3.64422378e-01 -1.31718155e-02 -9.52369666e-01  1.17492092e-02\n",
      " -5.94076089e-01]\n",
      "Model bias: 37.91248700975062\n"
     ]
    }
   ],
   "source": [
    "# Model parameters\n",
    "print('Model coefficients:', lrModel.coef_[0])\n",
    "print('Model bias:', lrModel.intercept_[0])"
   ]
  },
  {
   "cell_type": "raw",
   "metadata": {},
   "source": [
    "Expected values:\n",
    "Model coefficients: [-1.30799852e-01  4.94030235e-02  1.09535045e-03  2.70536624e+00\n",
    " -1.59570504e+01  3.41397332e+00  1.11887670e-03 -1.49308124e+00\n",
    "  3.64422378e-01 -1.31718155e-02 -9.52369666e-01  1.17492092e-02\n",
    " -5.94076089e-01]\n",
    "Model bias: 37.91248700975085"
   ]
  },
  {
   "cell_type": "code",
   "execution_count": 27,
   "metadata": {},
   "outputs": [
    {
     "name": "stdout",
     "output_type": "stream",
     "text": [
      "Predicted value: 13.82876985295448 \n",
      "True value: 13.1\n"
     ]
    }
   ],
   "source": [
    "# get prediction\n",
    "sample = Xtrain[0:1,:] # should be 2D array (number of samples, number of features)\n",
    "prediction = lrModel.predict(sample)\n",
    "print('Predicted value:', prediction.squeeze(), '\\nTrue value:', Ytrain[0].squeeze())"
   ]
  },
  {
   "cell_type": "markdown",
   "metadata": {},
   "source": [
    "### Model evaluation"
   ]
  },
  {
   "cell_type": "code",
   "execution_count": 28,
   "metadata": {},
   "outputs": [
    {
     "name": "stdout",
     "output_type": "stream",
     "text": [
      "MSE on train set: 22.477090408387628\n",
      "MSE on test set: 20.869292183770682\n",
      "RMSE on train set: 0.23587361530488968\n",
      "RMSE on test set: 0.45232831412864005\n"
     ]
    }
   ],
   "source": [
    "print('MSE on train set:', mean_squared_error(Ytrain,lrModel.predict(Xtrain)))\n",
    "print('MSE on test set:', mean_squared_error(Ytest,lrModel.predict(Xtest)))\n",
    "print('RMSE on train set:', np.sqrt(mean_squared_error(Ytrain,lrModel.predict(Xtrain))/Ytrain.shape[0]))\n",
    "print('RMSE on test set:', np.sqrt(mean_squared_error(Ytest,lrModel.predict(Xtest))/Ytest.shape[0]))"
   ]
  },
  {
   "cell_type": "raw",
   "metadata": {},
   "source": [
    "Expected value:\n",
    "MSE on train set: 22.477090408387635\n",
    "MSE on test set: 20.869292183770476\n",
    "RMSE on train set: 0.2358736153048897\n",
    "RMSE on test set: 0.45232831412863783"
   ]
  },
  {
   "cell_type": "markdown",
   "metadata": {},
   "source": [
    "## 2. Logistic Regression\n",
    "Don’t get confused by its name! It is **a classification not a regression** algorithm. It is used to estimate discrete values ( Binary values like 0/1, yes/no, true/false ) based on given set of independent variable(s). In simple words, it **predicts the probability of occurrence of an event** by fitting data to a logit function. Hence, it is also known as logit regression. Since, it predicts the probability, its output values lies between 0 and 1 (as expected).\n",
    "\n",
    "Again, let us try and understand this through a simple example.\n",
    "\n",
    "*Let’s say your friend gives you a puzzle to solve. There are only 2 outcome scenarios – either you solve it or you don’t. Now imagine, that you are being given wide range of puzzles/quizzes in an attempt to understand which subjects you are good at. The outcome to this study would be something like this – if you are given a trignometry based tenth grade problem, you are 70% likely to solve it. On the other hand, if it is grade fifth history question, the probability of getting an answer is only 30%. This is what Logistic Regression provides you.*\n",
    "\n",
    "Coming to the math, the log odds of the outcome is modeled as a linear combination of the predictor variables.\n",
    "\n",
    "$$\n",
    "\\text{odds} = \\frac{p}{1-p} = \\frac{\\text{probability of event occurrence}}{\\text{probability of not event occurrence}}\\\\\n",
    "\\ln(\\text{odds})=\\ln\\left(\\frac{p}{1-p}\\right)\\\\\n",
    "\\text{logit}(p)=\\ln\\left(\\frac{p}{1-p}\\right)=b_0+b_1x_1+b_2x_2+b_3x_3+....+b_kx_k\n",
    "$$\n",
    "\n",
    "Above, $p$ is the **probability of presence** of the characteristic of interest. It chooses parameters that **maximize the likelihood** of observing the sample values rather than that minimize the sum of squared errors (like in ordinary regression).\n",
    "\n",
    "Now, you may ask, why take a log? For the sake of simplicity, let’s just say that this is one of the best mathematical way to replicate a step function. I can go in more details, but that will beat the purpose of this article.\n",
    "![](https://www.analyticsvidhya.com/wp-content/uploads/2015/08/Logistic_Regression.png)\n",
    "\n",
    "**Below are sample code with breast cancer data set**"
   ]
  },
  {
   "cell_type": "code",
   "execution_count": 29,
   "metadata": {},
   "outputs": [],
   "source": [
    "from sklearn.datasets import load_breast_cancer\n",
    "breast_cancer = load_breast_cancer()"
   ]
  },
  {
   "cell_type": "code",
   "execution_count": 30,
   "metadata": {},
   "outputs": [
    {
     "data": {
      "text/plain": [
       "dict_keys(['data', 'target', 'frame', 'target_names', 'DESCR', 'feature_names', 'filename'])"
      ]
     },
     "execution_count": 30,
     "metadata": {},
     "output_type": "execute_result"
    }
   ],
   "source": [
    "breast_cancer.keys()"
   ]
  },
  {
   "cell_type": "code",
   "execution_count": 31,
   "metadata": {
    "scrolled": true
   },
   "outputs": [
    {
     "name": "stdout",
     "output_type": "stream",
     "text": [
      ".. _breast_cancer_dataset:\n",
      "\n",
      "Breast cancer wisconsin (diagnostic) dataset\n",
      "--------------------------------------------\n",
      "\n",
      "**Data Set Characteristics:**\n",
      "\n",
      "    :Number of Instances: 569\n",
      "\n",
      "    :Number of Attributes: 30 numeric, predictive attributes and the class\n",
      "\n",
      "    :Attribute Information:\n",
      "        - radius (mean of distances from center to points on the perimeter)\n",
      "        - texture (standard deviation of gray-scale values)\n",
      "        - perimeter\n",
      "        - area\n",
      "        - smoothness (local variation in radius lengths)\n",
      "        - compactness (perimeter^2 / area - 1.0)\n",
      "        - concavity (severity of concave portions of the contour)\n",
      "        - concave points (number of concave portions of the contour)\n",
      "        - symmetry\n",
      "        - fractal dimension (\"coastline approximation\" - 1)\n",
      "\n",
      "        The mean, standard error, and \"worst\" or largest (mean of the three\n",
      "        worst/largest values) of these features were computed for each image,\n",
      "        resulting in 30 features.  For instance, field 0 is Mean Radius, field\n",
      "        10 is Radius SE, field 20 is Worst Radius.\n",
      "\n",
      "        - class:\n",
      "                - WDBC-Malignant\n",
      "                - WDBC-Benign\n",
      "\n",
      "    :Summary Statistics:\n",
      "\n",
      "    ===================================== ====== ======\n",
      "                                           Min    Max\n",
      "    ===================================== ====== ======\n",
      "    radius (mean):                        6.981  28.11\n",
      "    texture (mean):                       9.71   39.28\n",
      "    perimeter (mean):                     43.79  188.5\n",
      "    area (mean):                          143.5  2501.0\n",
      "    smoothness (mean):                    0.053  0.163\n",
      "    compactness (mean):                   0.019  0.345\n",
      "    concavity (mean):                     0.0    0.427\n",
      "    concave points (mean):                0.0    0.201\n",
      "    symmetry (mean):                      0.106  0.304\n",
      "    fractal dimension (mean):             0.05   0.097\n",
      "    radius (standard error):              0.112  2.873\n",
      "    texture (standard error):             0.36   4.885\n",
      "    perimeter (standard error):           0.757  21.98\n",
      "    area (standard error):                6.802  542.2\n",
      "    smoothness (standard error):          0.002  0.031\n",
      "    compactness (standard error):         0.002  0.135\n",
      "    concavity (standard error):           0.0    0.396\n",
      "    concave points (standard error):      0.0    0.053\n",
      "    symmetry (standard error):            0.008  0.079\n",
      "    fractal dimension (standard error):   0.001  0.03\n",
      "    radius (worst):                       7.93   36.04\n",
      "    texture (worst):                      12.02  49.54\n",
      "    perimeter (worst):                    50.41  251.2\n",
      "    area (worst):                         185.2  4254.0\n",
      "    smoothness (worst):                   0.071  0.223\n",
      "    compactness (worst):                  0.027  1.058\n",
      "    concavity (worst):                    0.0    1.252\n",
      "    concave points (worst):               0.0    0.291\n",
      "    symmetry (worst):                     0.156  0.664\n",
      "    fractal dimension (worst):            0.055  0.208\n",
      "    ===================================== ====== ======\n",
      "\n",
      "    :Missing Attribute Values: None\n",
      "\n",
      "    :Class Distribution: 212 - Malignant, 357 - Benign\n",
      "\n",
      "    :Creator:  Dr. William H. Wolberg, W. Nick Street, Olvi L. Mangasarian\n",
      "\n",
      "    :Donor: Nick Street\n",
      "\n",
      "    :Date: November, 1995\n",
      "\n",
      "This is a copy of UCI ML Breast Cancer Wisconsin (Diagnostic) datasets.\n",
      "https://goo.gl/U2Uwz2\n",
      "\n",
      "Features are computed from a digitized image of a fine needle\n",
      "aspirate (FNA) of a breast mass.  They describe\n",
      "characteristics of the cell nuclei present in the image.\n",
      "\n",
      "Separating plane described above was obtained using\n",
      "Multisurface Method-Tree (MSM-T) [K. P. Bennett, \"Decision Tree\n",
      "Construction Via Linear Programming.\" Proceedings of the 4th\n",
      "Midwest Artificial Intelligence and Cognitive Science Society,\n",
      "pp. 97-101, 1992], a classification method which uses linear\n",
      "programming to construct a decision tree.  Relevant features\n",
      "were selected using an exhaustive search in the space of 1-4\n",
      "features and 1-3 separating planes.\n",
      "\n",
      "The actual linear program used to obtain the separating plane\n",
      "in the 3-dimensional space is that described in:\n",
      "[K. P. Bennett and O. L. Mangasarian: \"Robust Linear\n",
      "Programming Discrimination of Two Linearly Inseparable Sets\",\n",
      "Optimization Methods and Software 1, 1992, 23-34].\n",
      "\n",
      "This database is also available through the UW CS ftp server:\n",
      "\n",
      "ftp ftp.cs.wisc.edu\n",
      "cd math-prog/cpo-dataset/machine-learn/WDBC/\n",
      "\n",
      ".. topic:: References\n",
      "\n",
      "   - W.N. Street, W.H. Wolberg and O.L. Mangasarian. Nuclear feature extraction \n",
      "     for breast tumor diagnosis. IS&T/SPIE 1993 International Symposium on \n",
      "     Electronic Imaging: Science and Technology, volume 1905, pages 861-870,\n",
      "     San Jose, CA, 1993.\n",
      "   - O.L. Mangasarian, W.N. Street and W.H. Wolberg. Breast cancer diagnosis and \n",
      "     prognosis via linear programming. Operations Research, 43(4), pages 570-577, \n",
      "     July-August 1995.\n",
      "   - W.H. Wolberg, W.N. Street, and O.L. Mangasarian. Machine learning techniques\n",
      "     to diagnose breast cancer from fine-needle aspirates. Cancer Letters 77 (1994) \n",
      "     163-171.\n"
     ]
    }
   ],
   "source": [
    "print(breast_cancer.DESCR)"
   ]
  },
  {
   "cell_type": "code",
   "execution_count": 32,
   "metadata": {},
   "outputs": [
    {
     "name": "stdout",
     "output_type": "stream",
     "text": [
      "==================================================\n",
      "Feature_name: ['mean radius' 'mean texture' 'mean perimeter' 'mean area'\n",
      " 'mean smoothness' 'mean compactness' 'mean concavity'\n",
      " 'mean concave points' 'mean symmetry' 'mean fractal dimension'\n",
      " 'radius error' 'texture error' 'perimeter error' 'area error'\n",
      " 'smoothness error' 'compactness error' 'concavity error'\n",
      " 'concave points error' 'symmetry error' 'fractal dimension error'\n",
      " 'worst radius' 'worst texture' 'worst perimeter' 'worst area'\n",
      " 'worst smoothness' 'worst compactness' 'worst concavity'\n",
      " 'worst concave points' 'worst symmetry' 'worst fractal dimension']\n",
      "==================================================\n",
      "Target names: ['malignant' 'benign']\n"
     ]
    }
   ],
   "source": [
    "print('='*50)\n",
    "print('Feature_name:', breast_cancer.feature_names)\n",
    "print('='*50)\n",
    "print('Target names:', breast_cancer.target_names)"
   ]
  },
  {
   "cell_type": "code",
   "execution_count": 33,
   "metadata": {},
   "outputs": [
    {
     "data": {
      "text/html": [
       "<div>\n",
       "<style scoped>\n",
       "    .dataframe tbody tr th:only-of-type {\n",
       "        vertical-align: middle;\n",
       "    }\n",
       "\n",
       "    .dataframe tbody tr th {\n",
       "        vertical-align: top;\n",
       "    }\n",
       "\n",
       "    .dataframe thead th {\n",
       "        text-align: right;\n",
       "    }\n",
       "</style>\n",
       "<table border=\"1\" class=\"dataframe\">\n",
       "  <thead>\n",
       "    <tr style=\"text-align: right;\">\n",
       "      <th></th>\n",
       "      <th>mean radius</th>\n",
       "      <th>mean texture</th>\n",
       "      <th>mean perimeter</th>\n",
       "      <th>mean area</th>\n",
       "      <th>mean smoothness</th>\n",
       "      <th>mean compactness</th>\n",
       "      <th>mean concavity</th>\n",
       "      <th>mean concave points</th>\n",
       "      <th>mean symmetry</th>\n",
       "      <th>mean fractal dimension</th>\n",
       "      <th>...</th>\n",
       "      <th>worst texture</th>\n",
       "      <th>worst perimeter</th>\n",
       "      <th>worst area</th>\n",
       "      <th>worst smoothness</th>\n",
       "      <th>worst compactness</th>\n",
       "      <th>worst concavity</th>\n",
       "      <th>worst concave points</th>\n",
       "      <th>worst symmetry</th>\n",
       "      <th>worst fractal dimension</th>\n",
       "      <th>class</th>\n",
       "    </tr>\n",
       "  </thead>\n",
       "  <tbody>\n",
       "    <tr>\n",
       "      <th>0</th>\n",
       "      <td>17.99</td>\n",
       "      <td>10.38</td>\n",
       "      <td>122.80</td>\n",
       "      <td>1001.0</td>\n",
       "      <td>0.11840</td>\n",
       "      <td>0.27760</td>\n",
       "      <td>0.30010</td>\n",
       "      <td>0.14710</td>\n",
       "      <td>0.2419</td>\n",
       "      <td>0.07871</td>\n",
       "      <td>...</td>\n",
       "      <td>17.33</td>\n",
       "      <td>184.60</td>\n",
       "      <td>2019.0</td>\n",
       "      <td>0.16220</td>\n",
       "      <td>0.66560</td>\n",
       "      <td>0.7119</td>\n",
       "      <td>0.2654</td>\n",
       "      <td>0.4601</td>\n",
       "      <td>0.11890</td>\n",
       "      <td>malignant</td>\n",
       "    </tr>\n",
       "    <tr>\n",
       "      <th>1</th>\n",
       "      <td>20.57</td>\n",
       "      <td>17.77</td>\n",
       "      <td>132.90</td>\n",
       "      <td>1326.0</td>\n",
       "      <td>0.08474</td>\n",
       "      <td>0.07864</td>\n",
       "      <td>0.08690</td>\n",
       "      <td>0.07017</td>\n",
       "      <td>0.1812</td>\n",
       "      <td>0.05667</td>\n",
       "      <td>...</td>\n",
       "      <td>23.41</td>\n",
       "      <td>158.80</td>\n",
       "      <td>1956.0</td>\n",
       "      <td>0.12380</td>\n",
       "      <td>0.18660</td>\n",
       "      <td>0.2416</td>\n",
       "      <td>0.1860</td>\n",
       "      <td>0.2750</td>\n",
       "      <td>0.08902</td>\n",
       "      <td>malignant</td>\n",
       "    </tr>\n",
       "    <tr>\n",
       "      <th>2</th>\n",
       "      <td>19.69</td>\n",
       "      <td>21.25</td>\n",
       "      <td>130.00</td>\n",
       "      <td>1203.0</td>\n",
       "      <td>0.10960</td>\n",
       "      <td>0.15990</td>\n",
       "      <td>0.19740</td>\n",
       "      <td>0.12790</td>\n",
       "      <td>0.2069</td>\n",
       "      <td>0.05999</td>\n",
       "      <td>...</td>\n",
       "      <td>25.53</td>\n",
       "      <td>152.50</td>\n",
       "      <td>1709.0</td>\n",
       "      <td>0.14440</td>\n",
       "      <td>0.42450</td>\n",
       "      <td>0.4504</td>\n",
       "      <td>0.2430</td>\n",
       "      <td>0.3613</td>\n",
       "      <td>0.08758</td>\n",
       "      <td>malignant</td>\n",
       "    </tr>\n",
       "    <tr>\n",
       "      <th>3</th>\n",
       "      <td>11.42</td>\n",
       "      <td>20.38</td>\n",
       "      <td>77.58</td>\n",
       "      <td>386.1</td>\n",
       "      <td>0.14250</td>\n",
       "      <td>0.28390</td>\n",
       "      <td>0.24140</td>\n",
       "      <td>0.10520</td>\n",
       "      <td>0.2597</td>\n",
       "      <td>0.09744</td>\n",
       "      <td>...</td>\n",
       "      <td>26.50</td>\n",
       "      <td>98.87</td>\n",
       "      <td>567.7</td>\n",
       "      <td>0.20980</td>\n",
       "      <td>0.86630</td>\n",
       "      <td>0.6869</td>\n",
       "      <td>0.2575</td>\n",
       "      <td>0.6638</td>\n",
       "      <td>0.17300</td>\n",
       "      <td>malignant</td>\n",
       "    </tr>\n",
       "    <tr>\n",
       "      <th>4</th>\n",
       "      <td>20.29</td>\n",
       "      <td>14.34</td>\n",
       "      <td>135.10</td>\n",
       "      <td>1297.0</td>\n",
       "      <td>0.10030</td>\n",
       "      <td>0.13280</td>\n",
       "      <td>0.19800</td>\n",
       "      <td>0.10430</td>\n",
       "      <td>0.1809</td>\n",
       "      <td>0.05883</td>\n",
       "      <td>...</td>\n",
       "      <td>16.67</td>\n",
       "      <td>152.20</td>\n",
       "      <td>1575.0</td>\n",
       "      <td>0.13740</td>\n",
       "      <td>0.20500</td>\n",
       "      <td>0.4000</td>\n",
       "      <td>0.1625</td>\n",
       "      <td>0.2364</td>\n",
       "      <td>0.07678</td>\n",
       "      <td>malignant</td>\n",
       "    </tr>\n",
       "    <tr>\n",
       "      <th>...</th>\n",
       "      <td>...</td>\n",
       "      <td>...</td>\n",
       "      <td>...</td>\n",
       "      <td>...</td>\n",
       "      <td>...</td>\n",
       "      <td>...</td>\n",
       "      <td>...</td>\n",
       "      <td>...</td>\n",
       "      <td>...</td>\n",
       "      <td>...</td>\n",
       "      <td>...</td>\n",
       "      <td>...</td>\n",
       "      <td>...</td>\n",
       "      <td>...</td>\n",
       "      <td>...</td>\n",
       "      <td>...</td>\n",
       "      <td>...</td>\n",
       "      <td>...</td>\n",
       "      <td>...</td>\n",
       "      <td>...</td>\n",
       "      <td>...</td>\n",
       "    </tr>\n",
       "    <tr>\n",
       "      <th>564</th>\n",
       "      <td>21.56</td>\n",
       "      <td>22.39</td>\n",
       "      <td>142.00</td>\n",
       "      <td>1479.0</td>\n",
       "      <td>0.11100</td>\n",
       "      <td>0.11590</td>\n",
       "      <td>0.24390</td>\n",
       "      <td>0.13890</td>\n",
       "      <td>0.1726</td>\n",
       "      <td>0.05623</td>\n",
       "      <td>...</td>\n",
       "      <td>26.40</td>\n",
       "      <td>166.10</td>\n",
       "      <td>2027.0</td>\n",
       "      <td>0.14100</td>\n",
       "      <td>0.21130</td>\n",
       "      <td>0.4107</td>\n",
       "      <td>0.2216</td>\n",
       "      <td>0.2060</td>\n",
       "      <td>0.07115</td>\n",
       "      <td>malignant</td>\n",
       "    </tr>\n",
       "    <tr>\n",
       "      <th>565</th>\n",
       "      <td>20.13</td>\n",
       "      <td>28.25</td>\n",
       "      <td>131.20</td>\n",
       "      <td>1261.0</td>\n",
       "      <td>0.09780</td>\n",
       "      <td>0.10340</td>\n",
       "      <td>0.14400</td>\n",
       "      <td>0.09791</td>\n",
       "      <td>0.1752</td>\n",
       "      <td>0.05533</td>\n",
       "      <td>...</td>\n",
       "      <td>38.25</td>\n",
       "      <td>155.00</td>\n",
       "      <td>1731.0</td>\n",
       "      <td>0.11660</td>\n",
       "      <td>0.19220</td>\n",
       "      <td>0.3215</td>\n",
       "      <td>0.1628</td>\n",
       "      <td>0.2572</td>\n",
       "      <td>0.06637</td>\n",
       "      <td>malignant</td>\n",
       "    </tr>\n",
       "    <tr>\n",
       "      <th>566</th>\n",
       "      <td>16.60</td>\n",
       "      <td>28.08</td>\n",
       "      <td>108.30</td>\n",
       "      <td>858.1</td>\n",
       "      <td>0.08455</td>\n",
       "      <td>0.10230</td>\n",
       "      <td>0.09251</td>\n",
       "      <td>0.05302</td>\n",
       "      <td>0.1590</td>\n",
       "      <td>0.05648</td>\n",
       "      <td>...</td>\n",
       "      <td>34.12</td>\n",
       "      <td>126.70</td>\n",
       "      <td>1124.0</td>\n",
       "      <td>0.11390</td>\n",
       "      <td>0.30940</td>\n",
       "      <td>0.3403</td>\n",
       "      <td>0.1418</td>\n",
       "      <td>0.2218</td>\n",
       "      <td>0.07820</td>\n",
       "      <td>malignant</td>\n",
       "    </tr>\n",
       "    <tr>\n",
       "      <th>567</th>\n",
       "      <td>20.60</td>\n",
       "      <td>29.33</td>\n",
       "      <td>140.10</td>\n",
       "      <td>1265.0</td>\n",
       "      <td>0.11780</td>\n",
       "      <td>0.27700</td>\n",
       "      <td>0.35140</td>\n",
       "      <td>0.15200</td>\n",
       "      <td>0.2397</td>\n",
       "      <td>0.07016</td>\n",
       "      <td>...</td>\n",
       "      <td>39.42</td>\n",
       "      <td>184.60</td>\n",
       "      <td>1821.0</td>\n",
       "      <td>0.16500</td>\n",
       "      <td>0.86810</td>\n",
       "      <td>0.9387</td>\n",
       "      <td>0.2650</td>\n",
       "      <td>0.4087</td>\n",
       "      <td>0.12400</td>\n",
       "      <td>malignant</td>\n",
       "    </tr>\n",
       "    <tr>\n",
       "      <th>568</th>\n",
       "      <td>7.76</td>\n",
       "      <td>24.54</td>\n",
       "      <td>47.92</td>\n",
       "      <td>181.0</td>\n",
       "      <td>0.05263</td>\n",
       "      <td>0.04362</td>\n",
       "      <td>0.00000</td>\n",
       "      <td>0.00000</td>\n",
       "      <td>0.1587</td>\n",
       "      <td>0.05884</td>\n",
       "      <td>...</td>\n",
       "      <td>30.37</td>\n",
       "      <td>59.16</td>\n",
       "      <td>268.6</td>\n",
       "      <td>0.08996</td>\n",
       "      <td>0.06444</td>\n",
       "      <td>0.0000</td>\n",
       "      <td>0.0000</td>\n",
       "      <td>0.2871</td>\n",
       "      <td>0.07039</td>\n",
       "      <td>benign</td>\n",
       "    </tr>\n",
       "  </tbody>\n",
       "</table>\n",
       "<p>569 rows × 31 columns</p>\n",
       "</div>"
      ],
      "text/plain": [
       "     mean radius  mean texture  mean perimeter  mean area  mean smoothness  \\\n",
       "0          17.99         10.38          122.80     1001.0          0.11840   \n",
       "1          20.57         17.77          132.90     1326.0          0.08474   \n",
       "2          19.69         21.25          130.00     1203.0          0.10960   \n",
       "3          11.42         20.38           77.58      386.1          0.14250   \n",
       "4          20.29         14.34          135.10     1297.0          0.10030   \n",
       "..           ...           ...             ...        ...              ...   \n",
       "564        21.56         22.39          142.00     1479.0          0.11100   \n",
       "565        20.13         28.25          131.20     1261.0          0.09780   \n",
       "566        16.60         28.08          108.30      858.1          0.08455   \n",
       "567        20.60         29.33          140.10     1265.0          0.11780   \n",
       "568         7.76         24.54           47.92      181.0          0.05263   \n",
       "\n",
       "     mean compactness  mean concavity  mean concave points  mean symmetry  \\\n",
       "0             0.27760         0.30010              0.14710         0.2419   \n",
       "1             0.07864         0.08690              0.07017         0.1812   \n",
       "2             0.15990         0.19740              0.12790         0.2069   \n",
       "3             0.28390         0.24140              0.10520         0.2597   \n",
       "4             0.13280         0.19800              0.10430         0.1809   \n",
       "..                ...             ...                  ...            ...   \n",
       "564           0.11590         0.24390              0.13890         0.1726   \n",
       "565           0.10340         0.14400              0.09791         0.1752   \n",
       "566           0.10230         0.09251              0.05302         0.1590   \n",
       "567           0.27700         0.35140              0.15200         0.2397   \n",
       "568           0.04362         0.00000              0.00000         0.1587   \n",
       "\n",
       "     mean fractal dimension  ...  worst texture  worst perimeter  worst area  \\\n",
       "0                   0.07871  ...          17.33           184.60      2019.0   \n",
       "1                   0.05667  ...          23.41           158.80      1956.0   \n",
       "2                   0.05999  ...          25.53           152.50      1709.0   \n",
       "3                   0.09744  ...          26.50            98.87       567.7   \n",
       "4                   0.05883  ...          16.67           152.20      1575.0   \n",
       "..                      ...  ...            ...              ...         ...   \n",
       "564                 0.05623  ...          26.40           166.10      2027.0   \n",
       "565                 0.05533  ...          38.25           155.00      1731.0   \n",
       "566                 0.05648  ...          34.12           126.70      1124.0   \n",
       "567                 0.07016  ...          39.42           184.60      1821.0   \n",
       "568                 0.05884  ...          30.37            59.16       268.6   \n",
       "\n",
       "     worst smoothness  worst compactness  worst concavity  \\\n",
       "0             0.16220            0.66560           0.7119   \n",
       "1             0.12380            0.18660           0.2416   \n",
       "2             0.14440            0.42450           0.4504   \n",
       "3             0.20980            0.86630           0.6869   \n",
       "4             0.13740            0.20500           0.4000   \n",
       "..                ...                ...              ...   \n",
       "564           0.14100            0.21130           0.4107   \n",
       "565           0.11660            0.19220           0.3215   \n",
       "566           0.11390            0.30940           0.3403   \n",
       "567           0.16500            0.86810           0.9387   \n",
       "568           0.08996            0.06444           0.0000   \n",
       "\n",
       "     worst concave points  worst symmetry  worst fractal dimension      class  \n",
       "0                  0.2654          0.4601                  0.11890  malignant  \n",
       "1                  0.1860          0.2750                  0.08902  malignant  \n",
       "2                  0.2430          0.3613                  0.08758  malignant  \n",
       "3                  0.2575          0.6638                  0.17300  malignant  \n",
       "4                  0.1625          0.2364                  0.07678  malignant  \n",
       "..                    ...             ...                      ...        ...  \n",
       "564                0.2216          0.2060                  0.07115  malignant  \n",
       "565                0.1628          0.2572                  0.06637  malignant  \n",
       "566                0.1418          0.2218                  0.07820  malignant  \n",
       "567                0.2650          0.4087                  0.12400  malignant  \n",
       "568                0.0000          0.2871                  0.07039     benign  \n",
       "\n",
       "[569 rows x 31 columns]"
      ]
     },
     "execution_count": 33,
     "metadata": {},
     "output_type": "execute_result"
    }
   ],
   "source": [
    "# dataframe view\n",
    "breast_cancer_df = pd.DataFrame(\n",
    "    data=np.append(breast_cancer.data, breast_cancer.target.reshape(-1, 1), axis=1), \n",
    "    columns=np.append(breast_cancer.feature_names,['class'])\n",
    ")\n",
    "breast_cancer_df['class'] = breast_cancer_df['class']\\\n",
    "                             .map({0: breast_cancer.target_names[0], 1: breast_cancer.target_names[1]})\n",
    "breast_cancer_df"
   ]
  },
  {
   "cell_type": "code",
   "execution_count": 34,
   "metadata": {},
   "outputs": [],
   "source": [
    "# split train/test\n",
    "Xtrain, Xtest, Ytrain, Ytest = \\\n",
    "train_test_split(\n",
    "    breast_cancer.data, breast_cancer.target,\n",
    "    test_size = 0.3, \n",
    "    random_state=42\n",
    ")"
   ]
  },
  {
   "cell_type": "code",
   "execution_count": 35,
   "metadata": {},
   "outputs": [
    {
     "name": "stdout",
     "output_type": "stream",
     "text": [
      "(398, 30) (171, 30) (398,) (171,)\n"
     ]
    }
   ],
   "source": [
    "print(Xtrain.shape, Xtest.shape, Ytrain.shape, Ytest.shape)"
   ]
  },
  {
   "cell_type": "code",
   "execution_count": 36,
   "metadata": {},
   "outputs": [
    {
     "name": "stderr",
     "output_type": "stream",
     "text": [
      "C:\\Users\\vatien\\Anaconda3\\lib\\site-packages\\sklearn\\linear_model\\_logistic.py:762: ConvergenceWarning: lbfgs failed to converge (status=1):\n",
      "STOP: TOTAL NO. of ITERATIONS REACHED LIMIT.\n",
      "\n",
      "Increase the number of iterations (max_iter) or scale the data as shown in:\n",
      "    https://scikit-learn.org/stable/modules/preprocessing.html\n",
      "Please also refer to the documentation for alternative solver options:\n",
      "    https://scikit-learn.org/stable/modules/linear_model.html#logistic-regression\n",
      "  n_iter_i = _check_optimize_result(\n"
     ]
    },
    {
     "data": {
      "text/plain": [
       "LogisticRegression()"
      ]
     },
     "execution_count": 36,
     "metadata": {},
     "output_type": "execute_result"
    }
   ],
   "source": [
    "# Initialize and train model\n",
    "lrClass = linear_model.LogisticRegression()\n",
    "lrClass.fit(X=Xtrain, y=Ytrain)"
   ]
  },
  {
   "cell_type": "code",
   "execution_count": 37,
   "metadata": {},
   "outputs": [
    {
     "name": "stdout",
     "output_type": "stream",
     "text": [
      "Predicted label:\t 1 -- benign\n",
      "True label:\t\t 1 -- benign\n"
     ]
    }
   ],
   "source": [
    "# get prediction\n",
    "sample = Xtrain[0:1,:]\n",
    "prediction = lrClass.predict(sample)\n",
    "print('Predicted label:\\t', prediction.squeeze(),'--', breast_cancer.target_names[prediction.squeeze()])\n",
    "print('True label:\\t\\t', Ytrain[0], '--', breast_cancer.target_names[Ytrain[0].squeeze()])"
   ]
  },
  {
   "cell_type": "raw",
   "metadata": {},
   "source": [
    "Expected:\n",
    "Predicted label:\t 1 -- benign\n",
    "True label:\t\t     1 -- benign"
   ]
  },
  {
   "cell_type": "markdown",
   "metadata": {},
   "source": [
    "### Model evaluation\n",
    "#### Accuracy"
   ]
  },
  {
   "cell_type": "code",
   "execution_count": 38,
   "metadata": {},
   "outputs": [
    {
     "name": "stdout",
     "output_type": "stream",
     "text": [
      "Accuracy on train set: 94.0 %\n",
      "Accuracy on test set: 97.1 %\n"
     ]
    }
   ],
   "source": [
    "train_acc = lrClass.score(X=Xtrain, y=Ytrain)\n",
    "test_acc = lrClass.score(X=Xtest, y=Ytest)\n",
    "print(\"Accuracy on train set:\", round(train_acc*100,1), '%')\n",
    "print(\"Accuracy on test set:\", round(test_acc*100,1), '%')"
   ]
  },
  {
   "cell_type": "raw",
   "metadata": {},
   "source": [
    "Expected:\n",
    "Accuracy on train set: 95.2 %\n",
    "Accuracy on test set: 96.5 %"
   ]
  },
  {
   "cell_type": "markdown",
   "metadata": {},
   "source": [
    "#### Confusion matrix\n",
    "[_](https://towardsdatascience.com/logistic-regression-using-python-sklearn-numpy-mnist-handwriting-recognition-matplotlib-a6b31e2b166a) "
   ]
  },
  {
   "cell_type": "code",
   "execution_count": 39,
   "metadata": {},
   "outputs": [],
   "source": [
    "from sklearn.metrics import confusion_matrix"
   ]
  },
  {
   "cell_type": "code",
   "execution_count": 40,
   "metadata": {},
   "outputs": [
    {
     "data": {
      "image/png": "[encoded data removed]",
      "text/plain": [
       "<Figure size 720x360 with 2 Axes>"
      ]
     },
     "metadata": {
      "needs_background": "light"
     },
     "output_type": "display_data"
    }
   ],
   "source": [
    "# get predictions \n",
    "Ytrain_pred = lrClass.predict(Xtrain)\n",
    "Ytest_pred = lrClass.predict(Xtest)\n",
    "# calculate confusion matrices\n",
    "cm_train = confusion_matrix(y_true=Ytrain, y_pred=Ytrain_pred)\n",
    "cm_test = confusion_matrix(y_true=Ytest, y_pred=Ytest_pred)\n",
    "# visualization with seaborn\n",
    "plt.figure(figsize=(10,5))\n",
    "plt.subplot(1,2,1)\n",
    "sns.heatmap(cm_train, annot=True, fmt='.0f', linewidths=.5, square = True, cmap = 'Blues_r', cbar=False);\n",
    "plt.ylabel('Actual label');\n",
    "plt.xlabel('Predicted label');\n",
    "all_sample_title = 'Accuracy Score on train: %.3f'%(train_acc)\n",
    "plt.title(all_sample_title, size = 12);\n",
    "\n",
    "plt.subplot(1,2,2)\n",
    "sns.heatmap(cm_test, annot=True, fmt='.0f', linewidths=.5, square = True, cbar=False);\n",
    "plt.ylabel('Actual label');\n",
    "plt.xlabel('Predicted label');\n",
    "all_sample_title = 'Accuracy Score on test: %.3f' % test_acc\n",
    "plt.title(all_sample_title, size = 12);"
   ]
  },
  {
   "cell_type": "markdown",
   "metadata": {},
   "source": [
    "#### Precision, recall, F-measure and support\n",
    "[.](https://towardsdatascience.com/building-a-logistic-regression-in-python-step-by-step-becd4d56c9c8)\n",
    "\n",
    "The **precision** is the ratio $\\frac{tp}{tp + fp}$ where $tp$ is the number of true positives and $fp$ the number of false positives. *The precision is intuitively the ability of the classifier to* ***not label a sample as positive if it is negative***.\n",
    "\n",
    "The **recall** is the ratio $\\frac{tp}{tp + fn}$ where $tp$ is the number of true positives and $fn$ the number of false negatives. *The recall is intuitively the ability of the classifier to* ***find all the positive samples***.\n",
    "\n",
    "The **F-beta score** can be interpreted as a **weighted harmonic mean of the precision and recall**, where an F-beta score reaches its best value at 1 and worst score at 0.\n",
    "\n",
    "The F-beta score ($F_\\beta$) weights the recall more than the precision by a factor of $\\beta$, $\\beta$ = 1.0 means recall and precision are equally important.\n",
    "\n",
    "The **support** is the number of occurrences of each class in true label set."
   ]
  },
  {
   "cell_type": "code",
   "execution_count": 41,
   "metadata": {},
   "outputs": [],
   "source": [
    "from sklearn.metrics import classification_report"
   ]
  },
  {
   "cell_type": "code",
   "execution_count": 42,
   "metadata": {},
   "outputs": [
    {
     "name": "stdout",
     "output_type": "stream",
     "text": [
      "================================================== \n",
      "On train set:\n",
      "\n",
      "              precision    recall  f1-score   support\n",
      "\n",
      "           0       0.93      0.91      0.92       149\n",
      "           1       0.94      0.96      0.95       249\n",
      "\n",
      "    accuracy                           0.94       398\n",
      "   macro avg       0.94      0.93      0.94       398\n",
      "weighted avg       0.94      0.94      0.94       398\n",
      "\n",
      "================================================== \n",
      "On test set:\n",
      "\n",
      "              precision    recall  f1-score   support\n",
      "\n",
      "           0       0.98      0.94      0.96        63\n",
      "           1       0.96      0.99      0.98       108\n",
      "\n",
      "    accuracy                           0.97       171\n",
      "   macro avg       0.97      0.96      0.97       171\n",
      "weighted avg       0.97      0.97      0.97       171\n",
      "\n"
     ]
    }
   ],
   "source": [
    "print('='*50, '\\nOn train set:\\n')\n",
    "print(classification_report(Ytrain, Ytrain_pred))\n",
    "print('='*50, '\\nOn test set:\\n')\n",
    "print(classification_report(Ytest, Ytest_pred))"
   ]
  },
  {
   "cell_type": "markdown",
   "metadata": {},
   "source": [
    "#### ROC Curve\n",
    "The [receiver operating characteristic (ROC) curve](https://en.wikipedia.org/wiki/Receiver_operating_characteristic) is another common tool used with binary classifiers. The dotted line represents the ROC curve of a purely random classifier; a good classifier stays as far away from that line as possible (toward the top-left corner)."
   ]
  },
  {
   "cell_type": "code",
   "execution_count": 43,
   "metadata": {},
   "outputs": [],
   "source": [
    "from sklearn.metrics import roc_auc_score\n",
    "from sklearn.metrics import roc_curve"
   ]
  },
  {
   "cell_type": "code",
   "execution_count": 44,
   "metadata": {},
   "outputs": [
    {
     "data": {
      "text/plain": [
       "<matplotlib.legend.Legend at 0x2304f8eacd0>"
      ]
     },
     "execution_count": 44,
     "metadata": {},
     "output_type": "execute_result"
    },
    {
     "data": {
      "image/png": "[encoded data removed]",
      "text/plain": [
       "<Figure size 864x360 with 2 Axes>"
      ]
     },
     "metadata": {
      "needs_background": "light"
     },
     "output_type": "display_data"
    }
   ],
   "source": [
    "plt.figure(figsize=(12,5))\n",
    "#train\n",
    "plt.subplot(1,2,1)\n",
    "logit_roc_auc = roc_auc_score(Ytrain, lrClass.predict(Xtrain))\n",
    "fpr, tpr, thresholds = roc_curve(Ytrain, lrClass.predict_proba(Xtrain)[:,1])\n",
    "plt.plot(fpr, tpr, label='Logistic Regression (area = %0.2f)' % logit_roc_auc)\n",
    "plt.plot([0, 1], [0, 1],'r--')\n",
    "plt.xlim([0.0, 1.0])\n",
    "plt.ylim([0.0, 1.05])\n",
    "plt.xlabel('False Positive Rate')\n",
    "plt.ylabel('True Positive Rate')\n",
    "plt.title('Receiver operating characteristic on train')\n",
    "plt.legend(loc=\"lower right\")\n",
    "#test\n",
    "plt.subplot(1,2,2)\n",
    "logit_roc_auc = roc_auc_score(Ytest, lrClass.predict(Xtest))\n",
    "fpr, tpr, thresholds = roc_curve(Ytest, lrClass.predict_proba(Xtest)[:,1])\n",
    "plt.plot(fpr, tpr, label='Logistic Regression (area = %0.2f)' % logit_roc_auc)\n",
    "plt.plot([0, 1], [0, 1],'r--')\n",
    "plt.xlim([0.0, 1.0])\n",
    "plt.ylim([0.0, 1.05])\n",
    "plt.xlabel('False Positive Rate')\n",
    "plt.ylabel('True Positive Rate')\n",
    "plt.title('Receiver operating characteristic on test')\n",
    "plt.legend(loc=\"lower right\")"
   ]
  },
  {
   "cell_type": "markdown",
   "metadata": {},
   "source": [
    "## 3. Decision Tree\n",
    "DT is a type of supervised learning algorithm that is mostly used for classification problems. Surprisingly, it **works for both categorical and continuous dependent** variables. In this algorithm, we **split the population into two or more homogeneous sets**. This is done based on most significant attributes/independent variables to make as distinct groups as possible.\n",
    "\n",
    "![](https://www.analyticsvidhya.com/wp-content/uploads/2015/08/IkBzK.png)\n",
    "\n",
    "In the image above, you can see that population is classified into four different groups based on multiple attributes to identify ‘if they will play or not’. To split the population into different heterogeneous groups, it uses various techniques like Gini, Information Gain, Chi-square, entropy.\n",
    "\n",
    "The best way to understand how decision tree works, is to play Jezzball – a classic game from Microsoft (image below). Essentially, you have a room with moving walls and you need to create walls such that maximum area gets cleared off with out the balls.\n",
    "\n",
    "![](https://www.analyticsvidhya.com/wp-content/uploads/2015/08/download.jpg)\n",
    "\n",
    "So, every time you split the room with a wall, you are trying to create 2 different populations with in the same room. Decision trees work in very similar fashion by dividing a population in as different groups as possible.\n",
    "\n",
    "More: [Simplified Version of Decision Tree Algorithms](https://www.analyticsvidhya.com/blog/2015/01/decision-tree-simplified/)\n",
    "\n",
    "**Code with Iris dataset**"
   ]
  },
  {
   "cell_type": "code",
   "execution_count": 45,
   "metadata": {},
   "outputs": [],
   "source": [
    "from sklearn.datasets import load_iris"
   ]
  },
  {
   "cell_type": "code",
   "execution_count": 46,
   "metadata": {},
   "outputs": [],
   "source": [
    "iris = load_iris()"
   ]
  },
  {
   "cell_type": "code",
   "execution_count": 47,
   "metadata": {},
   "outputs": [
    {
     "data": {
      "text/plain": [
       "dict_keys(['data', 'target', 'frame', 'target_names', 'DESCR', 'feature_names', 'filename'])"
      ]
     },
     "execution_count": 47,
     "metadata": {},
     "output_type": "execute_result"
    }
   ],
   "source": [
    "iris.keys()"
   ]
  },
  {
   "cell_type": "code",
   "execution_count": 48,
   "metadata": {
    "scrolled": true
   },
   "outputs": [
    {
     "name": "stdout",
     "output_type": "stream",
     "text": [
      ".. _iris_dataset:\n",
      "\n",
      "Iris plants dataset\n",
      "--------------------\n",
      "\n",
      "**Data Set Characteristics:**\n",
      "\n",
      "    :Number of Instances: 150 (50 in each of three classes)\n",
      "    :Number of Attributes: 4 numeric, predictive attributes and the class\n",
      "    :Attribute Information:\n",
      "        - sepal length in cm\n",
      "        - sepal width in cm\n",
      "        - petal length in cm\n",
      "        - petal width in cm\n",
      "        - class:\n",
      "                - Iris-Setosa\n",
      "                - Iris-Versicolour\n",
      "                - Iris-Virginica\n",
      "                \n",
      "    :Summary Statistics:\n",
      "\n",
      "    ============== ==== ==== ======= ===== ====================\n",
      "                    Min  Max   Mean    SD   Class Correlation\n",
      "    ============== ==== ==== ======= ===== ====================\n",
      "    sepal length:   4.3  7.9   5.84   0.83    0.7826\n",
      "    sepal width:    2.0  4.4   3.05   0.43   -0.4194\n",
      "    petal length:   1.0  6.9   3.76   1.76    0.9490  (high!)\n",
      "    petal width:    0.1  2.5   1.20   0.76    0.9565  (high!)\n",
      "    ============== ==== ==== ======= ===== ====================\n",
      "\n",
      "    :Missing Attribute Values: None\n",
      "    :Class Distribution: 33.3% for each of 3 classes.\n",
      "    :Creator: R.A. Fisher\n",
      "    :Donor: Michael Marshall (MARSHALL%PLU@io.arc.nasa.gov)\n",
      "    :Date: July, 1988\n",
      "\n",
      "The famous Iris database, first used by Sir R.A. Fisher. The dataset is taken\n",
      "from Fisher's paper. Note that it's the same as in R, but not as in the UCI\n",
      "Machine Learning Repository, which has two wrong data points.\n",
      "\n",
      "This is perhaps the best known database to be found in the\n",
      "pattern recognition literature.  Fisher's paper is a classic in the field and\n",
      "is referenced frequently to this day.  (See Duda & Hart, for example.)  The\n",
      "data set contains 3 classes of 50 instances each, where each class refers to a\n",
      "type of iris plant.  One class is linearly separable from the other 2; the\n",
      "latter are NOT linearly separable from each other.\n",
      "\n",
      ".. topic:: References\n",
      "\n",
      "   - Fisher, R.A. \"The use of multiple measurements in taxonomic problems\"\n",
      "     Annual Eugenics, 7, Part II, 179-188 (1936); also in \"Contributions to\n",
      "     Mathematical Statistics\" (John Wiley, NY, 1950).\n",
      "   - Duda, R.O., & Hart, P.E. (1973) Pattern Classification and Scene Analysis.\n",
      "     (Q327.D83) John Wiley & Sons.  ISBN 0-471-22361-1.  See page 218.\n",
      "   - Dasarathy, B.V. (1980) \"Nosing Around the Neighborhood: A New System\n",
      "     Structure and Classification Rule for Recognition in Partially Exposed\n",
      "     Environments\".  IEEE Transactions on Pattern Analysis and Machine\n",
      "     Intelligence, Vol. PAMI-2, No. 1, 67-71.\n",
      "   - Gates, G.W. (1972) \"The Reduced Nearest Neighbor Rule\".  IEEE Transactions\n",
      "     on Information Theory, May 1972, 431-433.\n",
      "   - See also: 1988 MLC Proceedings, 54-64.  Cheeseman et al\"s AUTOCLASS II\n",
      "     conceptual clustering system finds 3 classes in the data.\n",
      "   - Many, many more ...\n"
     ]
    }
   ],
   "source": [
    "print(iris.DESCR)"
   ]
  },
  {
   "cell_type": "code",
   "execution_count": 49,
   "metadata": {},
   "outputs": [
    {
     "data": {
      "text/html": [
       "<div>\n",
       "<style scoped>\n",
       "    .dataframe tbody tr th:only-of-type {\n",
       "        vertical-align: middle;\n",
       "    }\n",
       "\n",
       "    .dataframe tbody tr th {\n",
       "        vertical-align: top;\n",
       "    }\n",
       "\n",
       "    .dataframe thead th {\n",
       "        text-align: right;\n",
       "    }\n",
       "</style>\n",
       "<table border=\"1\" class=\"dataframe\">\n",
       "  <thead>\n",
       "    <tr style=\"text-align: right;\">\n",
       "      <th></th>\n",
       "      <th>sepal length (cm)</th>\n",
       "      <th>sepal width (cm)</th>\n",
       "      <th>petal length (cm)</th>\n",
       "      <th>petal width (cm)</th>\n",
       "      <th>class</th>\n",
       "    </tr>\n",
       "  </thead>\n",
       "  <tbody>\n",
       "    <tr>\n",
       "      <th>0</th>\n",
       "      <td>5.1</td>\n",
       "      <td>3.5</td>\n",
       "      <td>1.4</td>\n",
       "      <td>0.2</td>\n",
       "      <td>setosa</td>\n",
       "    </tr>\n",
       "    <tr>\n",
       "      <th>1</th>\n",
       "      <td>4.9</td>\n",
       "      <td>3.0</td>\n",
       "      <td>1.4</td>\n",
       "      <td>0.2</td>\n",
       "      <td>setosa</td>\n",
       "    </tr>\n",
       "    <tr>\n",
       "      <th>2</th>\n",
       "      <td>4.7</td>\n",
       "      <td>3.2</td>\n",
       "      <td>1.3</td>\n",
       "      <td>0.2</td>\n",
       "      <td>setosa</td>\n",
       "    </tr>\n",
       "    <tr>\n",
       "      <th>3</th>\n",
       "      <td>4.6</td>\n",
       "      <td>3.1</td>\n",
       "      <td>1.5</td>\n",
       "      <td>0.2</td>\n",
       "      <td>setosa</td>\n",
       "    </tr>\n",
       "    <tr>\n",
       "      <th>4</th>\n",
       "      <td>5.0</td>\n",
       "      <td>3.6</td>\n",
       "      <td>1.4</td>\n",
       "      <td>0.2</td>\n",
       "      <td>setosa</td>\n",
       "    </tr>\n",
       "    <tr>\n",
       "      <th>...</th>\n",
       "      <td>...</td>\n",
       "      <td>...</td>\n",
       "      <td>...</td>\n",
       "      <td>...</td>\n",
       "      <td>...</td>\n",
       "    </tr>\n",
       "    <tr>\n",
       "      <th>145</th>\n",
       "      <td>6.7</td>\n",
       "      <td>3.0</td>\n",
       "      <td>5.2</td>\n",
       "      <td>2.3</td>\n",
       "      <td>virginica</td>\n",
       "    </tr>\n",
       "    <tr>\n",
       "      <th>146</th>\n",
       "      <td>6.3</td>\n",
       "      <td>2.5</td>\n",
       "      <td>5.0</td>\n",
       "      <td>1.9</td>\n",
       "      <td>virginica</td>\n",
       "    </tr>\n",
       "    <tr>\n",
       "      <th>147</th>\n",
       "      <td>6.5</td>\n",
       "      <td>3.0</td>\n",
       "      <td>5.2</td>\n",
       "      <td>2.0</td>\n",
       "      <td>virginica</td>\n",
       "    </tr>\n",
       "    <tr>\n",
       "      <th>148</th>\n",
       "      <td>6.2</td>\n",
       "      <td>3.4</td>\n",
       "      <td>5.4</td>\n",
       "      <td>2.3</td>\n",
       "      <td>virginica</td>\n",
       "    </tr>\n",
       "    <tr>\n",
       "      <th>149</th>\n",
       "      <td>5.9</td>\n",
       "      <td>3.0</td>\n",
       "      <td>5.1</td>\n",
       "      <td>1.8</td>\n",
       "      <td>virginica</td>\n",
       "    </tr>\n",
       "  </tbody>\n",
       "</table>\n",
       "<p>150 rows × 5 columns</p>\n",
       "</div>"
      ],
      "text/plain": [
       "     sepal length (cm)  sepal width (cm)  petal length (cm)  petal width (cm)  \\\n",
       "0                  5.1               3.5                1.4               0.2   \n",
       "1                  4.9               3.0                1.4               0.2   \n",
       "2                  4.7               3.2                1.3               0.2   \n",
       "3                  4.6               3.1                1.5               0.2   \n",
       "4                  5.0               3.6                1.4               0.2   \n",
       "..                 ...               ...                ...               ...   \n",
       "145                6.7               3.0                5.2               2.3   \n",
       "146                6.3               2.5                5.0               1.9   \n",
       "147                6.5               3.0                5.2               2.0   \n",
       "148                6.2               3.4                5.4               2.3   \n",
       "149                5.9               3.0                5.1               1.8   \n",
       "\n",
       "         class  \n",
       "0       setosa  \n",
       "1       setosa  \n",
       "2       setosa  \n",
       "3       setosa  \n",
       "4       setosa  \n",
       "..         ...  \n",
       "145  virginica  \n",
       "146  virginica  \n",
       "147  virginica  \n",
       "148  virginica  \n",
       "149  virginica  \n",
       "\n",
       "[150 rows x 5 columns]"
      ]
     },
     "execution_count": 49,
     "metadata": {},
     "output_type": "execute_result"
    }
   ],
   "source": [
    "# dataframe view\n",
    "iris_df = pd.DataFrame(\n",
    "    data=np.append(iris.data, iris.target.reshape(-1, 1), axis=1), \n",
    "    columns=np.append(iris.feature_names,['class'])\n",
    ")\n",
    "iris_df['class'] = iris_df['class']\\\n",
    "                             .map({\n",
    "                                    0: iris.target_names[0], \n",
    "                                    1: iris.target_names[1],\n",
    "                                    2: iris.target_names[2]\n",
    "                                  })\n",
    "iris_df"
   ]
  },
  {
   "cell_type": "code",
   "execution_count": 50,
   "metadata": {},
   "outputs": [],
   "source": [
    "from sklearn import tree"
   ]
  },
  {
   "cell_type": "code",
   "execution_count": 51,
   "metadata": {},
   "outputs": [],
   "source": [
    "# Initialize and train model\n",
    "clf = tree.DecisionTreeClassifier(max_depth=3)\n",
    "clf = clf.fit(iris.data, iris.target)"
   ]
  },
  {
   "cell_type": "code",
   "execution_count": 52,
   "metadata": {},
   "outputs": [
    {
     "data": {
      "image/png": "[encoded data removed]",
      "text/plain": [
       "<Figure size 360x360 with 1 Axes>"
      ]
     },
     "metadata": {
      "needs_background": "light"
     },
     "output_type": "display_data"
    }
   ],
   "source": [
    "# calculate confusion matrices\n",
    "prediction = clf.predict(iris.data)\n",
    "cm = confusion_matrix(y_true=iris.target, y_pred=prediction)\n",
    "acc = clf.score(X=iris.data, y=iris.target)\n",
    "# visualization with seaborn\n",
    "plt.figure(figsize=(5,5))\n",
    "sns.heatmap(cm, annot=True, fmt='.0f', linewidths=.5, square = True, cbar=False);\n",
    "plt.ylabel('Actual label');\n",
    "plt.xlabel('Predicted label');\n",
    "all_sample_title = 'Accuracy Score: %.3f'%(acc)\n",
    "plt.title(all_sample_title, size = 12);"
   ]
  },
  {
   "cell_type": "code",
   "execution_count": 53,
   "metadata": {},
   "outputs": [
    {
     "data": {
      "image/svg+xml": [
       "<?xml version=\"1.0\" encoding=\"UTF-8\" standalone=\"no\"?>\r\n",
       "<!DOCTYPE svg PUBLIC \"-//W3C//DTD SVG 1.1//EN\"\r\n",
       " \"http://www.w3.org/Graphics/SVG/1.1/DTD/svg11.dtd\">\r\n",
       "<!-- Generated by graphviz version 2.38.0 (20140413.2041)\r\n",
       " -->\r\n",
       "<!-- Title: Tree Pages: 1 -->\r\n",
       "<svg width=\"567pt\" height=\"433pt\"\r\n",
       " viewBox=\"0.00 0.00 567.00 433.00\" xmlns=\"http://www.w3.org/2000/svg\" xmlns:xlink=\"http://www.w3.org/1999/xlink\">\r\n",
       "<g id=\"graph0\" class=\"graph\" transform=\"scale(1 1) rotate(0) translate(4 429)\">\r\n",
       "<title>Tree</title>\r\n",
       "<polygon fill=\"white\" stroke=\"none\" points=\"-4,4 -4,-429 563,-429 563,4 -4,4\"/>\r\n",
       "<!-- 0 -->\r\n",
       "<g id=\"node1\" class=\"node\"><title>0</title>\r\n",
       "<path fill=\"#ffffff\" stroke=\"black\" d=\"M273,-425C273,-425 132,-425 132,-425 126,-425 120,-419 120,-413 120,-413 120,-354 120,-354 120,-348 126,-342 132,-342 132,-342 273,-342 273,-342 279,-342 285,-348 285,-354 285,-354 285,-413 285,-413 285,-419 279,-425 273,-425\"/>\r\n",
       "<text text-anchor=\"start\" x=\"128\" y=\"-409.8\" font-family=\"Helvetica,sans-Serif\" font-size=\"14.00\">petal length (cm) ≤ 2.45</text>\r\n",
       "<text text-anchor=\"start\" x=\"165\" y=\"-394.8\" font-family=\"Helvetica,sans-Serif\" font-size=\"14.00\">gini = 0.667</text>\r\n",
       "<text text-anchor=\"start\" x=\"155\" y=\"-379.8\" font-family=\"Helvetica,sans-Serif\" font-size=\"14.00\">samples = 150</text>\r\n",
       "<text text-anchor=\"start\" x=\"142\" y=\"-364.8\" font-family=\"Helvetica,sans-Serif\" font-size=\"14.00\">value = [50, 50, 50]</text>\r\n",
       "<text text-anchor=\"start\" x=\"156.5\" y=\"-349.8\" font-family=\"Helvetica,sans-Serif\" font-size=\"14.00\">class = setosa</text>\r\n",
       "</g>\r\n",
       "<!-- 1 -->\r\n",
       "<g id=\"node2\" class=\"node\"><title>1</title>\r\n",
       "<path fill=\"#e58139\" stroke=\"black\" d=\"M172,-298.5C172,-298.5 75,-298.5 75,-298.5 69,-298.5 63,-292.5 63,-286.5 63,-286.5 63,-242.5 63,-242.5 63,-236.5 69,-230.5 75,-230.5 75,-230.5 172,-230.5 172,-230.5 178,-230.5 184,-236.5 184,-242.5 184,-242.5 184,-286.5 184,-286.5 184,-292.5 178,-298.5 172,-298.5\"/>\r\n",
       "<text text-anchor=\"start\" x=\"94.5\" y=\"-283.3\" font-family=\"Helvetica,sans-Serif\" font-size=\"14.00\">gini = 0.0</text>\r\n",
       "<text text-anchor=\"start\" x=\"80\" y=\"-268.3\" font-family=\"Helvetica,sans-Serif\" font-size=\"14.00\">samples = 50</text>\r\n",
       "<text text-anchor=\"start\" x=\"71\" y=\"-253.3\" font-family=\"Helvetica,sans-Serif\" font-size=\"14.00\">value = [50, 0, 0]</text>\r\n",
       "<text text-anchor=\"start\" x=\"77.5\" y=\"-238.3\" font-family=\"Helvetica,sans-Serif\" font-size=\"14.00\">class = setosa</text>\r\n",
       "</g>\r\n",
       "<!-- 0&#45;&gt;1 -->\r\n",
       "<g id=\"edge1\" class=\"edge\"><title>0&#45;&gt;1</title>\r\n",
       "<path fill=\"none\" stroke=\"black\" d=\"M175.091,-341.907C167.492,-330.652 159.231,-318.418 151.593,-307.106\"/>\r\n",
       "<polygon fill=\"black\" stroke=\"black\" points=\"154.391,-304.996 145.895,-298.667 148.59,-308.913 154.391,-304.996\"/>\r\n",
       "<text text-anchor=\"middle\" x=\"141.136\" y=\"-319.51\" font-family=\"Helvetica,sans-Serif\" font-size=\"14.00\">True</text>\r\n",
       "</g>\r\n",
       "<!-- 2 -->\r\n",
       "<g id=\"node3\" class=\"node\"><title>2</title>\r\n",
       "<path fill=\"#ffffff\" stroke=\"black\" d=\"M349,-306C349,-306 214,-306 214,-306 208,-306 202,-300 202,-294 202,-294 202,-235 202,-235 202,-229 208,-223 214,-223 214,-223 349,-223 349,-223 355,-223 361,-229 361,-235 361,-235 361,-294 361,-294 361,-300 355,-306 349,-306\"/>\r\n",
       "<text text-anchor=\"start\" x=\"210\" y=\"-290.8\" font-family=\"Helvetica,sans-Serif\" font-size=\"14.00\">petal width (cm) ≤ 1.75</text>\r\n",
       "<text text-anchor=\"start\" x=\"252.5\" y=\"-275.8\" font-family=\"Helvetica,sans-Serif\" font-size=\"14.00\">gini = 0.5</text>\r\n",
       "<text text-anchor=\"start\" x=\"234\" y=\"-260.8\" font-family=\"Helvetica,sans-Serif\" font-size=\"14.00\">samples = 100</text>\r\n",
       "<text text-anchor=\"start\" x=\"225\" y=\"-245.8\" font-family=\"Helvetica,sans-Serif\" font-size=\"14.00\">value = [0, 50, 50]</text>\r\n",
       "<text text-anchor=\"start\" x=\"226\" y=\"-230.8\" font-family=\"Helvetica,sans-Serif\" font-size=\"14.00\">class = versicolor</text>\r\n",
       "</g>\r\n",
       "<!-- 0&#45;&gt;2 -->\r\n",
       "<g id=\"edge2\" class=\"edge\"><title>0&#45;&gt;2</title>\r\n",
       "<path fill=\"none\" stroke=\"black\" d=\"M229.909,-341.907C235.914,-333.014 242.331,-323.509 248.529,-314.331\"/>\r\n",
       "<polygon fill=\"black\" stroke=\"black\" points=\"251.444,-316.267 254.14,-306.021 245.643,-312.35 251.444,-316.267\"/>\r\n",
       "<text text-anchor=\"middle\" x=\"258.898\" y=\"-326.864\" font-family=\"Helvetica,sans-Serif\" font-size=\"14.00\">False</text>\r\n",
       "</g>\r\n",
       "<!-- 3 -->\r\n",
       "<g id=\"node4\" class=\"node\"><title>3</title>\r\n",
       "<path fill=\"#4de88e\" stroke=\"black\" d=\"M261,-187C261,-187 120,-187 120,-187 114,-187 108,-181 108,-175 108,-175 108,-116 108,-116 108,-110 114,-104 120,-104 120,-104 261,-104 261,-104 267,-104 273,-110 273,-116 273,-116 273,-175 273,-175 273,-181 267,-187 261,-187\"/>\r\n",
       "<text text-anchor=\"start\" x=\"116\" y=\"-171.8\" font-family=\"Helvetica,sans-Serif\" font-size=\"14.00\">petal length (cm) ≤ 4.95</text>\r\n",
       "<text text-anchor=\"start\" x=\"153\" y=\"-156.8\" font-family=\"Helvetica,sans-Serif\" font-size=\"14.00\">gini = 0.168</text>\r\n",
       "<text text-anchor=\"start\" x=\"147\" y=\"-141.8\" font-family=\"Helvetica,sans-Serif\" font-size=\"14.00\">samples = 54</text>\r\n",
       "<text text-anchor=\"start\" x=\"138\" y=\"-126.8\" font-family=\"Helvetica,sans-Serif\" font-size=\"14.00\">value = [0, 49, 5]</text>\r\n",
       "<text text-anchor=\"start\" x=\"135\" y=\"-111.8\" font-family=\"Helvetica,sans-Serif\" font-size=\"14.00\">class = versicolor</text>\r\n",
       "</g>\r\n",
       "<!-- 2&#45;&gt;3 -->\r\n",
       "<g id=\"edge3\" class=\"edge\"><title>2&#45;&gt;3</title>\r\n",
       "<path fill=\"none\" stroke=\"black\" d=\"M249.928,-222.907C242.94,-213.923 235.467,-204.315 228.261,-195.05\"/>\r\n",
       "<polygon fill=\"black\" stroke=\"black\" points=\"230.918,-192.766 222.016,-187.021 225.393,-197.063 230.918,-192.766\"/>\r\n",
       "</g>\r\n",
       "<!-- 6 -->\r\n",
       "<g id=\"node7\" class=\"node\"><title>6</title>\r\n",
       "<path fill=\"#843de6\" stroke=\"black\" d=\"M444,-187C444,-187 303,-187 303,-187 297,-187 291,-181 291,-175 291,-175 291,-116 291,-116 291,-110 297,-104 303,-104 303,-104 444,-104 444,-104 450,-104 456,-110 456,-116 456,-116 456,-175 456,-175 456,-181 450,-187 444,-187\"/>\r\n",
       "<text text-anchor=\"start\" x=\"299\" y=\"-171.8\" font-family=\"Helvetica,sans-Serif\" font-size=\"14.00\">petal length (cm) ≤ 4.85</text>\r\n",
       "<text text-anchor=\"start\" x=\"336\" y=\"-156.8\" font-family=\"Helvetica,sans-Serif\" font-size=\"14.00\">gini = 0.043</text>\r\n",
       "<text text-anchor=\"start\" x=\"330\" y=\"-141.8\" font-family=\"Helvetica,sans-Serif\" font-size=\"14.00\">samples = 46</text>\r\n",
       "<text text-anchor=\"start\" x=\"321\" y=\"-126.8\" font-family=\"Helvetica,sans-Serif\" font-size=\"14.00\">value = [0, 1, 45]</text>\r\n",
       "<text text-anchor=\"start\" x=\"323.5\" y=\"-111.8\" font-family=\"Helvetica,sans-Serif\" font-size=\"14.00\">class = virginica</text>\r\n",
       "</g>\r\n",
       "<!-- 2&#45;&gt;6 -->\r\n",
       "<g id=\"edge6\" class=\"edge\"><title>2&#45;&gt;6</title>\r\n",
       "<path fill=\"none\" stroke=\"black\" d=\"M313.419,-222.907C320.484,-213.923 328.039,-204.315 335.324,-195.05\"/>\r\n",
       "<polygon fill=\"black\" stroke=\"black\" points=\"338.208,-197.045 341.637,-187.021 332.705,-192.718 338.208,-197.045\"/>\r\n",
       "</g>\r\n",
       "<!-- 4 -->\r\n",
       "<g id=\"node5\" class=\"node\"><title>4</title>\r\n",
       "<path fill=\"#3de684\" stroke=\"black\" d=\"M115,-68C115,-68 12,-68 12,-68 6,-68 -7.10543e-015,-62 -7.10543e-015,-56 -7.10543e-015,-56 -7.10543e-015,-12 -7.10543e-015,-12 -7.10543e-015,-6 6,-0 12,-0 12,-0 115,-0 115,-0 121,-0 127,-6 127,-12 127,-12 127,-56 127,-56 127,-62 121,-68 115,-68\"/>\r\n",
       "<text text-anchor=\"start\" x=\"26\" y=\"-52.8\" font-family=\"Helvetica,sans-Serif\" font-size=\"14.00\">gini = 0.041</text>\r\n",
       "<text text-anchor=\"start\" x=\"20\" y=\"-37.8\" font-family=\"Helvetica,sans-Serif\" font-size=\"14.00\">samples = 48</text>\r\n",
       "<text text-anchor=\"start\" x=\"11\" y=\"-22.8\" font-family=\"Helvetica,sans-Serif\" font-size=\"14.00\">value = [0, 47, 1]</text>\r\n",
       "<text text-anchor=\"start\" x=\"8\" y=\"-7.8\" font-family=\"Helvetica,sans-Serif\" font-size=\"14.00\">class = versicolor</text>\r\n",
       "</g>\r\n",
       "<!-- 3&#45;&gt;4 -->\r\n",
       "<g id=\"edge4\" class=\"edge\"><title>3&#45;&gt;4</title>\r\n",
       "<path fill=\"none\" stroke=\"black\" d=\"M143.21,-103.726C132.314,-94.3318 120.736,-84.349 109.879,-74.9883\"/>\r\n",
       "<polygon fill=\"black\" stroke=\"black\" points=\"111.981,-72.1789 102.121,-68.2996 107.41,-77.4804 111.981,-72.1789\"/>\r\n",
       "</g>\r\n",
       "<!-- 5 -->\r\n",
       "<g id=\"node6\" class=\"node\"><title>5</title>\r\n",
       "<path fill=\"#c09cf2\" stroke=\"black\" d=\"M249.5,-68C249.5,-68 157.5,-68 157.5,-68 151.5,-68 145.5,-62 145.5,-56 145.5,-56 145.5,-12 145.5,-12 145.5,-6 151.5,-0 157.5,-0 157.5,-0 249.5,-0 249.5,-0 255.5,-0 261.5,-6 261.5,-12 261.5,-12 261.5,-56 261.5,-56 261.5,-62 255.5,-68 249.5,-68\"/>\r\n",
       "<text text-anchor=\"start\" x=\"166\" y=\"-52.8\" font-family=\"Helvetica,sans-Serif\" font-size=\"14.00\">gini = 0.444</text>\r\n",
       "<text text-anchor=\"start\" x=\"164\" y=\"-37.8\" font-family=\"Helvetica,sans-Serif\" font-size=\"14.00\">samples = 6</text>\r\n",
       "<text text-anchor=\"start\" x=\"155\" y=\"-22.8\" font-family=\"Helvetica,sans-Serif\" font-size=\"14.00\">value = [0, 2, 4]</text>\r\n",
       "<text text-anchor=\"start\" x=\"153.5\" y=\"-7.8\" font-family=\"Helvetica,sans-Serif\" font-size=\"14.00\">class = virginica</text>\r\n",
       "</g>\r\n",
       "<!-- 3&#45;&gt;5 -->\r\n",
       "<g id=\"edge5\" class=\"edge\"><title>3&#45;&gt;5</title>\r\n",
       "<path fill=\"none\" stroke=\"black\" d=\"M195.341,-103.726C196.326,-95.4263 197.366,-86.6671 198.361,-78.2834\"/>\r\n",
       "<polygon fill=\"black\" stroke=\"black\" points=\"201.843,-78.6425 199.547,-68.2996 194.892,-77.8172 201.843,-78.6425\"/>\r\n",
       "</g>\r\n",
       "<!-- 7 -->\r\n",
       "<g id=\"node8\" class=\"node\"><title>7</title>\r\n",
       "<path fill=\"#c09cf2\" stroke=\"black\" d=\"M407.5,-68C407.5,-68 315.5,-68 315.5,-68 309.5,-68 303.5,-62 303.5,-56 303.5,-56 303.5,-12 303.5,-12 303.5,-6 309.5,-0 315.5,-0 315.5,-0 407.5,-0 407.5,-0 413.5,-0 419.5,-6 419.5,-12 419.5,-12 419.5,-56 419.5,-56 419.5,-62 413.5,-68 407.5,-68\"/>\r\n",
       "<text text-anchor=\"start\" x=\"324\" y=\"-52.8\" font-family=\"Helvetica,sans-Serif\" font-size=\"14.00\">gini = 0.444</text>\r\n",
       "<text text-anchor=\"start\" x=\"322\" y=\"-37.8\" font-family=\"Helvetica,sans-Serif\" font-size=\"14.00\">samples = 3</text>\r\n",
       "<text text-anchor=\"start\" x=\"313\" y=\"-22.8\" font-family=\"Helvetica,sans-Serif\" font-size=\"14.00\">value = [0, 1, 2]</text>\r\n",
       "<text text-anchor=\"start\" x=\"311.5\" y=\"-7.8\" font-family=\"Helvetica,sans-Serif\" font-size=\"14.00\">class = virginica</text>\r\n",
       "</g>\r\n",
       "<!-- 6&#45;&gt;7 -->\r\n",
       "<g id=\"edge7\" class=\"edge\"><title>6&#45;&gt;7</title>\r\n",
       "<path fill=\"none\" stroke=\"black\" d=\"M369.032,-103.726C368.122,-95.4263 367.162,-86.6671 366.243,-78.2834\"/>\r\n",
       "<polygon fill=\"black\" stroke=\"black\" points=\"369.718,-77.8588 365.149,-68.2996 362.76,-78.6214 369.718,-77.8588\"/>\r\n",
       "</g>\r\n",
       "<!-- 8 -->\r\n",
       "<g id=\"node9\" class=\"node\"><title>8</title>\r\n",
       "<path fill=\"#8139e5\" stroke=\"black\" d=\"M547,-68C547,-68 450,-68 450,-68 444,-68 438,-62 438,-56 438,-56 438,-12 438,-12 438,-6 444,-0 450,-0 450,-0 547,-0 547,-0 553,-0 559,-6 559,-12 559,-12 559,-56 559,-56 559,-62 553,-68 547,-68\"/>\r\n",
       "<text text-anchor=\"start\" x=\"469.5\" y=\"-52.8\" font-family=\"Helvetica,sans-Serif\" font-size=\"14.00\">gini = 0.0</text>\r\n",
       "<text text-anchor=\"start\" x=\"455\" y=\"-37.8\" font-family=\"Helvetica,sans-Serif\" font-size=\"14.00\">samples = 43</text>\r\n",
       "<text text-anchor=\"start\" x=\"446\" y=\"-22.8\" font-family=\"Helvetica,sans-Serif\" font-size=\"14.00\">value = [0, 0, 43]</text>\r\n",
       "<text text-anchor=\"start\" x=\"448.5\" y=\"-7.8\" font-family=\"Helvetica,sans-Serif\" font-size=\"14.00\">class = virginica</text>\r\n",
       "</g>\r\n",
       "<!-- 6&#45;&gt;8 -->\r\n",
       "<g id=\"edge8\" class=\"edge\"><title>6&#45;&gt;8</title>\r\n",
       "<path fill=\"none\" stroke=\"black\" d=\"M420.045,-103.726C430.77,-94.3318 442.166,-84.349 452.851,-74.9883\"/>\r\n",
       "<polygon fill=\"black\" stroke=\"black\" points=\"455.271,-77.5217 460.487,-68.2996 450.658,-72.2562 455.271,-77.5217\"/>\r\n",
       "</g>\r\n",
       "</g>\r\n",
       "</svg>\r\n"
      ],
      "text/plain": [
       "<graphviz.files.Source at 0x2304f912520>"
      ]
     },
     "execution_count": 53,
     "metadata": {},
     "output_type": "execute_result"
    }
   ],
   "source": [
    "# tree visualization\n",
    "import graphviz \n",
    "dot_data = tree.export_graphviz(clf, out_file=None, \n",
    "                      feature_names=iris.feature_names,  \n",
    "                      class_names=iris.target_names,  \n",
    "                      filled=True, rounded=True,  \n",
    "                      special_characters=True)  \n",
    "graph = graphviz.Source(dot_data)\n",
    "graph"
   ]
  },
  {
   "cell_type": "code",
   "execution_count": 54,
   "metadata": {},
   "outputs": [
    {
     "data": {
      "image/png": "[encoded data removed]",
      "text/plain": [
       "<Figure size 432x288 with 6 Axes>"
      ]
     },
     "metadata": {
      "needs_background": "light"
     },
     "output_type": "display_data"
    }
   ],
   "source": [
    "# Optional \n",
    "# Plot the decision surface of a decision tree on the iris dataset\n",
    "\n",
    "# Parameters\n",
    "n_classes = 3\n",
    "plot_colors = \"rgb\"\n",
    "plot_step = 0.02\n",
    "\n",
    "# Load data\n",
    "iris = load_iris()\n",
    "\n",
    "for pairidx, pair in enumerate([[0, 1], [0, 2], [0, 3],\n",
    "                                [1, 2], [1, 3], [2, 3]]):\n",
    "    # We only take the two corresponding features\n",
    "    X = iris.data[:, pair]\n",
    "    y = iris.target\n",
    "\n",
    "    # Train\n",
    "    clf = tree.DecisionTreeClassifier().fit(X, y)\n",
    "\n",
    "    # Plot the decision boundary\n",
    "    plt.subplot(2, 3, pairidx + 1)\n",
    "\n",
    "    x_min, x_max = X[:, 0].min() - 1, X[:, 0].max() + 1\n",
    "    y_min, y_max = X[:, 1].min() - 1, X[:, 1].max() + 1\n",
    "    xx, yy = np.meshgrid(np.arange(x_min, x_max, plot_step),\n",
    "                         np.arange(y_min, y_max, plot_step))\n",
    "    plt.tight_layout(h_pad=0.5, w_pad=0.5, pad=2.5)\n",
    "\n",
    "    Z = clf.predict(np.c_[xx.ravel(), yy.ravel()])\n",
    "    Z = Z.reshape(xx.shape)\n",
    "    cs = plt.contourf(xx, yy, Z, cmap=plt.cm.RdYlBu)\n",
    "\n",
    "    plt.xlabel(iris.feature_names[pair[0]])\n",
    "    plt.ylabel(iris.feature_names[pair[1]])\n",
    "\n",
    "    # Plot the training points\n",
    "    for i, color in zip(range(n_classes), plot_colors):\n",
    "        idx = np.where(y == i)\n",
    "        plt.scatter(X[idx, 0], X[idx, 1], c=color, label=iris.target_names[i],\n",
    "                    cmap=plt.cm.RdYlBu, edgecolor='black', s=15)\n",
    "\n",
    "plt.suptitle(\"Decision surface of a decision tree using paired features\")\n",
    "plt.legend(loc='lower right', borderpad=0, handletextpad=0)\n",
    "plt.axis(\"tight\")\n",
    "plt.show()"
   ]
  },
  {
   "cell_type": "code",
   "execution_count": 55,
   "metadata": {},
   "outputs": [
    {
     "data": {
      "image/png": "[encoded data removed]",
      "text/plain": [
       "<Figure size 432x288 with 1 Axes>"
      ]
     },
     "metadata": {
      "needs_background": "light"
     },
     "output_type": "display_data"
    }
   ],
   "source": [
    "# Optional: Regression Decission Tree\n",
    "# https://scikit-learn.org/stable/auto_examples/tree/plot_tree_regression.html\n",
    "# print(__doc__)\n",
    "\n",
    "# Create a random dataset\n",
    "rng = np.random.RandomState(42)\n",
    "X = np.sort(5 * rng.rand(80, 1), axis=0)\n",
    "y = np.sin(X).ravel()\n",
    "y[::5] += 3 * (0.5 - rng.rand(16))\n",
    "\n",
    "# Fit regression model\n",
    "regr_1 = tree.DecisionTreeRegressor(max_depth=2)\n",
    "regr_2 = tree.DecisionTreeRegressor(max_depth=5)\n",
    "regr_1.fit(X, y)\n",
    "regr_2.fit(X, y)\n",
    "\n",
    "# Predict\n",
    "X_test = np.arange(0.0, 5.0, 0.01)[:, np.newaxis]\n",
    "y_1 = regr_1.predict(X_test)\n",
    "y_2 = regr_2.predict(X_test)\n",
    "\n",
    "# Plot the results\n",
    "plt.figure()\n",
    "plt.scatter(X, y, s=20, edgecolor=\"black\", c=\"darkorange\", label=\"data\")\n",
    "plt.plot(X_test, y_1, color=\"cornflowerblue\", label=\"max_depth=2\", linewidth=2)\n",
    "plt.plot(X_test, y_2, color=\"yellowgreen\", label=\"max_depth=5\", linewidth=2)\n",
    "plt.xlabel(\"data\")\n",
    "plt.ylabel(\"target\")\n",
    "plt.title(\"Decision Tree Regression\")\n",
    "plt.legend()\n",
    "plt.show()"
   ]
  },
  {
   "cell_type": "code",
   "execution_count": 56,
   "metadata": {},
   "outputs": [
    {
     "data": {
      "image/svg+xml": [
       "<?xml version=\"1.0\" encoding=\"UTF-8\" standalone=\"no\"?>\r\n",
       "<!DOCTYPE svg PUBLIC \"-//W3C//DTD SVG 1.1//EN\"\r\n",
       " \"http://www.w3.org/Graphics/SVG/1.1/DTD/svg11.dtd\">\r\n",
       "<!-- Generated by graphviz version 2.38.0 (20140413.2041)\r\n",
       " -->\r\n",
       "<!-- Title: Tree Pages: 1 -->\r\n",
       "<svg width=\"433pt\" height=\"269pt\"\r\n",
       " viewBox=\"0.00 0.00 433.00 269.00\" xmlns=\"http://www.w3.org/2000/svg\" xmlns:xlink=\"http://www.w3.org/1999/xlink\">\r\n",
       "<g id=\"graph0\" class=\"graph\" transform=\"scale(1 1) rotate(0) translate(4 265)\">\r\n",
       "<title>Tree</title>\r\n",
       "<polygon fill=\"white\" stroke=\"none\" points=\"-4,4 -4,-265 429,-265 429,4 -4,4\"/>\r\n",
       "<!-- 0 -->\r\n",
       "<g id=\"node1\" class=\"node\"><title>0</title>\r\n",
       "<polygon fill=\"#eead7e\" stroke=\"black\" points=\"254.5,-261 157.5,-261 157.5,-193 254.5,-193 254.5,-261\"/>\r\n",
       "<text text-anchor=\"middle\" x=\"206\" y=\"-245.8\" font-family=\"Times New Roman,serif\" font-size=\"14.00\">X[0] &lt;= 3.186</text>\r\n",
       "<text text-anchor=\"middle\" x=\"206\" y=\"-230.8\" font-family=\"Times New Roman,serif\" font-size=\"14.00\">mse = 0.665</text>\r\n",
       "<text text-anchor=\"middle\" x=\"206\" y=\"-215.8\" font-family=\"Times New Roman,serif\" font-size=\"14.00\">samples = 80</text>\r\n",
       "<text text-anchor=\"middle\" x=\"206\" y=\"-200.8\" font-family=\"Times New Roman,serif\" font-size=\"14.00\">value = 0.143</text>\r\n",
       "</g>\r\n",
       "<!-- 1 -->\r\n",
       "<g id=\"node2\" class=\"node\"><title>1</title>\r\n",
       "<polygon fill=\"#e78946\" stroke=\"black\" points=\"197.5,-157 100.5,-157 100.5,-89 197.5,-89 197.5,-157\"/>\r\n",
       "<text text-anchor=\"middle\" x=\"149\" y=\"-141.8\" font-family=\"Times New Roman,serif\" font-size=\"14.00\">X[0] &lt;= 0.408</text>\r\n",
       "<text text-anchor=\"middle\" x=\"149\" y=\"-126.8\" font-family=\"Times New Roman,serif\" font-size=\"14.00\">mse = 0.228</text>\r\n",
       "<text text-anchor=\"middle\" x=\"149\" y=\"-111.8\" font-family=\"Times New Roman,serif\" font-size=\"14.00\">samples = 54</text>\r\n",
       "<text text-anchor=\"middle\" x=\"149\" y=\"-96.8\" font-family=\"Times New Roman,serif\" font-size=\"14.00\">value = 0.623</text>\r\n",
       "</g>\r\n",
       "<!-- 0&#45;&gt;1 -->\r\n",
       "<g id=\"edge1\" class=\"edge\"><title>0&#45;&gt;1</title>\r\n",
       "<path fill=\"none\" stroke=\"black\" d=\"M187.494,-192.884C182.715,-184.332 177.507,-175.013 172.511,-166.072\"/>\r\n",
       "<polygon fill=\"black\" stroke=\"black\" points=\"175.542,-164.321 167.608,-157.299 169.431,-167.736 175.542,-164.321\"/>\r\n",
       "<text text-anchor=\"middle\" x=\"160.8\" y=\"-177.655\" font-family=\"Times New Roman,serif\" font-size=\"14.00\">True</text>\r\n",
       "</g>\r\n",
       "<!-- 4 -->\r\n",
       "<g id=\"node5\" class=\"node\"><title>4</title>\r\n",
       "<polygon fill=\"#fdf7f2\" stroke=\"black\" points=\"312.5,-157 215.5,-157 215.5,-89 312.5,-89 312.5,-157\"/>\r\n",
       "<text text-anchor=\"middle\" x=\"264\" y=\"-141.8\" font-family=\"Times New Roman,serif\" font-size=\"14.00\">X[0] &lt;= 3.758</text>\r\n",
       "<text text-anchor=\"middle\" x=\"264\" y=\"-126.8\" font-family=\"Times New Roman,serif\" font-size=\"14.00\">mse = 0.103</text>\r\n",
       "<text text-anchor=\"middle\" x=\"264\" y=\"-111.8\" font-family=\"Times New Roman,serif\" font-size=\"14.00\">samples = 26</text>\r\n",
       "<text text-anchor=\"middle\" x=\"264\" y=\"-96.8\" font-family=\"Times New Roman,serif\" font-size=\"14.00\">value = &#45;0.852</text>\r\n",
       "</g>\r\n",
       "<!-- 0&#45;&gt;4 -->\r\n",
       "<g id=\"edge4\" class=\"edge\"><title>0&#45;&gt;4</title>\r\n",
       "<path fill=\"none\" stroke=\"black\" d=\"M224.831,-192.884C229.693,-184.332 234.992,-175.013 240.077,-166.072\"/>\r\n",
       "<polygon fill=\"black\" stroke=\"black\" points=\"243.165,-167.722 245.065,-157.299 237.079,-164.262 243.165,-167.722\"/>\r\n",
       "<text text-anchor=\"middle\" x=\"251.694\" y=\"-177.704\" font-family=\"Times New Roman,serif\" font-size=\"14.00\">False</text>\r\n",
       "</g>\r\n",
       "<!-- 2 -->\r\n",
       "<g id=\"node3\" class=\"node\"><title>2</title>\r\n",
       "<polygon fill=\"#efb286\" stroke=\"black\" points=\"86,-53 0,-53 0,-0 86,-0 86,-53\"/>\r\n",
       "<text text-anchor=\"middle\" x=\"43\" y=\"-37.8\" font-family=\"Times New Roman,serif\" font-size=\"14.00\">mse = 0.178</text>\r\n",
       "<text text-anchor=\"middle\" x=\"43\" y=\"-22.8\" font-family=\"Times New Roman,serif\" font-size=\"14.00\">samples = 9</text>\r\n",
       "<text text-anchor=\"middle\" x=\"43\" y=\"-7.8\" font-family=\"Times New Roman,serif\" font-size=\"14.00\">value = 0.07</text>\r\n",
       "</g>\r\n",
       "<!-- 1&#45;&gt;2 -->\r\n",
       "<g id=\"edge2\" class=\"edge\"><title>1&#45;&gt;2</title>\r\n",
       "<path fill=\"none\" stroke=\"black\" d=\"M111.926,-88.9485C101.46,-79.6175 90.0799,-69.4722 79.6391,-60.1641\"/>\r\n",
       "<polygon fill=\"black\" stroke=\"black\" points=\"81.6622,-57.2788 71.8687,-53.2367 77.004,-62.5038 81.6622,-57.2788\"/>\r\n",
       "</g>\r\n",
       "<!-- 3 -->\r\n",
       "<g id=\"node4\" class=\"node\"><title>3</title>\r\n",
       "<polygon fill=\"#e58139\" stroke=\"black\" points=\"196,-53 104,-53 104,-0 196,-0 196,-53\"/>\r\n",
       "<text text-anchor=\"middle\" x=\"150\" y=\"-37.8\" font-family=\"Times New Roman,serif\" font-size=\"14.00\">mse = 0.165</text>\r\n",
       "<text text-anchor=\"middle\" x=\"150\" y=\"-22.8\" font-family=\"Times New Roman,serif\" font-size=\"14.00\">samples = 45</text>\r\n",
       "<text text-anchor=\"middle\" x=\"150\" y=\"-7.8\" font-family=\"Times New Roman,serif\" font-size=\"14.00\">value = 0.733</text>\r\n",
       "</g>\r\n",
       "<!-- 1&#45;&gt;3 -->\r\n",
       "<g id=\"edge3\" class=\"edge\"><title>1&#45;&gt;3</title>\r\n",
       "<path fill=\"none\" stroke=\"black\" d=\"M149.35,-88.9485C149.437,-80.7153 149.531,-71.848 149.619,-63.4814\"/>\r\n",
       "<polygon fill=\"black\" stroke=\"black\" points=\"153.122,-63.2732 149.728,-53.2367 146.122,-63.1991 153.122,-63.2732\"/>\r\n",
       "</g>\r\n",
       "<!-- 5 -->\r\n",
       "<g id=\"node6\" class=\"node\"><title>5</title>\r\n",
       "<polygon fill=\"#f7dac5\" stroke=\"black\" points=\"311,-53 215,-53 215,-0 311,-0 311,-53\"/>\r\n",
       "<text text-anchor=\"middle\" x=\"263\" y=\"-37.8\" font-family=\"Times New Roman,serif\" font-size=\"14.00\">mse = 0.051</text>\r\n",
       "<text text-anchor=\"middle\" x=\"263\" y=\"-22.8\" font-family=\"Times New Roman,serif\" font-size=\"14.00\">samples = 6</text>\r\n",
       "<text text-anchor=\"middle\" x=\"263\" y=\"-7.8\" font-family=\"Times New Roman,serif\" font-size=\"14.00\">value = &#45;0.472</text>\r\n",
       "</g>\r\n",
       "<!-- 4&#45;&gt;5 -->\r\n",
       "<g id=\"edge5\" class=\"edge\"><title>4&#45;&gt;5</title>\r\n",
       "<path fill=\"none\" stroke=\"black\" d=\"M263.65,-88.9485C263.563,-80.7153 263.469,-71.848 263.381,-63.4814\"/>\r\n",
       "<polygon fill=\"black\" stroke=\"black\" points=\"266.878,-63.1991 263.272,-53.2367 259.878,-63.2732 266.878,-63.1991\"/>\r\n",
       "</g>\r\n",
       "<!-- 6 -->\r\n",
       "<g id=\"node7\" class=\"node\"><title>6</title>\r\n",
       "<polygon fill=\"#ffffff\" stroke=\"black\" points=\"425,-53 329,-53 329,-0 425,-0 425,-53\"/>\r\n",
       "<text text-anchor=\"middle\" x=\"377\" y=\"-37.8\" font-family=\"Times New Roman,serif\" font-size=\"14.00\">mse = 0.062</text>\r\n",
       "<text text-anchor=\"middle\" x=\"377\" y=\"-22.8\" font-family=\"Times New Roman,serif\" font-size=\"14.00\">samples = 20</text>\r\n",
       "<text text-anchor=\"middle\" x=\"377\" y=\"-7.8\" font-family=\"Times New Roman,serif\" font-size=\"14.00\">value = &#45;0.966</text>\r\n",
       "</g>\r\n",
       "<!-- 4&#45;&gt;6 -->\r\n",
       "<g id=\"edge6\" class=\"edge\"><title>4&#45;&gt;6</title>\r\n",
       "<path fill=\"none\" stroke=\"black\" d=\"M303.522,-88.9485C314.789,-79.526 327.049,-69.2731 338.268,-59.8906\"/>\r\n",
       "<polygon fill=\"black\" stroke=\"black\" points=\"340.799,-62.3368 346.225,-53.2367 336.308,-56.967 340.799,-62.3368\"/>\r\n",
       "</g>\r\n",
       "</g>\r\n",
       "</svg>\r\n"
      ],
      "text/plain": [
       "<graphviz.files.Source at 0x2305146f9a0>"
      ]
     },
     "execution_count": 56,
     "metadata": {},
     "output_type": "execute_result"
    }
   ],
   "source": [
    "dot_data = tree.export_graphviz(\n",
    "    decision_tree=regr_1, \n",
    "    out_file=None, \n",
    "    filled=True\n",
    ")  \n",
    "graphviz.Source(dot_data)\n"
   ]
  },
  {
   "cell_type": "code",
   "execution_count": 57,
   "metadata": {},
   "outputs": [
    {
     "data": {
      "image/png": "[encoded data removed]",
      "text/plain": [
       "<Figure size 720x720 with 1 Axes>"
      ]
     },
     "metadata": {
      "needs_background": "light"
     },
     "output_type": "display_data"
    }
   ],
   "source": [
    "# Optional\n",
    "# Multi-output Decision Tree Regression\n",
    "# https://scikit-learn.org/stable/auto_examples/tree/plot_tree_regression_multioutput.html\n",
    "# Create a random dataset\n",
    "rng = np.random.RandomState(1)\n",
    "X = np.sort(200 * rng.rand(100, 1) - 100, axis=0)\n",
    "y = np.array([np.pi * np.sin(X).ravel(), np.pi * np.cos(X).ravel()]).T\n",
    "y[::5, :] += (0.5 - rng.rand(20, 2))\n",
    "\n",
    "# Fit regression model\n",
    "regr_1 = tree.DecisionTreeRegressor(max_depth=2)\n",
    "regr_2 = tree.DecisionTreeRegressor(max_depth=5)\n",
    "regr_3 = tree.DecisionTreeRegressor(max_depth=8)\n",
    "regr_1.fit(X, y)\n",
    "regr_2.fit(X, y)\n",
    "regr_3.fit(X, y)\n",
    "\n",
    "# Predict\n",
    "X_test = np.arange(-100.0, 100.0, 0.01)[:, np.newaxis]\n",
    "y_1 = regr_1.predict(X_test)\n",
    "y_2 = regr_2.predict(X_test)\n",
    "y_3 = regr_3.predict(X_test)\n",
    "\n",
    "# Plot the results\n",
    "plt.figure(figsize=(10,10))\n",
    "s = 100\n",
    "plt.scatter(y[:, 0], y[:, 1], c=\"navy\", s=s, edgecolor=\"black\", label=\"data\", linewidths=0.1)\n",
    "plt.scatter(y_1[:, 0], y_1[:, 1], c=\"cornflowerblue\", s=s/2, edgecolor=\"black\", label=\"max_depth=2\")\n",
    "plt.scatter(y_2[:, 0], y_2[:, 1], c=\"red\", s=s/3, edgecolor=\"black\", label=\"max_depth=5\")\n",
    "plt.scatter(y_3[:, 0], y_3[:, 1], c=\"orange\", s=s/5, edgecolor=\"black\", label=\"max_depth=8\")\n",
    "plt.xlim([-4, 4])\n",
    "plt.ylim([-4, 4])\n",
    "plt.xlabel(\"target 1\")\n",
    "plt.ylabel(\"target 2\")\n",
    "plt.title(\"Multi-output Decision Tree Regression\")\n",
    "plt.legend(loc=\"best\")\n",
    "plt.show()"
   ]
  },
  {
   "cell_type": "code",
   "execution_count": 58,
   "metadata": {},
   "outputs": [
    {
     "data": {
      "image/svg+xml": [
       "<?xml version=\"1.0\" encoding=\"UTF-8\" standalone=\"no\"?>\r\n",
       "<!DOCTYPE svg PUBLIC \"-//W3C//DTD SVG 1.1//EN\"\r\n",
       " \"http://www.w3.org/Graphics/SVG/1.1/DTD/svg11.dtd\">\r\n",
       "<!-- Generated by graphviz version 2.38.0 (20140413.2041)\r\n",
       " -->\r\n",
       "<!-- Title: Tree Pages: 1 -->\r\n",
       "<svg width=\"498pt\" height=\"314pt\"\r\n",
       " viewBox=\"0.00 0.00 498.00 314.00\" xmlns=\"http://www.w3.org/2000/svg\" xmlns:xlink=\"http://www.w3.org/1999/xlink\">\r\n",
       "<g id=\"graph0\" class=\"graph\" transform=\"scale(1 1) rotate(0) translate(4 310)\">\r\n",
       "<title>Tree</title>\r\n",
       "<polygon fill=\"white\" stroke=\"none\" points=\"-4,4 -4,-310 494,-310 494,4 -4,4\"/>\r\n",
       "<!-- 0 -->\r\n",
       "<g id=\"node1\" class=\"node\"><title>0</title>\r\n",
       "<polygon fill=\"#ffffff\" stroke=\"black\" points=\"295.5,-306 190.5,-306 190.5,-223 295.5,-223 295.5,-306\"/>\r\n",
       "<text text-anchor=\"middle\" x=\"243\" y=\"-290.8\" font-family=\"Times New Roman,serif\" font-size=\"14.00\">X[0] &lt;= 16.494</text>\r\n",
       "<text text-anchor=\"middle\" x=\"243\" y=\"-275.8\" font-family=\"Times New Roman,serif\" font-size=\"14.00\">mse = 4.9</text>\r\n",
       "<text text-anchor=\"middle\" x=\"243\" y=\"-260.8\" font-family=\"Times New Roman,serif\" font-size=\"14.00\">samples = 100</text>\r\n",
       "<text text-anchor=\"middle\" x=\"243\" y=\"-245.8\" font-family=\"Times New Roman,serif\" font-size=\"14.00\">value = [[0.021]</text>\r\n",
       "<text text-anchor=\"middle\" x=\"243\" y=\"-230.8\" font-family=\"Times New Roman,serif\" font-size=\"14.00\">[0.091]]</text>\r\n",
       "</g>\r\n",
       "<!-- 1 -->\r\n",
       "<g id=\"node2\" class=\"node\"><title>1</title>\r\n",
       "<polygon fill=\"#fef9f5\" stroke=\"black\" points=\"234,-187 126,-187 126,-104 234,-104 234,-187\"/>\r\n",
       "<text text-anchor=\"middle\" x=\"180\" y=\"-171.8\" font-family=\"Times New Roman,serif\" font-size=\"14.00\">X[0] &lt;= &#45;44.963</text>\r\n",
       "<text text-anchor=\"middle\" x=\"180\" y=\"-156.8\" font-family=\"Times New Roman,serif\" font-size=\"14.00\">mse = 4.71</text>\r\n",
       "<text text-anchor=\"middle\" x=\"180\" y=\"-141.8\" font-family=\"Times New Roman,serif\" font-size=\"14.00\">samples = 59</text>\r\n",
       "<text text-anchor=\"middle\" x=\"180\" y=\"-126.8\" font-family=\"Times New Roman,serif\" font-size=\"14.00\">value = [[0.282]</text>\r\n",
       "<text text-anchor=\"middle\" x=\"180\" y=\"-111.8\" font-family=\"Times New Roman,serif\" font-size=\"14.00\">[&#45;0.417]]</text>\r\n",
       "</g>\r\n",
       "<!-- 0&#45;&gt;1 -->\r\n",
       "<g id=\"edge1\" class=\"edge\"><title>0&#45;&gt;1</title>\r\n",
       "<path fill=\"none\" stroke=\"black\" d=\"M221.142,-222.907C216.451,-214.195 211.444,-204.897 206.596,-195.893\"/>\r\n",
       "<polygon fill=\"black\" stroke=\"black\" points=\"209.642,-194.166 201.819,-187.021 203.478,-197.485 209.642,-194.166\"/>\r\n",
       "<text text-anchor=\"middle\" x=\"194.635\" y=\"-207.266\" font-family=\"Times New Roman,serif\" font-size=\"14.00\">True</text>\r\n",
       "</g>\r\n",
       "<!-- 4 -->\r\n",
       "<g id=\"node5\" class=\"node\"><title>4</title>\r\n",
       "<polygon fill=\"#fdf5ef\" stroke=\"black\" points=\"362,-187 252,-187 252,-104 362,-104 362,-187\"/>\r\n",
       "<text text-anchor=\"middle\" x=\"307\" y=\"-171.8\" font-family=\"Times New Roman,serif\" font-size=\"14.00\">X[0] &lt;= 28.711</text>\r\n",
       "<text text-anchor=\"middle\" x=\"307\" y=\"-156.8\" font-family=\"Times New Roman,serif\" font-size=\"14.00\">mse = 4.599</text>\r\n",
       "<text text-anchor=\"middle\" x=\"307\" y=\"-141.8\" font-family=\"Times New Roman,serif\" font-size=\"14.00\">samples = 41</text>\r\n",
       "<text text-anchor=\"middle\" x=\"307\" y=\"-126.8\" font-family=\"Times New Roman,serif\" font-size=\"14.00\">value = [[&#45;0.355]</text>\r\n",
       "<text text-anchor=\"middle\" x=\"307\" y=\"-111.8\" font-family=\"Times New Roman,serif\" font-size=\"14.00\">[0.823]]</text>\r\n",
       "</g>\r\n",
       "<!-- 0&#45;&gt;4 -->\r\n",
       "<g id=\"edge4\" class=\"edge\"><title>0&#45;&gt;4</title>\r\n",
       "<path fill=\"none\" stroke=\"black\" d=\"M265.204,-222.907C269.97,-214.195 275.056,-204.897 279.981,-195.893\"/>\r\n",
       "<polygon fill=\"black\" stroke=\"black\" points=\"283.106,-197.474 284.835,-187.021 276.965,-194.114 283.106,-197.474\"/>\r\n",
       "<text text-anchor=\"middle\" x=\"291.86\" y=\"-207.313\" font-family=\"Times New Roman,serif\" font-size=\"14.00\">False</text>\r\n",
       "</g>\r\n",
       "<!-- 2 -->\r\n",
       "<g id=\"node3\" class=\"node\"><title>2</title>\r\n",
       "<polygon fill=\"#fdf7f2\" stroke=\"black\" points=\"110,-68 0,-68 0,-0 110,-0 110,-68\"/>\r\n",
       "<text text-anchor=\"middle\" x=\"55\" y=\"-52.8\" font-family=\"Times New Roman,serif\" font-size=\"14.00\">mse = 4.646</text>\r\n",
       "<text text-anchor=\"middle\" x=\"55\" y=\"-37.8\" font-family=\"Times New Roman,serif\" font-size=\"14.00\">samples = 29</text>\r\n",
       "<text text-anchor=\"middle\" x=\"55\" y=\"-22.8\" font-family=\"Times New Roman,serif\" font-size=\"14.00\">value = [[&#45;0.416]</text>\r\n",
       "<text text-anchor=\"middle\" x=\"55\" y=\"-7.8\" font-family=\"Times New Roman,serif\" font-size=\"14.00\">[&#45;0.631]]</text>\r\n",
       "</g>\r\n",
       "<!-- 1&#45;&gt;2 -->\r\n",
       "<g id=\"edge2\" class=\"edge\"><title>1&#45;&gt;2</title>\r\n",
       "<path fill=\"none\" stroke=\"black\" d=\"M133.455,-103.726C122.73,-94.3318 111.334,-84.349 100.649,-74.9883\"/>\r\n",
       "<polygon fill=\"black\" stroke=\"black\" points=\"102.842,-72.2562 93.0132,-68.2996 98.229,-77.5217 102.842,-72.2562\"/>\r\n",
       "</g>\r\n",
       "<!-- 3 -->\r\n",
       "<g id=\"node4\" class=\"node\"><title>3</title>\r\n",
       "<polygon fill=\"#fbeade\" stroke=\"black\" points=\"233.5,-68 128.5,-68 128.5,-0 233.5,-0 233.5,-68\"/>\r\n",
       "<text text-anchor=\"middle\" x=\"181\" y=\"-52.8\" font-family=\"Times New Roman,serif\" font-size=\"14.00\">mse = 4.265</text>\r\n",
       "<text text-anchor=\"middle\" x=\"181\" y=\"-37.8\" font-family=\"Times New Roman,serif\" font-size=\"14.00\">samples = 30</text>\r\n",
       "<text text-anchor=\"middle\" x=\"181\" y=\"-22.8\" font-family=\"Times New Roman,serif\" font-size=\"14.00\">value = [[0.957]</text>\r\n",
       "<text text-anchor=\"middle\" x=\"181\" y=\"-7.8\" font-family=\"Times New Roman,serif\" font-size=\"14.00\">[&#45;0.211]]</text>\r\n",
       "</g>\r\n",
       "<!-- 1&#45;&gt;3 -->\r\n",
       "<g id=\"edge3\" class=\"edge\"><title>1&#45;&gt;3</title>\r\n",
       "<path fill=\"none\" stroke=\"black\" d=\"M180.372,-103.726C180.447,-95.5175 180.526,-86.8595 180.602,-78.56\"/>\r\n",
       "<polygon fill=\"black\" stroke=\"black\" points=\"184.104,-78.3312 180.696,-68.2996 177.105,-78.2672 184.104,-78.3312\"/>\r\n",
       "</g>\r\n",
       "<!-- 5 -->\r\n",
       "<g id=\"node6\" class=\"node\"><title>5</title>\r\n",
       "<polygon fill=\"#e58139\" stroke=\"black\" points=\"362,-68 252,-68 252,-0 362,-0 362,-68\"/>\r\n",
       "<text text-anchor=\"middle\" x=\"307\" y=\"-52.8\" font-family=\"Times New Roman,serif\" font-size=\"14.00\">mse = 1.062</text>\r\n",
       "<text text-anchor=\"middle\" x=\"307\" y=\"-37.8\" font-family=\"Times New Roman,serif\" font-size=\"14.00\">samples = 5</text>\r\n",
       "<text text-anchor=\"middle\" x=\"307\" y=\"-22.8\" font-family=\"Times New Roman,serif\" font-size=\"14.00\">value = [[&#45;2.539]</text>\r\n",
       "<text text-anchor=\"middle\" x=\"307\" y=\"-7.8\" font-family=\"Times New Roman,serif\" font-size=\"14.00\">[1.295]]</text>\r\n",
       "</g>\r\n",
       "<!-- 4&#45;&gt;5 -->\r\n",
       "<g id=\"edge5\" class=\"edge\"><title>4&#45;&gt;5</title>\r\n",
       "<path fill=\"none\" stroke=\"black\" d=\"M307,-103.726C307,-95.5175 307,-86.8595 307,-78.56\"/>\r\n",
       "<polygon fill=\"black\" stroke=\"black\" points=\"310.5,-78.2996 307,-68.2996 303.5,-78.2996 310.5,-78.2996\"/>\r\n",
       "</g>\r\n",
       "<!-- 6 -->\r\n",
       "<g id=\"node7\" class=\"node\"><title>6</title>\r\n",
       "<polygon fill=\"#fef8f4\" stroke=\"black\" points=\"490,-68 380,-68 380,-0 490,-0 490,-68\"/>\r\n",
       "<text text-anchor=\"middle\" x=\"435\" y=\"-52.8\" font-family=\"Times New Roman,serif\" font-size=\"14.00\">mse = 4.695</text>\r\n",
       "<text text-anchor=\"middle\" x=\"435\" y=\"-37.8\" font-family=\"Times New Roman,serif\" font-size=\"14.00\">samples = 36</text>\r\n",
       "<text text-anchor=\"middle\" x=\"435\" y=\"-22.8\" font-family=\"Times New Roman,serif\" font-size=\"14.00\">value = [[&#45;0.052]</text>\r\n",
       "<text text-anchor=\"middle\" x=\"435\" y=\"-7.8\" font-family=\"Times New Roman,serif\" font-size=\"14.00\">[0.758]]</text>\r\n",
       "</g>\r\n",
       "<!-- 4&#45;&gt;6 -->\r\n",
       "<g id=\"edge6\" class=\"edge\"><title>4&#45;&gt;6</title>\r\n",
       "<path fill=\"none\" stroke=\"black\" d=\"M354.662,-103.726C365.644,-94.3318 377.314,-84.349 388.256,-74.9883\"/>\r\n",
       "<polygon fill=\"black\" stroke=\"black\" points=\"390.751,-77.4598 396.074,-68.2996 386.2,-72.1406 390.751,-77.4598\"/>\r\n",
       "</g>\r\n",
       "</g>\r\n",
       "</svg>\r\n"
      ],
      "text/plain": [
       "<graphviz.files.Source at 0x2304f258580>"
      ]
     },
     "execution_count": 58,
     "metadata": {},
     "output_type": "execute_result"
    }
   ],
   "source": [
    "dot_data = tree.export_graphviz(\n",
    "    decision_tree=regr_1, \n",
    "    out_file=None, \n",
    "    filled=True\n",
    ")  \n",
    "graphviz.Source(dot_data)"
   ]
  },
  {
   "cell_type": "code",
   "execution_count": 59,
   "metadata": {},
   "outputs": [
    {
     "name": "stdout",
     "output_type": "stream",
     "text": [
      "digraph Tree {\n",
      "node [shape=box, style=\"filled\", color=\"black\"] ;\n",
      "0 [label=\"node #0\\nX[0] <= 16.494\\nmse = 4.9\\nsamples = 100\\nvalue = [[0.021]\\n[0.091]]\", fillcolor=\"#ffffff\"] ;\n",
      "1 [label=\"node #1\\nX[0] <= -44.963\\nmse = 4.71\\nsamples = 59\\nvalue = [[0.282]\\n[-0.417]]\", fillcolor=\"#fefaf7\"] ;\n",
      "0 -> 1 [labeldistance=2.5, labelangle=45, headlabel=\"True\"] ;\n",
      "2 [label=\"node #2\\nX[0] <= -97.884\\nmse = 4.646\\nsamples = 29\\nvalue = [[-0.416]\\n[-0.631]]\", fillcolor=\"#fef8f5\"] ;\n",
      "1 -> 2 ;\n",
      "3 [label=\"node #3\\nX[0] <= -99.702\\nmse = 0.311\\nsamples = 2\\nvalue = [[2.316]\\n[2.028]]\", fillcolor=\"#e78946\"] ;\n",
      "2 -> 3 ;\n",
      "4 [label=\"node #4\\nmse = 0.0\\nsamples = 1\\nvalue = [[1.826]\\n[2.645]]\", fillcolor=\"#e58139\"] ;\n",
      "3 -> 4 ;\n",
      "5 [label=\"node #5\\nmse = 0.0\\nsamples = 1\\nvalue = [[2.807]\\n[1.411]]\", fillcolor=\"#e58139\"] ;\n",
      "3 -> 5 ;\n",
      "6 [label=\"node #6\\nX[0] <= -80.931\\nmse = 4.389\\nsamples = 27\\nvalue = [[-0.619]\\n[-0.828]]\", fillcolor=\"#fcf2ea\"] ;\n",
      "2 -> 6 ;\n",
      "7 [label=\"node #7\\nX[0] <= -82.262\\nmse = 3.501\\nsamples = 8\\nvalue = [[-1.577]\\n[0.288]]\", fillcolor=\"#f8dbc6\"] ;\n",
      "6 -> 7 ;\n",
      "8 [label=\"node #8\\nX[0] <= -91.099\\nmse = 3.011\\nsamples = 7\\nvalue = [[-1.869]\\n[-0.115]]\", fillcolor=\"#f5ceb3\"] ;\n",
      "7 -> 8 ;\n",
      "9 [label=\"node #9\\nX[0] <= -95.325\\nmse = 4.069\\nsamples = 4\\nvalue = [[-1.044]\\n[-0.208]]\", fillcolor=\"#fbeadd\"] ;\n",
      "8 -> 9 ;\n",
      "10 [label=\"node #10\\nX[0] <= -96.234\\nmse = 0.057\\nsamples = 2\\nvalue = [[-2.857]\\n[-1.262]]\", fillcolor=\"#e5823b\"] ;\n",
      "9 -> 10 ;\n",
      "11 [label=\"node #11\\nmse = 0.0\\nsamples = 1\\nvalue = [[-2.72]\\n[-1.571]]\", fillcolor=\"#e58139\"] ;\n",
      "10 -> 11 ;\n",
      "12 [label=\"node #12\\nmse = 0.0\\nsamples = 1\\nvalue = [[-2.994]\\n[-0.952]]\", fillcolor=\"#e58139\"] ;\n",
      "10 -> 12 ;\n",
      "13 [label=\"node #13\\nX[0] <= -93.356\\nmse = 3.683\\nsamples = 2\\nvalue = [[0.768]\\n[0.847]]\", fillcolor=\"#f9e0ce\"] ;\n",
      "9 -> 13 ;\n",
      "14 [label=\"node #14\\nmse = 0.0\\nsamples = 1\\nvalue = [[-0.852]\\n[3.024]]\", fillcolor=\"#e58139\"] ;\n",
      "13 -> 14 ;\n",
      "15 [label=\"node #15\\nmse = 0.0\\nsamples = 1\\nvalue = [[2.389]\\n[-1.33]]\", fillcolor=\"#e58139\"] ;\n",
      "13 -> 15 ;\n",
      "16 [label=\"node #16\\nX[0] <= -89.668\\nmse = 0.53\\nsamples = 3\\nvalue = [[-2.968]\\n[0.009]]\", fillcolor=\"#e88f4e\"] ;\n",
      "8 -> 16 ;\n",
      "17 [label=\"node #17\\nmse = 0.0\\nsamples = 1\\nvalue = [[-2.795]\\n[-1.434]]\", fillcolor=\"#e58139\"] ;\n",
      "16 -> 17 ;\n",
      "18 [label=\"node #18\\nX[0] <= -86.159\\nmse = 0.003\\nsamples = 2\\nvalue = [[-3.055]\\n[0.73]]\", fillcolor=\"#e58139\"] ;\n",
      "16 -> 18 ;\n",
      "19 [label=\"node #19\\nmse = 0.0\\nsamples = 1\\nvalue = [[-3.074]\\n[0.648]]\", fillcolor=\"#e58139\"] ;\n",
      "18 -> 19 ;\n",
      "20 [label=\"node #20\\nmse = -0.0\\nsamples = 1\\nvalue = [[-3.035]\\n[0.811]]\", fillcolor=\"#e58139\"] ;\n",
      "18 -> 20 ;\n",
      "21 [label=\"node #21\\nmse = 0.0\\nsamples = 1\\nvalue = [[0.467]\\n[3.107]]\", fillcolor=\"#e58139\"] ;\n",
      "7 -> 21 ;\n",
      "22 [label=\"node #22\\nX[0] <= -78.203\\nmse = 4.116\\nsamples = 19\\nvalue = [[-0.215]\\n[-1.298]]\", fillcolor=\"#fbebdf\"] ;\n",
      "6 -> 22 ;\n",
      "23 [label=\"node #23\\nX[0] <= -79.932\\nmse = 0.723\\nsamples = 3\\nvalue = [[2.525]\\n[-1.103]]\", fillcolor=\"#e99456\"] ;\n",
      "22 -> 23 ;\n",
      "24 [label=\"node #24\\nmse = 0.0\\nsamples = 1\\nvalue = [[2.657]\\n[0.562]]\", fillcolor=\"#e58139\"] ;\n",
      "23 -> 24 ;\n",
      "25 [label=\"node #25\\nX[0] <= -79.444\\nmse = 0.039\\nsamples = 2\\nvalue = [[2.459]\\n[-1.935]]\", fillcolor=\"#e5823b\"] ;\n",
      "23 -> 25 ;\n",
      "26 [label=\"node #26\\nmse = 0.0\\nsamples = 1\\nvalue = [[2.632]\\n[-1.715]]\", fillcolor=\"#e58139\"] ;\n",
      "25 -> 26 ;\n",
      "27 [label=\"node #27\\nmse = -0.0\\nsamples = 1\\nvalue = [[2.286]\\n[-2.155]]\", fillcolor=\"#e58139\"] ;\n",
      "25 -> 27 ;\n",
      "28 [label=\"node #28\\nX[0] <= -59.745\\nmse = 3.912\\nsamples = 16\\nvalue = [[-0.729]\\n[-1.334]]\", fillcolor=\"#fae6d7\"] ;\n",
      "22 -> 28 ;\n",
      "29 [label=\"node #29\\nX[0] <= -68.789\\nmse = 4.357\\nsamples = 11\\nvalue = [[-0.146]\\n[-1.257]]\", fillcolor=\"#fcf1e9\"] ;\n",
      "28 -> 29 ;\n",
      "30 [label=\"node #30\\nX[0] <= -71.288\\nmse = 3.94\\nsamples = 7\\nvalue = [[-0.92]\\n[-1.298]]\", fillcolor=\"#fae6d8\"] ;\n",
      "29 -> 30 ;\n",
      "31 [label=\"node #31\\nmse = 3.583\\nsamples = 5\\nvalue = [[-0.031]\\n[-1.86]]\", fillcolor=\"#f8ddca\"] ;\n",
      "30 -> 31 ;\n",
      "32 [label=\"node #32\\nmse = 0.0\\nsamples = 2\\nvalue = [[-3.14]\\n[0.108]]\", fillcolor=\"#e58139\"] ;\n",
      "30 -> 32 ;\n",
      "33 [label=\"node #33\\nX[0] <= -64.391\\nmse = 3.643\\nsamples = 4\\nvalue = [[1.207]\\n[-1.185]]\", fillcolor=\"#f8dfcc\"] ;\n",
      "29 -> 33 ;\n",
      "34 [label=\"node #34\\nmse = 0.682\\nsamples = 2\\nvalue = [[1.282]\\n[-2.723]]\", fillcolor=\"#e99355\"] ;\n",
      "33 -> 34 ;\n",
      "35 [label=\"node #35\\nmse = 4.233\\nsamples = 2\\nvalue = [[1.131]\\n[0.353]]\", fillcolor=\"#fbeee4\"] ;\n",
      "33 -> 35 ;\n",
      "36 [label=\"node #36\\nX[0] <= -55.134\\nmse = 1.717\\nsamples = 5\\nvalue = [[-2.01]\\n[-1.505]]\", fillcolor=\"#eead7e\"] ;\n",
      "28 -> 36 ;\n",
      "37 [label=\"node #37\\nX[0] <= -58.392\\nmse = 2.434\\nsamples = 2\\nvalue = [[-2.116]\\n[-0.456]]\", fillcolor=\"#f2c09b\"] ;\n",
      "36 -> 37 ;\n",
      "38 [label=\"node #38\\nmse = -0.0\\nsamples = 1\\nvalue = [[-1.724]\\n[-2.627]]\", fillcolor=\"#e58139\"] ;\n",
      "37 -> 38 ;\n",
      "39 [label=\"node #39\\nmse = -0.0\\nsamples = 1\\nvalue = [[-2.508]\\n[1.715]]\", fillcolor=\"#e58139\"] ;\n",
      "37 -> 39 ;\n",
      "40 [label=\"node #40\\nX[0] <= -46.453\\nmse = 0.622\\nsamples = 3\\nvalue = [[-1.94]\\n[-2.205]]\", fillcolor=\"#e89152\"] ;\n",
      "36 -> 40 ;\n",
      "41 [label=\"node #41\\nmse = 0.402\\nsamples = 2\\nvalue = [[-1.503]\\n[-2.609]]\", fillcolor=\"#e78b49\"] ;\n",
      "40 -> 41 ;\n",
      "42 [label=\"node #42\\nmse = -0.0\\nsamples = 1\\nvalue = [[-2.813]\\n[-1.398]]\", fillcolor=\"#e58139\"] ;\n",
      "40 -> 42 ;\n",
      "43 [label=\"node #43\\nX[0] <= -17.781\\nmse = 4.265\\nsamples = 30\\nvalue = [[0.957]\\n[-0.211]]\", fillcolor=\"#fcefe5\"] ;\n",
      "1 -> 43 ;\n",
      "44 [label=\"node #44\\nX[0] <= -25.433\\nmse = 4.092\\nsamples = 12\\nvalue = [[0.598]\\n[0.949]]\", fillcolor=\"#fbeade\"] ;\n",
      "43 -> 44 ;\n",
      "45 [label=\"node #45\\nX[0] <= -38.424\\nmse = 3.29\\nsamples = 9\\nvalue = [[1.355]\\n[1.096]]\", fillcolor=\"#f6d6be\"] ;\n",
      "44 -> 45 ;\n",
      "46 [label=\"node #46\\nX[0] <= -41.861\\nmse = 4.559\\nsamples = 4\\nvalue = [[0.306]\\n[-0.156]]\", fillcolor=\"#fdf6f1\"] ;\n",
      "45 -> 46 ;\n",
      "47 [label=\"node #47\\nX[0] <= -43.178\\nmse = 2.072\\nsamples = 2\\nvalue = [[1.465]\\n[1.521]]\", fillcolor=\"#f0b68d\"] ;\n",
      "46 -> 47 ;\n",
      "48 [label=\"node #48\\nmse = 0.0\\nsamples = 1\\nvalue = [[0.223]\\n[3.134]]\", fillcolor=\"#e58139\"] ;\n",
      "47 -> 48 ;\n",
      "49 [label=\"node #49\\nmse = 0.0\\nsamples = 1\\nvalue = [[2.707]\\n[-0.092]]\", fillcolor=\"#e58139\"] ;\n",
      "47 -> 49 ;\n",
      "50 [label=\"node #50\\nX[0] <= -40.405\\nmse = 2.892\\nsamples = 2\\nvalue = [[-0.853]\\n[-1.833]]\", fillcolor=\"#f4cbae\"] ;\n",
      "46 -> 50 ;\n",
      "51 [label=\"node #51\\nmse = 0.0\\nsamples = 1\\nvalue = [[1.328]\\n[-2.847]]\", fillcolor=\"#e58139\"] ;\n",
      "50 -> 51 ;\n",
      "52 [label=\"node #52\\nmse = 0.0\\nsamples = 1\\nvalue = [[-3.033]\\n[-0.818]]\", fillcolor=\"#e58139\"] ;\n",
      "50 -> 52 ;\n",
      "53 [label=\"node #53\\nX[0] <= -30.667\\nmse = 0.356\\nsamples = 5\\nvalue = [[2.193]\\n[2.097]]\", fillcolor=\"#e78a47\"] ;\n",
      "45 -> 53 ;\n",
      "54 [label=\"node #54\\nX[0] <= -37.106\\nmse = 0.153\\nsamples = 3\\nvalue = [[1.817]\\n[2.518]]\", fillcolor=\"#e6853f\"] ;\n",
      "53 -> 54 ;\n",
      "55 [label=\"node #55\\nmse = 0.0\\nsamples = 1\\nvalue = [[1.177]\\n[2.913]]\", fillcolor=\"#e58139\"] ;\n",
      "54 -> 55 ;\n",
      "56 [label=\"node #56\\nX[0] <= -33.892\\nmse = 0.017\\nsamples = 2\\nvalue = [[2.138]\\n[2.321]]\", fillcolor=\"#e5813a\"] ;\n",
      "54 -> 56 ;\n",
      "57 [label=\"node #57\\nmse = 0.0\\nsamples = 1\\nvalue = [[2.259]\\n[2.184]]\", fillcolor=\"#e58139\"] ;\n",
      "56 -> 57 ;\n",
      "58 [label=\"node #58\\nmse = 0.0\\nsamples = 1\\nvalue = [[2.017]\\n[2.458]]\", fillcolor=\"#e58139\"] ;\n",
      "56 -> 58 ;\n",
      "59 [label=\"node #59\\nX[0] <= -30.334\\nmse = 0.063\\nsamples = 2\\nvalue = [[2.756]\\n[1.465]]\", fillcolor=\"#e5833c\"] ;\n",
      "53 -> 59 ;\n",
      "60 [label=\"node #60\\nmse = -0.0\\nsamples = 1\\nvalue = [[2.59]\\n[1.778]]\", fillcolor=\"#e58139\"] ;\n",
      "59 -> 60 ;\n",
      "61 [label=\"node #61\\nmse = -0.0\\nsamples = 1\\nvalue = [[2.923]\\n[1.151]]\", fillcolor=\"#e58139\"] ;\n",
      "59 -> 61 ;\n",
      "62 [label=\"node #62\\nX[0] <= -19.419\\nmse = 2.935\\nsamples = 3\\nvalue = [[-1.671]\\n[0.508]]\", fillcolor=\"#f5ccb0\"] ;\n",
      "44 -> 62 ;\n",
      "63 [label=\"node #63\\nX[0] <= -20.556\\nmse = 0.041\\nsamples = 2\\nvalue = [[-3.1]\\n[-0.422]]\", fillcolor=\"#e5823b\"] ;\n",
      "62 -> 63 ;\n",
      "64 [label=\"node #64\\nmse = 0.0\\nsamples = 1\\nvalue = [[-3.062]\\n[-0.704]]\", fillcolor=\"#e58139\"] ;\n",
      "63 -> 64 ;\n",
      "65 [label=\"node #65\\nmse = 0.0\\nsamples = 1\\nvalue = [[-3.139]\\n[-0.139]]\", fillcolor=\"#e58139\"] ;\n",
      "63 -> 65 ;\n",
      "66 [label=\"node #66\\nmse = -0.0\\nsamples = 1\\nvalue = [[1.188]\\n[2.368]]\", fillcolor=\"#e58139\"] ;\n",
      "62 -> 66 ;\n",
      "67 [label=\"node #67\\nX[0] <= 4.805\\nmse = 3.562\\nsamples = 18\\nvalue = [[1.197]\\n[-0.984]]\", fillcolor=\"#f8ddc9\"] ;\n",
      "43 -> 67 ;\n",
      "68 [label=\"node #68\\nX[0] <= -16.35\\nmse = 2.736\\nsamples = 11\\nvalue = [[1.055]\\n[-1.671]]\", fillcolor=\"#f4c7a8\"] ;\n",
      "67 -> 68 ;\n",
      "69 [label=\"node #69\\nX[0] <= -16.88\\nmse = 0.446\\nsamples = 4\\nvalue = [[2.752]\\n[-1.186]]\", fillcolor=\"#e78c4b\"] ;\n",
      "68 -> 69 ;\n",
      "70 [label=\"node #70\\nX[0] <= -17.176\\nmse = 0.001\\nsamples = 2\\nvalue = [[3.125]\\n[-0.321]]\", fillcolor=\"#e58139\"] ;\n",
      "69 -> 70 ;\n",
      "71 [label=\"node #71\\nmse = -0.0\\nsamples = 1\\nvalue = [[3.129]\\n[-0.282]]\", fillcolor=\"#e58139\"] ;\n",
      "70 -> 71 ;\n",
      "72 [label=\"node #72\\nmse = -0.0\\nsamples = 1\\nvalue = [[3.121]\\n[-0.359]]\", fillcolor=\"#e58139\"] ;\n",
      "70 -> 72 ;\n",
      "73 [label=\"node #73\\nX[0] <= -16.567\\nmse = 0.004\\nsamples = 2\\nvalue = [[2.379]\\n[-2.05]]\", fillcolor=\"#e58139\"] ;\n",
      "69 -> 73 ;\n",
      "74 [label=\"node #74\\nmse = -0.0\\nsamples = 1\\nvalue = [[2.437]\\n[-1.983]]\", fillcolor=\"#e58139\"] ;\n",
      "73 -> 74 ;\n",
      "75 [label=\"node #75\\nmse = 0.0\\nsamples = 1\\nvalue = [[2.321]\\n[-2.118]]\", fillcolor=\"#e58139\"] ;\n",
      "73 -> 75 ;\n",
      "76 [label=\"node #76\\nX[0] <= -5.851\\nmse = 2.647\\nsamples = 7\\nvalue = [[0.086]\\n[-1.949]]\", fillcolor=\"#f3c5a4\"] ;\n",
      "68 -> 76 ;\n",
      "77 [label=\"node #77\\nX[0] <= -12.402\\nmse = 2.263\\nsamples = 5\\nvalue = [[0.546]\\n[-2.131]]\", fillcolor=\"#f1bb94\"] ;\n",
      "76 -> 77 ;\n",
      "78 [label=\"node #78\\nX[0] <= -15.08\\nmse = 2.126\\nsamples = 3\\nvalue = [[-0.554]\\n[-2.114]]\", fillcolor=\"#f0b88f\"] ;\n",
      "77 -> 78 ;\n",
      "79 [label=\"node #79\\nmse = 0.17\\nsamples = 2\\nvalue = [[0.693]\\n[-2.791]]\", fillcolor=\"#e68540\"] ;\n",
      "78 -> 79 ;\n",
      "80 [label=\"node #80\\nmse = 0.0\\nsamples = 1\\nvalue = [[-3.048]\\n[-0.761]]\", fillcolor=\"#e58139\"] ;\n",
      "78 -> 80 ;\n",
      "81 [label=\"node #81\\nX[0] <= -10.219\\nmse = 0.198\\nsamples = 2\\nvalue = [[2.196]\\n[-2.156]]\", fillcolor=\"#e68641\"] ;\n",
      "77 -> 81 ;\n",
      "82 [label=\"node #82\\nmse = 0.0\\nsamples = 1\\nvalue = [[2.638]\\n[-1.707]]\", fillcolor=\"#e58139\"] ;\n",
      "81 -> 82 ;\n",
      "83 [label=\"node #83\\nmse = 0.0\\nsamples = 1\\nvalue = [[1.755]\\n[-2.606]]\", fillcolor=\"#e58139\"] ;\n",
      "81 -> 83 ;\n",
      "84 [label=\"node #84\\nX[0] <= 0.646\\nmse = 2.534\\nsamples = 2\\nvalue = [[-1.064]\\n[-1.492]]\", fillcolor=\"#f2c29f\"] ;\n",
      "76 -> 84 ;\n",
      "85 [label=\"node #85\\nmse = 0.0\\nsamples = 1\\nvalue = [[-2.641]\\n[0.115]]\", fillcolor=\"#e58139\"] ;\n",
      "84 -> 85 ;\n",
      "86 [label=\"node #86\\nmse = 0.0\\nsamples = 1\\nvalue = [[0.512]\\n[-3.1]]\", fillcolor=\"#e58139\"] ;\n",
      "84 -> 86 ;\n",
      "87 [label=\"node #87\\nX[0] <= 13.237\\nmse = 3.864\\nsamples = 7\\nvalue = [[1.419]\\n[0.096]]\", fillcolor=\"#fae4d5\"] ;\n",
      "67 -> 87 ;\n",
      "88 [label=\"node #88\\nX[0] <= 9.751\\nmse = 2.314\\nsamples = 4\\nvalue = [[1.204]\\n[1.894]]\", fillcolor=\"#f1bd97\"] ;\n",
      "87 -> 88 ;\n",
      "89 [label=\"node #89\\nX[0] <= 7.471\\nmse = 0.97\\nsamples = 3\\nvalue = [[2.22]\\n[1.733]]\", fillcolor=\"#ea9a60\"] ;\n",
      "88 -> 89 ;\n",
      "90 [label=\"node #90\\nX[0] <= 6.906\\nmse = 0.359\\nsamples = 2\\nvalue = [[1.765]\\n[2.457]]\", fillcolor=\"#e78a48\"] ;\n",
      "89 -> 90 ;\n",
      "91 [label=\"node #91\\nmse = 0.0\\nsamples = 1\\nvalue = [[1.077]\\n[2.951]]\", fillcolor=\"#e58139\"] ;\n",
      "90 -> 91 ;\n",
      "92 [label=\"node #92\\nmse = -0.0\\nsamples = 1\\nvalue = [[2.453]\\n[1.962]]\", fillcolor=\"#e58139\"] ;\n",
      "90 -> 92 ;\n",
      "93 [label=\"node #93\\nmse = 0.0\\nsamples = 1\\nvalue = [[3.129]\\n[0.284]]\", fillcolor=\"#e58139\"] ;\n",
      "89 -> 93 ;\n",
      "94 [label=\"node #94\\nmse = -0.0\\nsamples = 1\\nvalue = [[-1.843]\\n[2.378]]\", fillcolor=\"#e58139\"] ;\n",
      "88 -> 94 ;\n",
      "95 [label=\"node #95\\nX[0] <= 15.251\\nmse = 0.832\\nsamples = 3\\nvalue = [[1.707]\\n[-2.301]]\", fillcolor=\"#e9965b\"] ;\n",
      "87 -> 95 ;\n",
      "96 [label=\"node #96\\nX[0] <= 14.78\\nmse = 0.009\\nsamples = 2\\nvalue = [[2.513]\\n[-1.881]]\", fillcolor=\"#e58139\"] ;\n",
      "95 -> 96 ;\n",
      "97 [label=\"node #97\\nmse = 0.0\\nsamples = 1\\nvalue = [[2.595]\\n[-1.771]]\", fillcolor=\"#e58139\"] ;\n",
      "96 -> 97 ;\n",
      "98 [label=\"node #98\\nmse = -0.0\\nsamples = 1\\nvalue = [[2.43]\\n[-1.991]]\", fillcolor=\"#e58139\"] ;\n",
      "96 -> 98 ;\n",
      "99 [label=\"node #99\\nmse = -0.0\\nsamples = 1\\nvalue = [[0.094]\\n[-3.14]]\", fillcolor=\"#e58139\"] ;\n",
      "95 -> 99 ;\n",
      "100 [label=\"node #100\\nX[0] <= 28.711\\nmse = 4.599\\nsamples = 41\\nvalue = [[-0.355]\\n[0.823]]\", fillcolor=\"#fdf7f3\"] ;\n",
      "0 -> 100 [labeldistance=2.5, labelangle=-45, headlabel=\"False\"] ;\n",
      "101 [label=\"node #101\\nX[0] <= 23.884\\nmse = 1.062\\nsamples = 5\\nvalue = [[-2.539]\\n[1.295]]\", fillcolor=\"#eb9c64\"] ;\n",
      "100 -> 101 ;\n",
      "102 [label=\"node #102\\nX[0] <= 20.645\\nmse = 0.404\\nsamples = 3\\nvalue = [[-3.079]\\n[0.458]]\", fillcolor=\"#e78b49\"] ;\n",
      "101 -> 102 ;\n",
      "103 [label=\"node #103\\nX[0] <= 17.586\\nmse = 0.318\\nsamples = 2\\nvalue = [[-3.062]\\n[0.895]]\", fillcolor=\"#e78946\"] ;\n",
      "102 -> 103 ;\n",
      "104 [label=\"node #104\\nmse = 0.0\\nsamples = 1\\nvalue = [[-3.14]\\n[0.101]]\", fillcolor=\"#e58139\"] ;\n",
      "103 -> 104 ;\n",
      "105 [label=\"node #105\\nmse = -0.0\\nsamples = 1\\nvalue = [[-2.984]\\n[1.689]]\", fillcolor=\"#e58139\"] ;\n",
      "103 -> 105 ;\n",
      "106 [label=\"node #106\\nmse = 0.0\\nsamples = 1\\nvalue = [[-3.114]\\n[-0.416]]\", fillcolor=\"#e58139\"] ;\n",
      "102 -> 106 ;\n",
      "107 [label=\"node #107\\nX[0] <= 24.537\\nmse = 0.19\\nsamples = 2\\nvalue = [[-1.729]\\n[2.549]]\", fillcolor=\"#e68641\"] ;\n",
      "101 -> 107 ;\n",
      "108 [label=\"node #108\\nmse = -0.0\\nsamples = 1\\nvalue = [[-2.24]\\n[2.203]]\", fillcolor=\"#e58139\"] ;\n",
      "107 -> 108 ;\n",
      "109 [label=\"node #109\\nmse = -0.0\\nsamples = 1\\nvalue = [[-1.218]\\n[2.896]]\", fillcolor=\"#e58139\"] ;\n",
      "107 -> 109 ;\n",
      "110 [label=\"node #110\\nX[0] <= 59.002\\nmse = 4.695\\nsamples = 36\\nvalue = [[-0.052]\\n[0.758]]\", fillcolor=\"#fefaf7\"] ;\n",
      "100 -> 110 ;\n",
      "111 [label=\"node #111\\nX[0] <= 34.93\\nmse = 3.65\\nsamples = 17\\nvalue = [[0.832]\\n[1.4]]\", fillcolor=\"#f8dfcd\"] ;\n",
      "110 -> 111 ;\n",
      "112 [label=\"node #112\\nX[0] <= 33.426\\nmse = 1.636\\nsamples = 3\\nvalue = [[2.472]\\n[-0.506]]\", fillcolor=\"#eeab7b\"] ;\n",
      "111 -> 112 ;\n",
      "113 [label=\"node #113\\nX[0] <= 32.724\\nmse = 0.039\\nsamples = 2\\nvalue = [[3.005]\\n[0.646]]\", fillcolor=\"#e5823b\"] ;\n",
      "112 -> 113 ;\n",
      "114 [label=\"node #114\\nmse = -0.0\\nsamples = 1\\nvalue = [[3.003]\\n[0.924]]\", fillcolor=\"#e58139\"] ;\n",
      "113 -> 114 ;\n",
      "115 [label=\"node #115\\nmse = -0.0\\nsamples = 1\\nvalue = [[3.008]\\n[0.367]]\", fillcolor=\"#e58139\"] ;\n",
      "113 -> 115 ;\n",
      "116 [label=\"node #116\\nmse = 0.0\\nsamples = 1\\nvalue = [[1.406]\\n[-2.809]]\", fillcolor=\"#e58139\"] ;\n",
      "112 -> 116 ;\n",
      "117 [label=\"node #117\\nX[0] <= 37.838\\nmse = 3.259\\nsamples = 14\\nvalue = [[0.48]\\n[1.809]]\", fillcolor=\"#f6d5bd\"] ;\n",
      "111 -> 117 ;\n",
      "118 [label=\"node #118\\nX[0] <= 36.406\\nmse = 1.87\\nsamples = 3\\nvalue = [[-2.024]\\n[1.425]]\", fillcolor=\"#efb185\"] ;\n",
      "117 -> 118 ;\n",
      "119 [label=\"node #119\\nmse = 0.0\\nsamples = 1\\nvalue = [[-2.939]\\n[-1.11]]\", fillcolor=\"#e58139\"] ;\n",
      "118 -> 119 ;\n",
      "120 [label=\"node #120\\nX[0] <= 37.172\\nmse = 0.081\\nsamples = 2\\nvalue = [[-1.567]\\n[2.693]]\", fillcolor=\"#e5833c\"] ;\n",
      "118 -> 120 ;\n",
      "121 [label=\"node #121\\nmse = 0.0\\nsamples = 1\\nvalue = [[-1.914]\\n[2.491]]\", fillcolor=\"#e58139\"] ;\n",
      "120 -> 121 ;\n",
      "122 [label=\"node #122\\nmse = 0.0\\nsamples = 1\\nvalue = [[-1.22]\\n[2.895]]\", fillcolor=\"#e58139\"] ;\n",
      "120 -> 122 ;\n",
      "123 [label=\"node #123\\nX[0] <= 47.416\\nmse = 2.523\\nsamples = 11\\nvalue = [[1.164]\\n[1.913]]\", fillcolor=\"#f2c29f\"] ;\n",
      "117 -> 123 ;\n",
      "124 [label=\"node #124\\nX[0] <= 38.672\\nmse = 1.847\\nsamples = 6\\nvalue = [[2.164]\\n[1.317]]\", fillcolor=\"#efb184\"] ;\n",
      "123 -> 124 ;\n",
      "125 [label=\"node #125\\nX[0] <= 38.42\\nmse = 0.024\\nsamples = 2\\nvalue = [[2.259]\\n[2.468]]\", fillcolor=\"#e5823a\"] ;\n",
      "124 -> 125 ;\n",
      "126 [label=\"node #126\\nmse = 0.0\\nsamples = 1\\nvalue = [[2.342]\\n[2.671]]\", fillcolor=\"#e58139\"] ;\n",
      "125 -> 126 ;\n",
      "127 [label=\"node #127\\nmse = -0.0\\nsamples = 1\\nvalue = [[2.177]\\n[2.265]]\", fillcolor=\"#e58139\"] ;\n",
      "125 -> 127 ;\n",
      "128 [label=\"node #128\\nX[0] <= 42.008\\nmse = 2.258\\nsamples = 4\\nvalue = [[2.116]\\n[0.741]]\", fillcolor=\"#f1bb94\"] ;\n",
      "124 -> 128 ;\n",
      "129 [label=\"node #129\\nmse = 1.286\\nsamples = 2\\nvalue = [[2.673]\\n[-0.393]]\", fillcolor=\"#eca26d\"] ;\n",
      "128 -> 129 ;\n",
      "130 [label=\"node #130\\nmse = 1.636\\nsamples = 2\\nvalue = [[1.56]\\n[1.874]]\", fillcolor=\"#eeab7b\"] ;\n",
      "128 -> 130 ;\n",
      "131 [label=\"node #131\\nX[0] <= 54.022\\nmse = 1.543\\nsamples = 5\\nvalue = [[-0.037]\\n[2.629]]\", fillcolor=\"#eda977\"] ;\n",
      "123 -> 131 ;\n",
      "132 [label=\"node #132\\nX[0] <= 49.831\\nmse = 0.238\\nsamples = 4\\nvalue = [[-0.79]\\n[2.961]]\", fillcolor=\"#e68743\"] ;\n",
      "131 -> 132 ;\n",
      "133 [label=\"node #133\\nmse = 0.0\\nsamples = 1\\nvalue = [[-1.857]\\n[2.534]]\", fillcolor=\"#e58139\"] ;\n",
      "132 -> 133 ;\n",
      "134 [label=\"node #134\\nmse = 0.024\\nsamples = 3\\nvalue = [[-0.434]\\n[3.104]]\", fillcolor=\"#e5823a\"] ;\n",
      "132 -> 134 ;\n",
      "135 [label=\"node #135\\nmse = -0.0\\nsamples = 1\\nvalue = [[2.972]\\n[1.3]]\", fillcolor=\"#e58139\"] ;\n",
      "131 -> 135 ;\n",
      "136 [label=\"node #136\\nX[0] <= 71.101\\nmse = 4.618\\nsamples = 19\\nvalue = [[-0.843]\\n[0.183]]\", fillcolor=\"#fef8f4\"] ;\n",
      "110 -> 136 ;\n",
      "137 [label=\"node #137\\nX[0] <= 60.814\\nmse = 1.327\\nsamples = 3\\nvalue = [[-2.339]\\n[-1.321]]\", fillcolor=\"#eca36f\"] ;\n",
      "136 -> 137 ;\n",
      "138 [label=\"node #138\\nmse = -0.0\\nsamples = 1\\nvalue = [[-1.391]\\n[-2.817]]\", fillcolor=\"#e58139\"] ;\n",
      "137 -> 138 ;\n",
      "139 [label=\"node #139\\nX[0] <= 64.202\\nmse = 0.814\\nsamples = 2\\nvalue = [[-2.813]\\n[-0.573]]\", fillcolor=\"#e9965a\"] ;\n",
      "137 -> 139 ;\n",
      "140 [label=\"node #140\\nmse = -0.0\\nsamples = 1\\nvalue = [[-3.068]\\n[0.677]]\", fillcolor=\"#e58139\"] ;\n",
      "139 -> 140 ;\n",
      "141 [label=\"node #141\\nmse = 0.0\\nsamples = 1\\nvalue = [[-2.559]\\n[-1.823]]\", fillcolor=\"#e58139\"] ;\n",
      "139 -> 141 ;\n",
      "142 [label=\"node #142\\nX[0] <= 77.791\\nmse = 4.734\\nsamples = 16\\nvalue = [[-0.562]\\n[0.465]]\", fillcolor=\"#fefbf8\"] ;\n",
      "136 -> 142 ;\n",
      "143 [label=\"node #143\\nX[0] <= 76.145\\nmse = 1.253\\nsamples = 4\\nvalue = [[0.934]\\n[2.615]]\", fillcolor=\"#eca16c\"] ;\n",
      "142 -> 143 ;\n",
      "144 [label=\"node #144\\nX[0] <= 75.451\\nmse = 0.112\\nsamples = 3\\nvalue = [[0.247]\\n[3.169]]\", fillcolor=\"#e6843e\"] ;\n",
      "143 -> 144 ;\n",
      "145 [label=\"node #145\\nmse = 0.0\\nsamples = 1\\nvalue = [[-0.377]\\n[3.119]]\", fillcolor=\"#e58139\"] ;\n",
      "144 -> 145 ;\n",
      "146 [label=\"node #146\\nX[0] <= 75.626\\nmse = 0.022\\nsamples = 2\\nvalue = [[0.559]\\n[3.194]]\", fillcolor=\"#e5823a\"] ;\n",
      "144 -> 146 ;\n",
      "147 [label=\"node #147\\nmse = 0.0\\nsamples = 1\\nvalue = [[0.401]\\n[3.329]]\", fillcolor=\"#e58139\"] ;\n",
      "146 -> 147 ;\n",
      "148 [label=\"node #148\\nmse = 0.0\\nsamples = 1\\nvalue = [[0.717]\\n[3.059]]\", fillcolor=\"#e58139\"] ;\n",
      "146 -> 148 ;\n",
      "149 [label=\"node #149\\nmse = 0.0\\nsamples = 1\\nvalue = [[2.994]\\n[0.952]]\", fillcolor=\"#e58139\"] ;\n",
      "143 -> 149 ;\n",
      "150 [label=\"node #150\\nX[0] <= 79.927\\nmse = 4.37\\nsamples = 12\\nvalue = [[-1.061]\\n[-0.251]]\", fillcolor=\"#fcf1ea\"] ;\n",
      "142 -> 150 ;\n",
      "151 [label=\"node #151\\nX[0] <= 79.049\\nmse = 0.08\\nsamples = 2\\nvalue = [[-1.52]\\n[-2.72]]\", fillcolor=\"#e5833c\"] ;\n",
      "150 -> 151 ;\n",
      "152 [label=\"node #152\\nmse = 0.0\\nsamples = 1\\nvalue = [[-1.17]\\n[-2.916]]\", fillcolor=\"#e58139\"] ;\n",
      "151 -> 152 ;\n",
      "153 [label=\"node #153\\nmse = 0.0\\nsamples = 1\\nvalue = [[-1.87]\\n[-2.525]]\", fillcolor=\"#e58139\"] ;\n",
      "151 -> 153 ;\n",
      "154 [label=\"node #154\\nX[0] <= 83.61\\nmse = 4.471\\nsamples = 10\\nvalue = [[-0.969]\\n[0.243]]\", fillcolor=\"#fdf4ee\"] ;\n",
      "150 -> 154 ;\n",
      "155 [label=\"node #155\\nX[0] <= 81.2\\nmse = 1.173\\nsamples = 3\\nvalue = [[-1.829]\\n[2.21]]\", fillcolor=\"#eb9f68\"] ;\n",
      "154 -> 155 ;\n",
      "156 [label=\"node #156\\nmse = 0.014\\nsamples = 2\\nvalue = [[-2.803]\\n[1.745]]\", fillcolor=\"#e5813a\"] ;\n",
      "155 -> 156 ;\n",
      "157 [label=\"node #157\\nmse = 0.0\\nsamples = 1\\nvalue = [[0.118]\\n[3.139]]\", fillcolor=\"#e58139\"] ;\n",
      "155 -> 157 ;\n",
      "158 [label=\"node #158\\nX[0] <= 90.738\\nmse = 4.475\\nsamples = 7\\nvalue = [[-0.601]\\n[-0.6]]\", fillcolor=\"#fdf4ee\"] ;\n",
      "154 -> 158 ;\n",
      "159 [label=\"node #159\\nmse = 3.926\\nsamples = 3\\nvalue = [[1.055]\\n[-0.663]]\", fillcolor=\"#fae6d8\"] ;\n",
      "158 -> 159 ;\n",
      "160 [label=\"node #160\\nmse = 3.083\\nsamples = 4\\nvalue = [[-1.843]\\n[-0.553]]\", fillcolor=\"#f5d0b6\"] ;\n",
      "158 -> 160 ;\n",
      "}\n"
     ]
    }
   ],
   "source": [
    "print(tree.export_graphviz(\n",
    "    decision_tree=regr_3, \n",
    "    out_file=None, \n",
    "    filled=True,\n",
    "    node_ids=True\n",
    "))"
   ]
  },
  {
   "cell_type": "markdown",
   "metadata": {},
   "source": [
    "## 4. SVM (Support Vector Machine)\n",
    "\n",
    "It is a **classification** method. In this algorithm, we plot each data item as a point in n-dimensional space (where n is number of features you have) with the value of each feature being the value of a particular coordinate.\n",
    "\n",
    "For example, if we only had two features like Height and Hair length of an individual, we’d first plot these two variables in two dimensional space where each point has two co-ordinates (these co-ordinates are known as Support Vectors)\n",
    "\n",
    "![](https://www.analyticsvidhya.com/wp-content/uploads/2015/08/SVM1.png)\n",
    "\n",
    "Now, we will **find some line that splits the data** between the two differently classified groups of data. This will be the line such that the **distances from the closest point** in **each of the two groups will be farthest away.\n",
    "\n",
    "![](https://www.analyticsvidhya.com/wp-content/uploads/2015/08/SVM2.png)\n",
    "\n",
    "In the example shown above, the line which splits the data into two differently classified groups is the black line, since the two closest points are the farthest apart from the line. This line is our classifier. Then, depending on where the testing data lands on either side of the line, that’s what class we can classify the new data as.\n",
    "\n",
    "More: [Simplified Version of Support Vector Machine](https://www.analyticsvidhya.com/blog/2014/10/support-vector-machine-simplified/)\n",
    "\n",
    "Think of this algorithm as playing JezzBall in n-dimensional space. The tweaks in the game are:\n",
    "\n",
    "    You can draw lines / planes at any angles (rather than just horizontal or vertical as in classic game)\n",
    "    The objective of the game is to segregate balls of different colors in different rooms.\n",
    "    And the balls are not moving."
   ]
  },
  {
   "cell_type": "code",
   "execution_count": 60,
   "metadata": {},
   "outputs": [],
   "source": [
    "# simple example\n",
    "# data\n",
    "X = np.array([[1,2], [4,7], [1.5,1.8], [5,6], [1,0.6], [5.5,8], [2,3], [4,6]])\n",
    "# label\n",
    "y = np.array([0,1,0,1,0,1,0,1])"
   ]
  },
  {
   "cell_type": "code",
   "execution_count": 61,
   "metadata": {},
   "outputs": [
    {
     "data": {
      "text/plain": [
       "<matplotlib.collections.PathCollection at 0x230515b9160>"
      ]
     },
     "execution_count": 61,
     "metadata": {},
     "output_type": "execute_result"
    },
    {
     "data": {
      "image/png": "[encoded data removed]",
      "text/plain": [
       "<Figure size 432x288 with 1 Axes>"
      ]
     },
     "metadata": {
      "needs_background": "light"
     },
     "output_type": "display_data"
    }
   ],
   "source": [
    "# data visualization\n",
    "plt.scatter(X[:, 0], X[:, 1], c = 1-y)"
   ]
  },
  {
   "cell_type": "code",
   "execution_count": 62,
   "metadata": {},
   "outputs": [
    {
     "data": {
      "text/plain": [
       "SVC(kernel='linear')"
      ]
     },
     "execution_count": 62,
     "metadata": {},
     "output_type": "execute_result"
    }
   ],
   "source": [
    "from sklearn import svm\n",
    "# train model \n",
    "clf = svm.SVC(kernel='linear', C = 1.0)\n",
    "clf.fit(X,y)"
   ]
  },
  {
   "cell_type": "code",
   "execution_count": 63,
   "metadata": {},
   "outputs": [
    {
     "name": "stdout",
     "output_type": "stream",
     "text": [
      "[0 1 0 1 0 1 0 1]\n"
     ]
    }
   ],
   "source": [
    "# predition\n",
    "print(clf.predict(X))"
   ]
  },
  {
   "cell_type": "code",
   "execution_count": 64,
   "metadata": {},
   "outputs": [
    {
     "data": {
      "text/plain": [
       "array([-1.76923077,  1.46153846, -1.70769231,  1.30769231, -2.41538462,\n",
       "        2.38461538, -1.        ,  1.        ])"
      ]
     },
     "execution_count": 64,
     "metadata": {},
     "output_type": "execute_result"
    }
   ],
   "source": [
    "# prediction function\n",
    "clf.decision_function(X) "
   ]
  },
  {
   "cell_type": "code",
   "execution_count": 65,
   "metadata": {},
   "outputs": [
    {
     "data": {
      "text/plain": [
       "array([0, 1, 0, 1, 0, 1, 0, 1])"
      ]
     },
     "execution_count": 65,
     "metadata": {},
     "output_type": "execute_result"
    }
   ],
   "source": [
    "(clf.decision_function(X) > 0).astype('int')"
   ]
  },
  {
   "cell_type": "code",
   "execution_count": 66,
   "metadata": {
    "scrolled": true
   },
   "outputs": [
    {
     "data": {
      "text/plain": [
       "array([[2., 3.],\n",
       "       [4., 6.]])"
      ]
     },
     "execution_count": 66,
     "metadata": {},
     "output_type": "execute_result"
    }
   ],
   "source": [
    "# get support vectors\n",
    "clf.support_vectors_"
   ]
  },
  {
   "cell_type": "code",
   "execution_count": 67,
   "metadata": {},
   "outputs": [
    {
     "data": {
      "text/plain": [
       "array([6, 7])"
      ]
     },
     "execution_count": 67,
     "metadata": {},
     "output_type": "execute_result"
    }
   ],
   "source": [
    "# get indices of support vectors\n",
    "clf.support_"
   ]
  },
  {
   "cell_type": "code",
   "execution_count": 68,
   "metadata": {},
   "outputs": [
    {
     "data": {
      "text/plain": [
       "array([1, 1])"
      ]
     },
     "execution_count": 68,
     "metadata": {},
     "output_type": "execute_result"
    }
   ],
   "source": [
    "# get number of support vectors for each class\n",
    "clf.n_support_ "
   ]
  },
  {
   "cell_type": "code",
   "execution_count": 69,
   "metadata": {},
   "outputs": [
    {
     "data": {
      "image/png": "[encoded data removed]",
      "text/plain": [
       "<Figure size 432x504 with 1 Axes>"
      ]
     },
     "metadata": {
      "needs_background": "light"
     },
     "output_type": "display_data"
    }
   ],
   "source": [
    "# data with decision boundary\n",
    "w = clf.coef_[0]\n",
    "k = -w[0] / w[1]\n",
    "xx = np.linspace(0,6)\n",
    "yy = k * xx - clf.intercept_[0] / w[1]\n",
    "plt.figure(figsize=(6,7))\n",
    "plt.plot(xx, yy, 'k-', label=\"non weighted div\")\n",
    "plt.scatter(X[:, 0], X[:, 1], c = y, label='data')\n",
    "plt.legend(), plt.grid(True)\n",
    "plt.show()"
   ]
  },
  {
   "cell_type": "code",
   "execution_count": 70,
   "metadata": {},
   "outputs": [
    {
     "data": {
      "text/plain": [
       "SVC(kernel='linear')"
      ]
     },
     "execution_count": 70,
     "metadata": {},
     "output_type": "execute_result"
    }
   ],
   "source": [
    "# SVM with scikit learn and iris data set\n",
    "# Initialise and train model\n",
    "C = 1.0\n",
    "svm_model = svm.SVC(kernel='linear', C=C)\n",
    "svm_model.fit(iris.data, iris.target)"
   ]
  },
  {
   "cell_type": "code",
   "execution_count": 71,
   "metadata": {},
   "outputs": [
    {
     "data": {
      "image/png": "[encoded data removed]",
      "text/plain": [
       "<Figure size 360x360 with 1 Axes>"
      ]
     },
     "metadata": {
      "needs_background": "light"
     },
     "output_type": "display_data"
    }
   ],
   "source": [
    "# calculate confusion matrices\n",
    "prediction = svm_model.predict(iris.data)\n",
    "cm = confusion_matrix(y_true=iris.target, y_pred=prediction)\n",
    "acc = svm_model.score(X=iris.data, y=iris.target)\n",
    "# visualization with seaborn\n",
    "plt.figure(figsize=(5,5))\n",
    "sns.heatmap(cm, annot=True, fmt='.0f', linewidths=.5, square = True, cbar=False);\n",
    "plt.ylabel('Actual label');\n",
    "plt.xlabel('Predicted label');\n",
    "all_sample_title = 'Accuracy Score: %.1f'%(acc*100) + '%'\n",
    "plt.title(all_sample_title, size = 12);"
   ]
  },
  {
   "cell_type": "code",
   "execution_count": 72,
   "metadata": {},
   "outputs": [
    {
     "name": "stderr",
     "output_type": "stream",
     "text": [
      "C:\\Users\\vatien\\Anaconda3\\lib\\site-packages\\sklearn\\svm\\_base.py:976: ConvergenceWarning: Liblinear failed to converge, increase the number of iterations.\n",
      "  warnings.warn(\"Liblinear failed to converge, increase \"\n"
     ]
    },
    {
     "data": {
      "image/png": "[encoded data removed]",
      "text/plain": [
       "<Figure size 504x504 with 4 Axes>"
      ]
     },
     "metadata": {},
     "output_type": "display_data"
    }
   ],
   "source": [
    "# Optional \n",
    "# Plot different SVM classifiers in the iris dataset\n",
    "# https://scikit-learn.org/stable/auto_examples/svm/plot_iris.html\n",
    "\n",
    "import numpy as np\n",
    "import matplotlib.pyplot as plt\n",
    "from sklearn import svm, datasets\n",
    "def make_meshgrid(x, y, h=.02):\n",
    "    \"\"\"Create a mesh of points to plot in\n",
    "\n",
    "    Parameters\n",
    "    ----------\n",
    "    x: data to base x-axis meshgrid on\n",
    "    y: data to base y-axis meshgrid on\n",
    "    h: stepsize for meshgrid, optional\n",
    "\n",
    "    Returns\n",
    "    -------\n",
    "    xx, yy : ndarray\n",
    "    \"\"\"\n",
    "    x_min, x_max = x.min() - 1, x.max() + 1\n",
    "    y_min, y_max = y.min() - 1, y.max() + 1\n",
    "    xx, yy = np.meshgrid(np.arange(x_min, x_max, h),\n",
    "                         np.arange(y_min, y_max, h))\n",
    "    return xx, yy\n",
    "\n",
    "\n",
    "def plot_contours(ax, clf, xx, yy, **params):\n",
    "    \"\"\"Plot the decision boundaries for a classifier.\n",
    "\n",
    "    Parameters\n",
    "    ----------\n",
    "    ax: matplotlib axes object\n",
    "    clf: a classifier\n",
    "    xx: meshgrid ndarray\n",
    "    yy: meshgrid ndarray\n",
    "    params: dictionary of params to pass to contourf, optional\n",
    "    \"\"\"\n",
    "    Z = clf.predict(np.c_[xx.ravel(), yy.ravel()])\n",
    "    Z = Z.reshape(xx.shape)\n",
    "    out = ax.contourf(xx, yy, Z, **params)\n",
    "    return out\n",
    "\n",
    "\n",
    "# import some data to play with\n",
    "iris = datasets.load_iris()\n",
    "# Take the first two features. We could avoid this by using a two-dim dataset\n",
    "X = iris.data[:, :2]\n",
    "y = iris.target\n",
    "\n",
    "# we create an instance of SVM and fit out data. We do not scale our\n",
    "# data since we want to plot the support vectors\n",
    "C = 1.0  # SVM regularization parameter\n",
    "models = (svm.SVC(kernel='linear', C=C),\n",
    "          svm.LinearSVC(C=C),\n",
    "          svm.SVC(kernel='rbf', gamma=0.7, C=C),\n",
    "          svm.SVC(kernel='poly', degree=3, C=C))\n",
    "models = (clf.fit(X, y) for clf in models)\n",
    "\n",
    "# title for the plots\n",
    "titles = ('SVC with linear kernel',\n",
    "          'LinearSVC (linear kernel)',\n",
    "          'SVC with RBF kernel',\n",
    "          'SVC with polynomial (degree 3) kernel')\n",
    "\n",
    "# Set-up 2x2 grid for plotting.\n",
    "fig, sub = plt.subplots(2, 2, figsize=(7,7))\n",
    "# plt.\n",
    "plt.subplots_adjust(wspace=0.4, hspace=0.4)\n",
    "\n",
    "X0, X1 = X[:, 0], X[:, 1]\n",
    "xx, yy = make_meshgrid(X0, X1)\n",
    "\n",
    "for clf, title, ax in zip(models, titles, sub.flatten()):\n",
    "    plot_contours(ax, clf, xx, yy,\n",
    "                  cmap=plt.cm.coolwarm, alpha=0.8)\n",
    "    ax.scatter(X0, X1, c=y, cmap=plt.cm.coolwarm, s=20, edgecolors='k')\n",
    "    ax.set_xlim(xx.min(), xx.max())\n",
    "    ax.set_ylim(yy.min(), yy.max())\n",
    "    ax.set_xlabel('Sepal length')\n",
    "    ax.set_ylabel('Sepal width')\n",
    "    ax.set_xticks(())\n",
    "    ax.set_yticks(())\n",
    "    ax.set_title(title)\n",
    "\n",
    "plt.show()\n"
   ]
  },
  {
   "cell_type": "markdown",
   "metadata": {
    "jupyter": {
     "source_hidden": true
    }
   },
   "source": [
    "## 5. Naive Bayes\n",
    "It is a **classification technique** based on **Bayes’ theorem** with an assumption of independence between predictors. In simple terms, a Naive Bayes classifier assumes that the presence of a particular feature in a class is unrelated to the presence of any other feature. For example, a fruit may be considered to be an apple if it is red, round, and about 3 inches in diameter. Even if these features depend on each other or upon the existence of the other features, a naive Bayes classifier would consider all of these properties to independently contribute to the probability that this fruit is an apple.\n",
    "\n",
    "Naive Bayesian model is **easy to build** and particularly **useful** for **very large data sets**. Along with simplicity, Naive Bayes is known to **outperform even highly sophisticated classification methods**.\n",
    "\n",
    "Bayes theorem provides a way of calculating posterior probability P(c|x) from P(c), P(x) and P(x|c). Look at the equation below:\n",
    "\n",
    "![](https://www.analyticsvidhya.com/wp-content/uploads/2015/08/Bayes_rule.png)\n",
    "\n",
    "Here,\n",
    "\n",
    "- $P(c|x)$ is the posterior probability of class (target) given predictor (attribute). \n",
    "- $P(c)$ is the prior probability of class. \n",
    "- $P(x|c)$ is the likelihood which is the probability of predictor given class. \n",
    "- $P(x)$ is the prior probability of predictor.\n",
    "\n",
    "Example: Let’s understand it using an example. Below I have a training data set of weather and corresponding target variable ‘Play’. Now, we need to classify whether players will play or not based on weather condition. Let’s follow the below steps to perform it.\n",
    "\n",
    "- *Step 1*: Convert the data set to frequency table\n",
    "- *Step 2*: Create Likelihood table by finding the probabilities like Overcast probability = 0.29 and probability of playing is 0.64.\n",
    "![](https://www.analyticsvidhya.com/wp-content/uploads/2015/08/Bayes_41-850x310.png)\n",
    "- *Step 3*: Now, use Naive Bayesian equation to calculate the posterior probability for each class. The class with the highest posterior probability is the outcome of prediction.\n",
    "\n",
    "Problem: Players will pay if weather is sunny, is this statement is correct?<br>\n",
    "We can solve it using above discussed method, so P(Yes|Sunny) = P(Sunny|Yes) * P(Yes)/P(Sunny)<br>\n",
    "Here we have P(Sunny|Yes) = 3/9 = 0.33, P(Sunny) = 5/14 = 0.36, P(Yes)= 9/14 = 0.64<br>\n",
    "Now, P(Yes|Sunny) = 0.33* 0.64/0.36 = 0.60, which has higher probability.\n",
    "\n",
    "Naive Bayes uses a similar method to predict the probability of different class based on various attributes. This algorithm is mostly used in text classification and with problems having multiple classes.\n",
    "[From scratch](https://machinelearningmastery.com/naive-bayes-classifier-scratch-python/)"
   ]
  },
  {
   "cell_type": "code",
   "execution_count": 73,
   "metadata": {},
   "outputs": [
    {
     "data": {
      "image/png": "[encoded data removed]",
      "text/plain": [
       "<Figure size 360x360 with 1 Axes>"
      ]
     },
     "metadata": {
      "needs_background": "light"
     },
     "output_type": "display_data"
    }
   ],
   "source": [
    "# with sklearn\n",
    "from sklearn.naive_bayes import GaussianNB\n",
    "gnb = GaussianNB()\n",
    "gnb.fit(iris.data, iris.target)\n",
    "# calculate confusion matrices\n",
    "prediction = gnb.predict(iris.data)\n",
    "cm = confusion_matrix(y_true=iris.target, y_pred=prediction)\n",
    "acc = gnb.score(X=iris.data, y=iris.target)\n",
    "# visualization with seaborn\n",
    "plt.figure(figsize=(5,5))\n",
    "sns.heatmap(cm, annot=True, fmt='.0f', linewidths=.5, square = True, cbar=False);\n",
    "plt.ylabel('Actual label');\n",
    "plt.xlabel('Predicted label');\n",
    "all_sample_title = 'Accuracy Score: %.1f'%(acc*100) + '%'\n",
    "plt.title(all_sample_title, size = 12);"
   ]
  },
  {
   "cell_type": "code",
   "execution_count": 74,
   "metadata": {},
   "outputs": [
    {
     "name": "stdout",
     "output_type": "stream",
     "text": [
      "Number of feature: 4\n",
      "Probability of each class:\n",
      " [0.33333333 0.33333333 0.33333333]\n",
      "Number of training samples observed in each class:\n",
      " [50. 50. 50.]\n",
      "Mean of each feature per class:\n",
      " [[5.006 3.428 1.462 0.246]\n",
      " [5.936 2.77  4.26  1.326]\n",
      " [6.588 2.974 5.552 2.026]]\n",
      "Variance of each feature per class:\n",
      " [[0.121764 0.140816 0.029556 0.010884]\n",
      " [0.261104 0.0965   0.2164   0.038324]\n",
      " [0.396256 0.101924 0.298496 0.073924]]\n"
     ]
    }
   ],
   "source": [
    "# summaries\n",
    "print('Number of feature:', iris.data.shape[1])\n",
    "print('Probability of each class:\\n', gnb.class_prior_)\n",
    "print('Number of training samples observed in each class:\\n', gnb.class_count_)\n",
    "print('Mean of each feature per class:\\n', gnb.theta_)\n",
    "print('Variance of each feature per class:\\n', gnb.sigma_)"
   ]
  },
  {
   "cell_type": "code",
   "execution_count": 75,
   "metadata": {},
   "outputs": [
    {
     "name": "stdout",
     "output_type": "stream",
     "text": [
      "Bayes prediction:\n",
      " [0 1 2]\n",
      "Prediction by Sklearn:\n",
      " [0 1 2]\n"
     ]
    }
   ],
   "source": [
    "# optional\n",
    "# how to get predictiton\n",
    "def gaussian(x, mu, sig):\n",
    "    \"\"\"\n",
    "    return gaussian probability of value x with mean mu and standard deviation sig\n",
    "    \"\"\"\n",
    "    return np.exp(-np.power(x - mu, 2.) / (2 * np.power(sig, 2.)))\n",
    "\n",
    "Xtest = iris.data[[0, 60, 140]]\n",
    "numclass = 3  # number of classes\n",
    "numfeat = 4   # number of feature\n",
    "mu = gnb.theta_\n",
    "sig = gnb.sigma_\n",
    "pclass = gnb.class_prior_\n",
    "# feature shape = (3,4)\n",
    "# get probability each feature per class, shape = (number of sample, number of classes, number of feature)\n",
    "prob_xij_ck = \\\n",
    "gaussian(np.tile(Xtest, (1,1,numclass)).reshape(Xtest.shape[0],numclass,numfeat), mu, sig)\n",
    "# get probability each sample per class, shape = (number of sample, number of classes)\n",
    "prob_xi_ck = np.multiply.reduce(prob_xij_ck,2)\n",
    "# get prediction\n",
    "prediction = (prob_xi_ck*pclass).argmax(axis=1)\n",
    "print(\"Bayes prediction:\\n\", prediction)\n",
    "print(\"Prediction by Sklearn:\\n\", gnb.predict(Xtest))\n"
   ]
  },
  {
   "cell_type": "markdown",
   "metadata": {},
   "source": [
    "**Gaussian Naive Bayesian** to train for Feature X (shape = number of samples $M$, number of features $N$), label y (shape = $(M, 1)$)\n",
    "- Training:\n",
    "    - Group by class (total number - $K$), calculate prior (based on frequency) of each class - $p(c_k)$\n",
    "    - Supose in each class each feature has gaussian distribution\n",
    "    - Estimate mean $\\mu_{k,n}$ and standard deviation $\\sigma_{k,n}$ of each feature for each class\n",
    "- Prediction:\n",
    "    - Calculate probability $p(x_{m,n}|c_k) = \\text{Gaussian}(x_{m,n}, \\mu_{k,n}, \\sigma_{k,n})$\n",
    "    - Supose features are independent, calculate likelihood $p(X_m|c_k) = \\prod_{n}{p(x_{m,n}|c_k)}$\n",
    "    - Calculate posterior (or probability each sample belong to each class) $p(c_k|X_m) = \\frac{p(X_m|c_k)p(c_k)}{p(X_m)}$ \n",
    "    - Return class with largest posterior $p(c_k|X_m)$\n",
    "    "
   ]
  },
  {
   "cell_type": "markdown",
   "metadata": {
    "jupyter": {
     "source_hidden": true
    }
   },
   "source": [
    "## 6. kNN (k- Nearest Neighbors)\n",
    "It can be used for **both classification and regression** problems. However, it is more widely used in classification problems in the industry. K nearest neighbors is a simple algorithm that **stores all available cases** and **classifies** new cases **by a majority vote** of its k neighbors. The case being assigned to the class is **most common** amongst its **K nearest neighbors** measured by a **distance** function.\n",
    "\n",
    "These distance functions can be Euclidean, Manhattan, Minkowski and Hamming distance. First three functions are used for continuous function and fourth one (Hamming) for categorical variables. If K = 1, then the case is simply assigned to the class of its nearest neighbor. At times, ***choosing K*** *turns out to be a **challenge** while performing kNN modeling*.\n",
    "\n",
    "![](https://www.analyticsvidhya.com/wp-content/uploads/2015/08/KNN.png)\n",
    "\n",
    "KNN can easily be mapped to our real lives. If you want to **learn about a person**, of whom you have no information, you might like to **find out about his close friends** and the circles he moves in and gain access to his/her information!\n",
    "\n",
    "Things to consider before selecting kNN:\n",
    "\n",
    "- KNN is computationally expensive\n",
    "- Variables should be normalized else higher range variables can bias it\n",
    "- Works on pre-processing stage more before going for kNN like outlier, noise removal"
   ]
  },
  {
   "cell_type": "code",
   "execution_count": 76,
   "metadata": {},
   "outputs": [],
   "source": [
    "from sklearn.neighbors import KNeighborsClassifier"
   ]
  },
  {
   "cell_type": "code",
   "execution_count": 77,
   "metadata": {},
   "outputs": [
    {
     "data": {
      "text/plain": [
       "KNeighborsClassifier(n_neighbors=3)"
      ]
     },
     "execution_count": 77,
     "metadata": {},
     "output_type": "execute_result"
    }
   ],
   "source": [
    "# simple code with sklearn and simple dataset\n",
    "X = np.array([[1,2], [4,7], [1.5,1.8], [5,6], [1,0.6], [5.5,8], [2,3], [4,6]])\n",
    "y = np.array([0,1,0,1,0,1,0,1])\n",
    "neigh = KNeighborsClassifier(n_neighbors=3)\n",
    "neigh.fit(X,y)"
   ]
  },
  {
   "cell_type": "code",
   "execution_count": 78,
   "metadata": {},
   "outputs": [
    {
     "data": {
      "text/plain": [
       "<matplotlib.legend.Legend at 0x230518b78b0>"
      ]
     },
     "execution_count": 78,
     "metadata": {},
     "output_type": "execute_result"
    },
    {
     "data": {
      "image/png": "[encoded data removed]",
      "text/plain": [
       "<Figure size 432x288 with 1 Axes>"
      ]
     },
     "metadata": {
      "needs_background": "light"
     },
     "output_type": "display_data"
    }
   ],
   "source": [
    "# Plotting decision regions\n",
    "x_min, x_max = X[:, 0].min() - 1, X[:, 0].max() + 1\n",
    "y_min, y_max = X[:, 1].min() - 1, X[:, 1].max() + 1\n",
    "xx, yy = np.meshgrid(np.arange(x_min, x_max, 0.1),\n",
    "                     np.arange(y_min, y_max, 0.1))\n",
    "Z = neigh.predict(np.c_[xx.ravel(), yy.ravel()])\n",
    "Z = Z.reshape(xx.shape)\n",
    "plt.contourf(xx, yy, Z, alpha=0.4)\n",
    "plt.scatter(X[:, 0], X[:, 1], c=y, s=20, edgecolor='k', label='Train')\n",
    "\n",
    "Xtest = np.array([[1,5], [3,6]])\n",
    "Ytest = neigh.predict(Xtest)\n",
    "\n",
    "plt.scatter(Xtest[:, 0], Xtest[:, 1], c=Ytest, s=40, edgecolor='k', label='Test')\n",
    "plt.legend()"
   ]
  },
  {
   "cell_type": "code",
   "execution_count": 79,
   "metadata": {},
   "outputs": [
    {
     "data": {
      "image/png": "[encoded data removed]",
      "text/plain": [
       "<Figure size 1080x360 with 2 Axes>"
      ]
     },
     "metadata": {
      "needs_background": "light"
     },
     "output_type": "display_data"
    }
   ],
   "source": [
    "# with iris dataset\n",
    "from matplotlib.colors import ListedColormap\n",
    "n_neighbors = 15\n",
    "# import some data to play with\n",
    "# we only take the first two features. We could avoid this ugly\n",
    "# slicing by using a two-dim dataset\n",
    "X = iris.data[:, [1,3]]\n",
    "y = iris.target\n",
    "h = .02  # step size in the mesh\n",
    "# Create color maps\n",
    "cmap_light = ListedColormap(['#FFAAAA', '#AAFFAA', '#AAAAFF'])\n",
    "cmap_bold = ListedColormap(['#FF0000', '#00FF00', '#0000FF'])\n",
    "ww = ['uniform', 'distance'] \n",
    "plt.figure(figsize=(15,5))\n",
    "\n",
    "for i in [0, 1]:\n",
    "    # we create an instance of Neighbours Classifier and fit the data.\n",
    "    clf = KNeighborsClassifier(n_neighbors, weights=ww[i])\n",
    "    clf.fit(X, y)\n",
    "    # Plot the decision boundary. For that, we will assign a color to each\n",
    "    # point in the mesh [x_min, x_max]x[y_min, y_max].\n",
    "    x_min, x_max = X[:, 0].min() - 1, X[:, 0].max() + 1\n",
    "    y_min, y_max = X[:, 1].min() - 1, X[:, 1].max() + 1\n",
    "    xx, yy = np.meshgrid(np.arange(x_min, x_max, h), np.arange(y_min, y_max, h))\n",
    "    Z = clf.predict(np.c_[xx.ravel(), yy.ravel()])\n",
    "\n",
    "    # Put the result into a color plot\n",
    "    Z = Z.reshape(xx.shape)\n",
    "    plt.subplot(1,2,i+1)\n",
    "    plt.pcolormesh(xx, yy, Z, cmap=cmap_light)\n",
    "\n",
    "    # Plot also the training points\n",
    "    plt.scatter(X[:, 0], X[:, 1], c=y, cmap=cmap_bold,edgecolor='k', s=20)\n",
    "    plt.axis([xx.min(), xx.max(), yy.min(), yy.max()])\n",
    "    plt.title(\"3-Class classification (k = %i, weights = '%s')\" % (n_neighbors, ww[i]))\n",
    "\n",
    "plt.show()"
   ]
  },
  {
   "cell_type": "code",
   "execution_count": 80,
   "metadata": {},
   "outputs": [
    {
     "data": {
      "image/png": "[encoded data removed]",
      "text/plain": [
       "<Figure size 360x360 with 1 Axes>"
      ]
     },
     "metadata": {
      "needs_background": "light"
     },
     "output_type": "display_data"
    }
   ],
   "source": [
    "clf = KNeighborsClassifier(n_neighbors=15,  weights='distance')\n",
    "clf.fit(X=iris.data[:, [1,3]], y=iris.target)\n",
    "prediction = clf.predict(iris.data[:, [1,3]])\n",
    "# calculate confusion matrices\n",
    "cm = confusion_matrix(y_true=iris.target, y_pred=prediction)\n",
    "acc = clf.score(X=iris.data[:, [1,3]], y=iris.target)\n",
    "# visualization with seaborn\n",
    "plt.figure(figsize=(5,5))\n",
    "sns.heatmap(cm, annot=True, fmt='.0f', linewidths=.5, square = True, cbar=False);\n",
    "plt.ylabel('Actual label');\n",
    "plt.xlabel('Predicted label');\n",
    "all_sample_title = 'Accuracy Score: %.1f'%(acc*100) + '%'\n",
    "plt.title(all_sample_title, size = 12);"
   ]
  },
  {
   "cell_type": "markdown",
   "metadata": {},
   "source": [
    "## 7. K-Means\n",
    "It is a type of **unsupervised algorithm** which  solves the clustering problem. Its procedure follows a simple and easy  way to classify a given data set through a certain number of  clusters (assume k clusters). Data points inside a cluster are homogeneous and heterogeneous to peer groups.\n",
    "\n",
    "Remember figuring out shapes from ink blots? k means is somewhat similar this activity. You look at the shape and spread to decipher how many different clusters / population are present!\n",
    "\n",
    "![](https://www.analyticsvidhya.com/wp-content/uploads/2015/08/splatter_ink_blot_texture_by_maki_tak-d5p6zph.jpg)\n",
    "\n",
    "**How K-means forms cluster**:\n",
    "\n",
    "- K-means picks k number of points for each cluster known as centroids.\n",
    "- Each data point forms a cluster with the closest centroids i.e. k clusters.\n",
    "- Finds the centroid of each cluster based on existing cluster members. Here we have new centroids.\n",
    "- As we have new centroids, repeat step 2 and 3. Find the closest distance for each data point from new centroids and get associated with new k-clusters. Repeat this process until convergence occurs i.e. centroids does not change.\n",
    "\n",
    "**How to determine value of K**:\n",
    "\n",
    "In K-means, we have clusters and each cluster has its own centroid. Sum of square of difference between centroid and the data points within a cluster constitutes within sum of square value for that cluster. Also, when the sum of square values for all the clusters are added, it becomes total within sum of square value for the cluster solution.\n",
    "\n",
    "We know that as the number of cluster increases, this value keeps on decreasing but if you plot the result you may see that the sum of squared distance decreases sharply up to some value of k, and then much more slowly after that. Here, we can find the optimum number of cluster.\n",
    "\n",
    "![](https://www.analyticsvidhya.com/wp-content/uploads/2015/08/Kmenas-850x429.png)"
   ]
  },
  {
   "cell_type": "code",
   "execution_count": 81,
   "metadata": {},
   "outputs": [
    {
     "name": "stderr",
     "output_type": "stream",
     "text": [
      "C:\\Users\\vatien\\Anaconda3\\lib\\site-packages\\sklearn\\utils\\deprecation.py:143: FutureWarning: The sklearn.datasets.samples_generator module is  deprecated in version 0.22 and will be removed in version 0.24. The corresponding classes / functions should instead be imported from sklearn.datasets. Anything that cannot be imported from sklearn.datasets is now part of the private API.\n",
      "  warnings.warn(message, FutureWarning)\n"
     ]
    },
    {
     "data": {
      "image/png": "[encoded data removed]",
      "text/plain": [
       "<Figure size 504x360 with 1 Axes>"
      ]
     },
     "metadata": {},
     "output_type": "display_data"
    }
   ],
   "source": [
    "from sklearn.cluster import KMeans\n",
    "from sklearn.metrics.pairwise import pairwise_distances_argmin\n",
    "from sklearn.datasets.samples_generator import make_blobs\n",
    "\n",
    "# #############################################################################\n",
    "# Generate sample data\n",
    "np.random.seed(42)\n",
    "centers = [[-2, 0], [2, 0], [0, 3]]\n",
    "n_clusters = len(centers)\n",
    "X, labels_true = make_blobs(n_samples=10000, centers=centers, cluster_std=0.7)\n",
    "\n",
    "# #############################################################################\n",
    "# Compute clustering with Means\n",
    "\n",
    "k_means = KMeans(init='k-means++', n_clusters=3, n_init=10)\n",
    "k_means.fit(X)\n",
    "\n",
    "# Plot result\n",
    "plt.figure(figsize=(7, 5))\n",
    "colors = ['#4EACC5', '#FF9C34', '#4E9A06']\n",
    "\n",
    "k_means_cluster_centers = k_means.cluster_centers_\n",
    "k_means_labels = pairwise_distances_argmin(X, k_means_cluster_centers)\n",
    "\n",
    "for k, col in zip(range(n_clusters), colors):\n",
    "    my_members = k_means_labels == k\n",
    "    cluster_center = k_means_cluster_centers[k]\n",
    "    plt.plot(X[my_members, 0], X[my_members, 1], 'w', \n",
    "             markerfacecolor=col, marker='.')\n",
    "    plt.plot(cluster_center[0], cluster_center[1], 'o', \n",
    "             markerfacecolor=col, markeredgecolor='k', markersize=6)\n",
    "plt.title('KMeans')\n",
    "plt.xticks(())\n",
    "plt.yticks(())\n",
    "\n",
    "plt.show()"
   ]
  },
  {
   "cell_type": "markdown",
   "metadata": {},
   "source": [
    "## 8. Random Forest\n",
    "Random Forest is a trademark term for **an ensemble of decision trees**. In Random Forest, we’ve collection of decision trees (so known as “Forest”). To classify a new object based on attributes, each tree gives a classification and we say the tree “votes” for that class. The forest chooses the classification having the most votes (over all the trees in the forest).\n",
    "\n",
    "Each tree is planted & grown as follows:\n",
    "\n",
    "1. If the number of cases in the training set is N, then sample of N cases is taken at random but with replacement. This sample will be the training set for growing the tree.\n",
    "2. If there are M input variables, a number m<<M is specified such that at each node, m variables are selected at random out of the M and the best split on these m is used to split the node. The value of m is held constant during the forest growing.\n",
    "3. Each tree is grown to the largest extent possible. There is no pruning."
   ]
  },
  {
   "cell_type": "code",
   "execution_count": 82,
   "metadata": {},
   "outputs": [
    {
     "data": {
      "image/png": "[encoded data removed]",
      "text/plain": [
       "<Figure size 360x360 with 1 Axes>"
      ]
     },
     "metadata": {
      "needs_background": "light"
     },
     "output_type": "display_data"
    }
   ],
   "source": [
    "from sklearn.ensemble import RandomForestClassifier\n",
    "rf_clf = RandomForestClassifier(n_estimators=3, max_depth=3, random_state=42)\n",
    "rf_clf.fit(iris.data, iris.target)\n",
    "\n",
    "prediction = rf_clf.predict(iris.data)\n",
    "# calculate confusion matrices\n",
    "cm = confusion_matrix(y_true=iris.target, y_pred=prediction)\n",
    "acc = rf_clf.score(X=iris.data, y=iris.target)\n",
    "# visualization with seaborn\n",
    "plt.figure(figsize=(5,5))\n",
    "sns.heatmap(cm, annot=True, fmt='.0f', linewidths=.5, square = True, cbar=False);\n",
    "plt.ylabel('Actual label');\n",
    "plt.xlabel('Predicted label');\n",
    "all_sample_title = 'Accuracy Score: %.1f'%(acc*100) + '%'\n",
    "plt.title(all_sample_title, size = 12);"
   ]
  },
  {
   "cell_type": "code",
   "execution_count": 83,
   "metadata": {},
   "outputs": [
    {
     "data": {
      "text/plain": [
       "DecisionTreeClassifier(max_depth=3, max_features='auto',\n",
       "                       random_state=1608637542)"
      ]
     },
     "execution_count": 83,
     "metadata": {},
     "output_type": "execute_result"
    }
   ],
   "source": [
    "rf_clf.estimators_[0]"
   ]
  },
  {
   "cell_type": "code",
   "execution_count": 84,
   "metadata": {},
   "outputs": [
    {
     "data": {
      "image/svg+xml": [
       "<?xml version=\"1.0\" encoding=\"UTF-8\" standalone=\"no\"?>\r\n",
       "<!DOCTYPE svg PUBLIC \"-//W3C//DTD SVG 1.1//EN\"\r\n",
       " \"http://www.w3.org/Graphics/SVG/1.1/DTD/svg11.dtd\">\r\n",
       "<!-- Generated by graphviz version 2.38.0 (20140413.2041)\r\n",
       " -->\r\n",
       "<!-- Title: Tree Pages: 1 -->\r\n",
       "<svg width=\"566pt\" height=\"433pt\"\r\n",
       " viewBox=\"0.00 0.00 566.00 433.00\" xmlns=\"http://www.w3.org/2000/svg\" xmlns:xlink=\"http://www.w3.org/1999/xlink\">\r\n",
       "<g id=\"graph0\" class=\"graph\" transform=\"scale(1 1) rotate(0) translate(4 429)\">\r\n",
       "<title>Tree</title>\r\n",
       "<polygon fill=\"white\" stroke=\"none\" points=\"-4,4 -4,-429 562,-429 562,4 -4,4\"/>\r\n",
       "<!-- 0 -->\r\n",
       "<g id=\"node1\" class=\"node\"><title>0</title>\r\n",
       "<path fill=\"#fdfffe\" stroke=\"black\" d=\"M266,-425C266,-425 139,-425 139,-425 133,-425 127,-419 127,-413 127,-413 127,-354 127,-354 127,-348 133,-342 139,-342 139,-342 266,-342 266,-342 272,-342 278,-348 278,-354 278,-354 278,-413 278,-413 278,-419 272,-425 266,-425\"/>\r\n",
       "<text text-anchor=\"start\" x=\"135\" y=\"-409.8\" font-family=\"Helvetica,sans-Serif\" font-size=\"14.00\">petal width (cm) ≤ 0.8</text>\r\n",
       "<text text-anchor=\"start\" x=\"165\" y=\"-394.8\" font-family=\"Helvetica,sans-Serif\" font-size=\"14.00\">gini = 0.666</text>\r\n",
       "<text text-anchor=\"start\" x=\"155\" y=\"-379.8\" font-family=\"Helvetica,sans-Serif\" font-size=\"14.00\">samples = 101</text>\r\n",
       "<text text-anchor=\"start\" x=\"142\" y=\"-364.8\" font-family=\"Helvetica,sans-Serif\" font-size=\"14.00\">value = [51, 52, 47]</text>\r\n",
       "<text text-anchor=\"start\" x=\"147\" y=\"-349.8\" font-family=\"Helvetica,sans-Serif\" font-size=\"14.00\">class = versicolor</text>\r\n",
       "</g>\r\n",
       "<!-- 1 -->\r\n",
       "<g id=\"node2\" class=\"node\"><title>1</title>\r\n",
       "<path fill=\"#e58139\" stroke=\"black\" d=\"M172,-298.5C172,-298.5 75,-298.5 75,-298.5 69,-298.5 63,-292.5 63,-286.5 63,-286.5 63,-242.5 63,-242.5 63,-236.5 69,-230.5 75,-230.5 75,-230.5 172,-230.5 172,-230.5 178,-230.5 184,-236.5 184,-242.5 184,-242.5 184,-286.5 184,-286.5 184,-292.5 178,-298.5 172,-298.5\"/>\r\n",
       "<text text-anchor=\"start\" x=\"94.5\" y=\"-283.3\" font-family=\"Helvetica,sans-Serif\" font-size=\"14.00\">gini = 0.0</text>\r\n",
       "<text text-anchor=\"start\" x=\"80\" y=\"-268.3\" font-family=\"Helvetica,sans-Serif\" font-size=\"14.00\">samples = 31</text>\r\n",
       "<text text-anchor=\"start\" x=\"71\" y=\"-253.3\" font-family=\"Helvetica,sans-Serif\" font-size=\"14.00\">value = [51, 0, 0]</text>\r\n",
       "<text text-anchor=\"start\" x=\"77.5\" y=\"-238.3\" font-family=\"Helvetica,sans-Serif\" font-size=\"14.00\">class = setosa</text>\r\n",
       "</g>\r\n",
       "<!-- 0&#45;&gt;1 -->\r\n",
       "<g id=\"edge1\" class=\"edge\"><title>0&#45;&gt;1</title>\r\n",
       "<path fill=\"none\" stroke=\"black\" d=\"M175.091,-341.907C167.492,-330.652 159.231,-318.418 151.593,-307.106\"/>\r\n",
       "<polygon fill=\"black\" stroke=\"black\" points=\"154.391,-304.996 145.895,-298.667 148.59,-308.913 154.391,-304.996\"/>\r\n",
       "<text text-anchor=\"middle\" x=\"141.136\" y=\"-319.51\" font-family=\"Helvetica,sans-Serif\" font-size=\"14.00\">True</text>\r\n",
       "</g>\r\n",
       "<!-- 2 -->\r\n",
       "<g id=\"node3\" class=\"node\"><title>2</title>\r\n",
       "<path fill=\"#ecfcf3\" stroke=\"black\" d=\"M349,-306C349,-306 214,-306 214,-306 208,-306 202,-300 202,-294 202,-294 202,-235 202,-235 202,-229 208,-223 214,-223 214,-223 349,-223 349,-223 355,-223 361,-229 361,-235 361,-235 361,-294 361,-294 361,-300 355,-306 349,-306\"/>\r\n",
       "<text text-anchor=\"start\" x=\"210\" y=\"-290.8\" font-family=\"Helvetica,sans-Serif\" font-size=\"14.00\">petal width (cm) ≤ 1.75</text>\r\n",
       "<text text-anchor=\"start\" x=\"244\" y=\"-275.8\" font-family=\"Helvetica,sans-Serif\" font-size=\"14.00\">gini = 0.499</text>\r\n",
       "<text text-anchor=\"start\" x=\"238\" y=\"-260.8\" font-family=\"Helvetica,sans-Serif\" font-size=\"14.00\">samples = 70</text>\r\n",
       "<text text-anchor=\"start\" x=\"225\" y=\"-245.8\" font-family=\"Helvetica,sans-Serif\" font-size=\"14.00\">value = [0, 52, 47]</text>\r\n",
       "<text text-anchor=\"start\" x=\"226\" y=\"-230.8\" font-family=\"Helvetica,sans-Serif\" font-size=\"14.00\">class = versicolor</text>\r\n",
       "</g>\r\n",
       "<!-- 0&#45;&gt;2 -->\r\n",
       "<g id=\"edge2\" class=\"edge\"><title>0&#45;&gt;2</title>\r\n",
       "<path fill=\"none\" stroke=\"black\" d=\"M229.909,-341.907C235.914,-333.014 242.331,-323.509 248.529,-314.331\"/>\r\n",
       "<polygon fill=\"black\" stroke=\"black\" points=\"251.444,-316.267 254.14,-306.021 245.643,-312.35 251.444,-316.267\"/>\r\n",
       "<text text-anchor=\"middle\" x=\"258.898\" y=\"-326.864\" font-family=\"Helvetica,sans-Serif\" font-size=\"14.00\">False</text>\r\n",
       "</g>\r\n",
       "<!-- 3 -->\r\n",
       "<g id=\"node4\" class=\"node\"><title>3</title>\r\n",
       "<path fill=\"#41e686\" stroke=\"black\" d=\"M258,-187C258,-187 125,-187 125,-187 119,-187 113,-181 113,-175 113,-175 113,-116 113,-116 113,-110 119,-104 125,-104 125,-104 258,-104 258,-104 264,-104 270,-110 270,-116 270,-116 270,-175 270,-175 270,-181 264,-187 258,-187\"/>\r\n",
       "<text text-anchor=\"start\" x=\"121\" y=\"-171.8\" font-family=\"Helvetica,sans-Serif\" font-size=\"14.00\">petal length (cm) ≤ 5.4</text>\r\n",
       "<text text-anchor=\"start\" x=\"154\" y=\"-156.8\" font-family=\"Helvetica,sans-Serif\" font-size=\"14.00\">gini = 0.075</text>\r\n",
       "<text text-anchor=\"start\" x=\"148\" y=\"-141.8\" font-family=\"Helvetica,sans-Serif\" font-size=\"14.00\">samples = 35</text>\r\n",
       "<text text-anchor=\"start\" x=\"139\" y=\"-126.8\" font-family=\"Helvetica,sans-Serif\" font-size=\"14.00\">value = [0, 49, 2]</text>\r\n",
       "<text text-anchor=\"start\" x=\"136\" y=\"-111.8\" font-family=\"Helvetica,sans-Serif\" font-size=\"14.00\">class = versicolor</text>\r\n",
       "</g>\r\n",
       "<!-- 2&#45;&gt;3 -->\r\n",
       "<g id=\"edge3\" class=\"edge\"><title>2&#45;&gt;3</title>\r\n",
       "<path fill=\"none\" stroke=\"black\" d=\"M250.275,-222.907C243.364,-213.923 235.973,-204.315 228.846,-195.05\"/>\r\n",
       "<polygon fill=\"black\" stroke=\"black\" points=\"231.541,-192.813 222.67,-187.021 225.993,-197.081 231.541,-192.813\"/>\r\n",
       "</g>\r\n",
       "<!-- 6 -->\r\n",
       "<g id=\"node7\" class=\"node\"><title>6</title>\r\n",
       "<path fill=\"#8946e7\" stroke=\"black\" d=\"M445,-187C445,-187 300,-187 300,-187 294,-187 288,-181 288,-175 288,-175 288,-116 288,-116 288,-110 294,-104 300,-104 300,-104 445,-104 445,-104 451,-104 457,-110 457,-116 457,-116 457,-175 457,-175 457,-181 451,-187 445,-187\"/>\r\n",
       "<text text-anchor=\"start\" x=\"296\" y=\"-171.8\" font-family=\"Helvetica,sans-Serif\" font-size=\"14.00\">sepal length (cm) ≤ 5.95</text>\r\n",
       "<text text-anchor=\"start\" x=\"335\" y=\"-156.8\" font-family=\"Helvetica,sans-Serif\" font-size=\"14.00\">gini = 0.117</text>\r\n",
       "<text text-anchor=\"start\" x=\"329\" y=\"-141.8\" font-family=\"Helvetica,sans-Serif\" font-size=\"14.00\">samples = 35</text>\r\n",
       "<text text-anchor=\"start\" x=\"320\" y=\"-126.8\" font-family=\"Helvetica,sans-Serif\" font-size=\"14.00\">value = [0, 3, 45]</text>\r\n",
       "<text text-anchor=\"start\" x=\"322.5\" y=\"-111.8\" font-family=\"Helvetica,sans-Serif\" font-size=\"14.00\">class = virginica</text>\r\n",
       "</g>\r\n",
       "<!-- 2&#45;&gt;6 -->\r\n",
       "<g id=\"edge6\" class=\"edge\"><title>2&#45;&gt;6</title>\r\n",
       "<path fill=\"none\" stroke=\"black\" d=\"M313.072,-222.907C320.06,-213.923 327.533,-204.315 334.739,-195.05\"/>\r\n",
       "<polygon fill=\"black\" stroke=\"black\" points=\"337.607,-197.063 340.984,-187.021 332.082,-192.766 337.607,-197.063\"/>\r\n",
       "</g>\r\n",
       "<!-- 4 -->\r\n",
       "<g id=\"node5\" class=\"node\"><title>4</title>\r\n",
       "<path fill=\"#3de684\" stroke=\"black\" d=\"M115,-68C115,-68 12,-68 12,-68 6,-68 -7.10543e-015,-62 -7.10543e-015,-56 -7.10543e-015,-56 -7.10543e-015,-12 -7.10543e-015,-12 -7.10543e-015,-6 6,-0 12,-0 12,-0 115,-0 115,-0 121,-0 127,-6 127,-12 127,-12 127,-56 127,-56 127,-62 121,-68 115,-68\"/>\r\n",
       "<text text-anchor=\"start\" x=\"26\" y=\"-52.8\" font-family=\"Helvetica,sans-Serif\" font-size=\"14.00\">gini = 0.039</text>\r\n",
       "<text text-anchor=\"start\" x=\"20\" y=\"-37.8\" font-family=\"Helvetica,sans-Serif\" font-size=\"14.00\">samples = 34</text>\r\n",
       "<text text-anchor=\"start\" x=\"11\" y=\"-22.8\" font-family=\"Helvetica,sans-Serif\" font-size=\"14.00\">value = [0, 49, 1]</text>\r\n",
       "<text text-anchor=\"start\" x=\"8\" y=\"-7.8\" font-family=\"Helvetica,sans-Serif\" font-size=\"14.00\">class = versicolor</text>\r\n",
       "</g>\r\n",
       "<!-- 3&#45;&gt;4 -->\r\n",
       "<g id=\"edge4\" class=\"edge\"><title>3&#45;&gt;4</title>\r\n",
       "<path fill=\"none\" stroke=\"black\" d=\"M143.838,-103.726C132.856,-94.3318 121.186,-84.349 110.244,-74.9883\"/>\r\n",
       "<polygon fill=\"black\" stroke=\"black\" points=\"112.3,-72.1406 102.426,-68.2996 107.749,-77.4598 112.3,-72.1406\"/>\r\n",
       "</g>\r\n",
       "<!-- 5 -->\r\n",
       "<g id=\"node6\" class=\"node\"><title>5</title>\r\n",
       "<path fill=\"#8139e5\" stroke=\"black\" d=\"M249.5,-68C249.5,-68 157.5,-68 157.5,-68 151.5,-68 145.5,-62 145.5,-56 145.5,-56 145.5,-12 145.5,-12 145.5,-6 151.5,-0 157.5,-0 157.5,-0 249.5,-0 249.5,-0 255.5,-0 261.5,-6 261.5,-12 261.5,-12 261.5,-56 261.5,-56 261.5,-62 255.5,-68 249.5,-68\"/>\r\n",
       "<text text-anchor=\"start\" x=\"174.5\" y=\"-52.8\" font-family=\"Helvetica,sans-Serif\" font-size=\"14.00\">gini = 0.0</text>\r\n",
       "<text text-anchor=\"start\" x=\"164\" y=\"-37.8\" font-family=\"Helvetica,sans-Serif\" font-size=\"14.00\">samples = 1</text>\r\n",
       "<text text-anchor=\"start\" x=\"155\" y=\"-22.8\" font-family=\"Helvetica,sans-Serif\" font-size=\"14.00\">value = [0, 0, 1]</text>\r\n",
       "<text text-anchor=\"start\" x=\"153.5\" y=\"-7.8\" font-family=\"Helvetica,sans-Serif\" font-size=\"14.00\">class = virginica</text>\r\n",
       "</g>\r\n",
       "<!-- 3&#45;&gt;5 -->\r\n",
       "<g id=\"edge5\" class=\"edge\"><title>3&#45;&gt;5</title>\r\n",
       "<path fill=\"none\" stroke=\"black\" d=\"M195.968,-103.726C196.878,-95.4263 197.838,-86.6671 198.757,-78.2834\"/>\r\n",
       "<polygon fill=\"black\" stroke=\"black\" points=\"202.24,-78.6214 199.851,-68.2996 195.282,-77.8588 202.24,-78.6214\"/>\r\n",
       "</g>\r\n",
       "<!-- 7 -->\r\n",
       "<g id=\"node8\" class=\"node\"><title>7</title>\r\n",
       "<path fill=\"#c09cf2\" stroke=\"black\" d=\"M406.5,-68C406.5,-68 314.5,-68 314.5,-68 308.5,-68 302.5,-62 302.5,-56 302.5,-56 302.5,-12 302.5,-12 302.5,-6 308.5,-0 314.5,-0 314.5,-0 406.5,-0 406.5,-0 412.5,-0 418.5,-6 418.5,-12 418.5,-12 418.5,-56 418.5,-56 418.5,-62 412.5,-68 406.5,-68\"/>\r\n",
       "<text text-anchor=\"start\" x=\"323\" y=\"-52.8\" font-family=\"Helvetica,sans-Serif\" font-size=\"14.00\">gini = 0.444</text>\r\n",
       "<text text-anchor=\"start\" x=\"321\" y=\"-37.8\" font-family=\"Helvetica,sans-Serif\" font-size=\"14.00\">samples = 5</text>\r\n",
       "<text text-anchor=\"start\" x=\"312\" y=\"-22.8\" font-family=\"Helvetica,sans-Serif\" font-size=\"14.00\">value = [0, 3, 6]</text>\r\n",
       "<text text-anchor=\"start\" x=\"310.5\" y=\"-7.8\" font-family=\"Helvetica,sans-Serif\" font-size=\"14.00\">class = virginica</text>\r\n",
       "</g>\r\n",
       "<!-- 6&#45;&gt;7 -->\r\n",
       "<g id=\"edge7\" class=\"edge\"><title>6&#45;&gt;7</title>\r\n",
       "<path fill=\"none\" stroke=\"black\" d=\"M368.032,-103.726C367.122,-95.4263 366.162,-86.6671 365.243,-78.2834\"/>\r\n",
       "<polygon fill=\"black\" stroke=\"black\" points=\"368.718,-77.8588 364.149,-68.2996 361.76,-78.6214 368.718,-77.8588\"/>\r\n",
       "</g>\r\n",
       "<!-- 8 -->\r\n",
       "<g id=\"node9\" class=\"node\"><title>8</title>\r\n",
       "<path fill=\"#8139e5\" stroke=\"black\" d=\"M546,-68C546,-68 449,-68 449,-68 443,-68 437,-62 437,-56 437,-56 437,-12 437,-12 437,-6 443,-0 449,-0 449,-0 546,-0 546,-0 552,-0 558,-6 558,-12 558,-12 558,-56 558,-56 558,-62 552,-68 546,-68\"/>\r\n",
       "<text text-anchor=\"start\" x=\"468.5\" y=\"-52.8\" font-family=\"Helvetica,sans-Serif\" font-size=\"14.00\">gini = 0.0</text>\r\n",
       "<text text-anchor=\"start\" x=\"454\" y=\"-37.8\" font-family=\"Helvetica,sans-Serif\" font-size=\"14.00\">samples = 30</text>\r\n",
       "<text text-anchor=\"start\" x=\"445\" y=\"-22.8\" font-family=\"Helvetica,sans-Serif\" font-size=\"14.00\">value = [0, 0, 39]</text>\r\n",
       "<text text-anchor=\"start\" x=\"447.5\" y=\"-7.8\" font-family=\"Helvetica,sans-Serif\" font-size=\"14.00\">class = virginica</text>\r\n",
       "</g>\r\n",
       "<!-- 6&#45;&gt;8 -->\r\n",
       "<g id=\"edge8\" class=\"edge\"><title>6&#45;&gt;8</title>\r\n",
       "<path fill=\"none\" stroke=\"black\" d=\"M419.045,-103.726C429.77,-94.3318 441.166,-84.349 451.851,-74.9883\"/>\r\n",
       "<polygon fill=\"black\" stroke=\"black\" points=\"454.271,-77.5217 459.487,-68.2996 449.658,-72.2562 454.271,-77.5217\"/>\r\n",
       "</g>\r\n",
       "</g>\r\n",
       "</svg>\r\n"
      ],
      "text/plain": [
       "<graphviz.files.Source at 0x230515d7fa0>"
      ]
     },
     "execution_count": 84,
     "metadata": {},
     "output_type": "execute_result"
    }
   ],
   "source": [
    "dot_data = tree.export_graphviz(rf_clf.estimators_[0], out_file=None, \n",
    "                      feature_names=iris.feature_names,  \n",
    "                      class_names=iris.target_names,  \n",
    "                      filled=True, rounded=True,  \n",
    "                      special_characters=True)  \n",
    "graph = graphviz.Source(dot_data)\n",
    "graph"
   ]
  },
  {
   "cell_type": "markdown",
   "metadata": {},
   "source": [
    "## 9. Dimensionality Reduction Algorithms\n",
    "\n",
    "In the last 4-5 years, there has been an exponential increase in data capturing at every possible stages. Corporates/ Government Agencies/ Research organisations are not only coming with new sources but also they are capturing data in great detail.\n",
    "\n",
    "For example: E-commerce companies are capturing more details about customer like their demographics, web crawling history, what they like or dislike, purchase history, feedback and many others to give them personalized attention more than your nearest grocery shopkeeper.\n",
    "\n",
    "As a data scientist, the data we are offered also consist of many features, this sounds good for building good robust model but there is a challenge. How’d you identify highly significant variable(s) out 1000 or 2000? In such cases, dimensionality reduction algorithm helps us along with various other algorithms like Decision Tree, Random Forest, PCA, Factor Analysis, Identify based on correlation matrix, missing value ratio and others."
   ]
  },
  {
   "cell_type": "code",
   "execution_count": 85,
   "metadata": {},
   "outputs": [
    {
     "data": {
      "text/plain": [
       "<matplotlib.collections.PathCollection at 0x23054465d30>"
      ]
     },
     "execution_count": 85,
     "metadata": {},
     "output_type": "execute_result"
    },
    {
     "data": {
      "image/png": "[encoded data removed]",
      "text/plain": [
       "<Figure size 432x288 with 1 Axes>"
      ]
     },
     "metadata": {
      "needs_background": "light"
     },
     "output_type": "display_data"
    }
   ],
   "source": [
    "# code with PCA nad iris data\n",
    "from sklearn import decomposition\n",
    "pca = decomposition.PCA(n_components=2)\n",
    "X = pca.fit_transform(breast_cancer.data)\n",
    "\n",
    "plt.scatter(X[:, 0], X[:, 1], c=breast_cancer.target, cmap=cmap_bold,edgecolor='k', s=20)"
   ]
  },
  {
   "cell_type": "markdown",
   "metadata": {},
   "source": [
    "## 10. Gradient Boosting Algorithms\n",
    "\n",
    "### 10.1. GBM\n",
    "\n",
    "GBM is a boosting algorithm used when we **deal with plenty of data** to make a prediction with high prediction power. Boosting is actually an **ensemble of learning algorithms** which combines the prediction of several base estimators in order to improve robustness over a single estimator. It combines multiple weak or average predictors to a build strong predictor. These boosting algorithms always work well in data science competitions like Kaggle, AV Hackathon, CrowdAnalytix."
   ]
  },
  {
   "cell_type": "code",
   "execution_count": 86,
   "metadata": {},
   "outputs": [
    {
     "data": {
      "image/png": "[encoded data removed]",
      "text/plain": [
       "<Figure size 720x360 with 2 Axes>"
      ]
     },
     "metadata": {
      "needs_background": "light"
     },
     "output_type": "display_data"
    }
   ],
   "source": [
    "# sample code\n",
    "from sklearn.datasets import make_classification\n",
    "from sklearn.ensemble import GradientBoostingClassifier\n",
    "\n",
    "# generate data for classification\n",
    "X, y = make_classification(n_samples=100000, n_features=50, n_classes=2)\n",
    "\n",
    "X_train, X_test, y_train, y_test = train_test_split(X, y, test_size=0.66)\n",
    "grd = GradientBoostingClassifier(n_estimators=10)\n",
    "\n",
    "grd.fit(X_train, y_train)\n",
    "y_train_pred = grd.predict(X_train)\n",
    "y_test_pred = grd.predict(X_test)\n",
    "\n",
    "train_acc = grd.score(X=X_train, y=y_train)\n",
    "test_acc = grd.score(X=X_test, y=y_test)\n",
    "\n",
    "# calculate confusion matrices\n",
    "cm_train = confusion_matrix(y_true=y_train, y_pred=y_train_pred)\n",
    "cm_test = confusion_matrix(y_true=y_test, y_pred=y_test_pred)\n",
    "# visualization with seaborn\n",
    "plt.figure(figsize=(10,5))\n",
    "plt.subplot(1,2,1)\n",
    "sns.heatmap(cm_train, annot=True, fmt='.0f', linewidths=.5, square = True, cmap = 'Blues_r', cbar=False);\n",
    "plt.ylabel('Actual label');\n",
    "plt.xlabel('Predicted label');\n",
    "all_sample_title = 'Accuracy Score on train: %.1f'%(train_acc*100) + '%'\n",
    "plt.title(all_sample_title, size = 12);\n",
    "\n",
    "plt.subplot(1,2,2)\n",
    "sns.heatmap(cm_test, annot=True, fmt='.0f', linewidths=.5, square = True, cbar=False);\n",
    "plt.ylabel('Actual label');\n",
    "plt.xlabel('Predicted label');\n",
    "all_sample_title = 'Accuracy Score on test: %.1f' % (test_acc*100) + '%'\n",
    "plt.title(all_sample_title, size = 12);"
   ]
  },
  {
   "cell_type": "code",
   "execution_count": 87,
   "metadata": {},
   "outputs": [
    {
     "name": "stdout",
     "output_type": "stream",
     "text": [
      "================================================== \n",
      "On train set:\n",
      "\n",
      "              precision    recall  f1-score   support\n",
      "\n",
      "           0       0.92      0.96      0.93     16981\n",
      "           1       0.95      0.91      0.93     17019\n",
      "\n",
      "    accuracy                           0.93     34000\n",
      "   macro avg       0.93      0.93      0.93     34000\n",
      "weighted avg       0.93      0.93      0.93     34000\n",
      "\n",
      "================================================== \n",
      "On test set:\n",
      "\n",
      "              precision    recall  f1-score   support\n",
      "\n",
      "           0       0.91      0.95      0.93     32952\n",
      "           1       0.95      0.91      0.93     33048\n",
      "\n",
      "    accuracy                           0.93     66000\n",
      "   macro avg       0.93      0.93      0.93     66000\n",
      "weighted avg       0.93      0.93      0.93     66000\n",
      "\n"
     ]
    }
   ],
   "source": [
    "print('='*50, '\\nOn train set:\\n')\n",
    "print(classification_report(y_train, y_train_pred))\n",
    "print('='*50, '\\nOn test set:\\n')\n",
    "print(classification_report(y_test, y_test_pred))"
   ]
  },
  {
   "cell_type": "markdown",
   "metadata": {},
   "source": [
    "### 10.2. XGBoost\n",
    "\n",
    "Another classic gradient boosting algorithm that’s known to be the decisive choice between winning and losing in some Kaggle competitions.\n",
    "\n",
    "The XGBoost has an immensely high predictive power which makes it the best choice for accuracy in events as it possesses both linear model and the tree learning algorithm, making the algorithm almost 10x faster than existing gradient booster techniques.\n",
    "\n",
    "The support includes various objective functions, including regression, classification and ranking.\n",
    "\n",
    "One of the most interesting things about the XGBoost is that it is also called a regularized boosting technique. This helps to reduce overfit modelling and has a massive support for a range of languages such as Scala, Java, R, Python, Julia and C++.\n",
    "\n",
    "Supports distributed and widespread training on many machines that encompass GCE, AWS, Azure and Yarn clusters. XGBoost can also be integrated with Spark, Flink and other cloud dataflow systems with a built in cross validation at each iteration of the boosting process.\n",
    "\n",
    "### 10.3. LightGBM\n",
    "\n",
    "LightGBM is a gradient boosting framework that uses tree based learning algorithms. It is designed to be distributed and efficient with the following advantages:\n",
    "\n",
    "- Faster training speed and higher efficiency\n",
    "- Lower memory usage\n",
    "- Better accuracy\n",
    "- Parallel and GPU learning supported\n",
    "- Capable of handling large-scale data\n",
    "\n",
    "The framework is a fast and high-performance gradient boosting one based on decision tree algorithms, used for ranking, classification and many other machine learning tasks. It was developed under the Distributed Machine Learning Toolkit Project of Microsoft.\n",
    "\n",
    "Since the LightGBM is based on decision tree algorithms, it splits the tree leaf wise with the best fit whereas other boosting algorithms split the tree depth wise or level wise rather than leaf-wise. So when growing on the same leaf in Light GBM, the leaf-wise algorithm can reduce more loss than the level-wise algorithm and hence results in much better accuracy which can rarely be achieved by any of the existing boosting algorithms.\n",
    "\n",
    "Also, it is surprisingly very fast, hence the word ‘Light’."
   ]
  },
  {
   "cell_type": "code",
   "execution_count": null,
   "metadata": {},
   "outputs": [],
   "source": []
  },
  {
   "cell_type": "code",
   "execution_count": null,
   "metadata": {},
   "outputs": [],
   "source": []
  }
 ],
 "metadata": {
  "kernelspec": {
   "display_name": "Python 3",
   "language": "python",
   "name": "python3"
  },
  "language_info": {
   "codemirror_mode": {
    "name": "ipython",
    "version": 3
   },
   "file_extension": ".py",
   "mimetype": "text/x-python",
   "name": "python",
   "nbconvert_exporter": "python",
   "pygments_lexer": "ipython3",
   "version": "3.9.1"
  }
 },
 "nbformat": 4,
 "nbformat_minor": 4
}
